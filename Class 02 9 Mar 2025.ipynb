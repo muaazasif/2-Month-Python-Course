{
 "cells": [
  {
   "cell_type": "code",
   "execution_count": 7,
   "id": "61699a0a",
   "metadata": {},
   "outputs": [],
   "source": [
    "weight=350\n",
    "time=6"
   ]
  },
  {
   "cell_type": "code",
   "execution_count": 8,
   "id": "bf938f43",
   "metadata": {},
   "outputs": [
    {
     "name": "stdout",
     "output_type": "stream",
     "text": [
      "try to recruit him\n"
     ]
    }
   ],
   "source": [
    "if weight > 300 or time < 6:\n",
    "    status = \"try to recruit him\"\n",
    "    print(status)"
   ]
  },
  {
   "cell_type": "code",
   "execution_count": 3,
   "id": "56cdfc8c",
   "metadata": {},
   "outputs": [
    {
     "data": {
      "text/plain": [
       "'try to recruit him'"
      ]
     },
     "execution_count": 3,
     "metadata": {},
     "output_type": "execute_result"
    }
   ],
   "source": [
    "status"
   ]
  },
  {
   "cell_type": "code",
   "execution_count": 9,
   "id": "e6e125d1",
   "metadata": {},
   "outputs": [],
   "source": [
    "# # Student Enrol System Gender F => and age >24 Class Timing 9 to 11\n",
    "# Gender M => or age >20 class Timing 11 to 1"
   ]
  },
  {
   "cell_type": "code",
   "execution_count": 17,
   "id": "51b64ca6",
   "metadata": {},
   "outputs": [
    {
     "data": {
      "text/plain": [
       "'\\ngender = \"F\"\\nage = 25\\n\\nif gender == \"M\" or age < 20 :\\n    print(\"class Timing 11 to 1\")\\nelif gender == \"F\" and age > 24 :\\n    print(\"class Timing 9 to 11\")\\n    \\n'"
      ]
     },
     "execution_count": 17,
     "metadata": {},
     "output_type": "execute_result"
    }
   ],
   "source": [
    "'''\n",
    "gender = \"F\"\n",
    "age = 25\n",
    "\n",
    "if gender == \"M\" or age < 20 :\n",
    "    print(\"class Timing 11 to 1\")\n",
    "elif gender == \"F\" and age > 24 :\n",
    "    print(\"class Timing 9 to 11\")\n",
    "    \n",
    "'''"
   ]
  },
  {
   "cell_type": "code",
   "execution_count": 29,
   "id": "3283284a",
   "metadata": {},
   "outputs": [
    {
     "name": "stdout",
     "output_type": "stream",
     "text": [
      "['Atlanta', 'Baltimore', 'Chicago', 'Denver', 'Los Angeles', 'Seattle']\n"
     ]
    }
   ],
   "source": [
    "cities = [\"Atlanta\", \"Baltimore\", \"Chicago\",\n",
    "\"Denver\", \"Los Angeles\", \"Seattle\"]\n",
    "print(cities)"
   ]
  },
  {
   "cell_type": "code",
   "execution_count": 30,
   "id": "3a9d0250",
   "metadata": {},
   "outputs": [
    {
     "name": "stdout",
     "output_type": "stream",
     "text": [
      "Welcome to Denver\n"
     ]
    }
   ],
   "source": [
    "print(\"Welcome to \" + cities[3])"
   ]
  },
  {
   "cell_type": "code",
   "execution_count": 31,
   "id": "0828d1ba",
   "metadata": {},
   "outputs": [],
   "source": [
    "cities.append(\"New York\")\n",
    "cities.append(\"uk\")"
   ]
  },
  {
   "cell_type": "code",
   "execution_count": 32,
   "id": "153e09ee",
   "metadata": {},
   "outputs": [
    {
     "data": {
      "text/plain": [
       "['Atlanta',\n",
       " 'Baltimore',\n",
       " 'Chicago',\n",
       " 'Denver',\n",
       " 'Los Angeles',\n",
       " 'Seattle',\n",
       " 'New York',\n",
       " 'uk']"
      ]
     },
     "execution_count": 32,
     "metadata": {},
     "output_type": "execute_result"
    }
   ],
   "source": [
    "cities"
   ]
  },
  {
   "cell_type": "code",
   "execution_count": 33,
   "id": "cfcfaa49",
   "metadata": {},
   "outputs": [],
   "source": [
    "cities = cities + [\"Dubuque\", \"New Orleans\"]\n"
   ]
  },
  {
   "cell_type": "code",
   "execution_count": 34,
   "id": "ab04b110",
   "metadata": {},
   "outputs": [
    {
     "data": {
      "text/plain": [
       "['Atlanta',\n",
       " 'Baltimore',\n",
       " 'Chicago',\n",
       " 'Denver',\n",
       " 'Los Angeles',\n",
       " 'Seattle',\n",
       " 'New York',\n",
       " 'uk',\n",
       " 'Dubuque',\n",
       " 'New Orleans']"
      ]
     },
     "execution_count": 34,
     "metadata": {},
     "output_type": "execute_result"
    }
   ],
   "source": [
    "cities"
   ]
  },
  {
   "cell_type": "code",
   "execution_count": 35,
   "id": "3f474484",
   "metadata": {},
   "outputs": [],
   "source": [
    "cities.insert(0, \"New York\")"
   ]
  },
  {
   "cell_type": "code",
   "execution_count": 42,
   "id": "f7c51154",
   "metadata": {},
   "outputs": [
    {
     "data": {
      "text/plain": [
       "['New York',\n",
       " 'Atlanta',\n",
       " 'Baltimore',\n",
       " 'Chicago',\n",
       " 'Denver',\n",
       " 'Los Angeles',\n",
       " 'Seattle',\n",
       " 'New York',\n",
       " 'uk',\n",
       " 'Dubuque',\n",
       " 'New Orleans']"
      ]
     },
     "execution_count": 42,
     "metadata": {},
     "output_type": "execute_result"
    }
   ],
   "source": [
    "cities"
   ]
  },
  {
   "cell_type": "code",
   "execution_count": 56,
   "id": "6393b172",
   "metadata": {},
   "outputs": [],
   "source": [
    "smaller_list_of_cities = cities[:1]\n"
   ]
  },
  {
   "cell_type": "code",
   "execution_count": 57,
   "id": "daf0a257",
   "metadata": {},
   "outputs": [
    {
     "data": {
      "text/plain": [
       "['New York']"
      ]
     },
     "execution_count": 57,
     "metadata": {},
     "output_type": "execute_result"
    }
   ],
   "source": [
    "smaller_list_of_cities"
   ]
  },
  {
   "cell_type": "code",
   "execution_count": 58,
   "id": "bbd64ab6",
   "metadata": {},
   "outputs": [],
   "source": [
    "del cities[0]"
   ]
  },
  {
   "cell_type": "code",
   "execution_count": 59,
   "id": "a700dcdc",
   "metadata": {},
   "outputs": [
    {
     "data": {
      "text/plain": [
       "['Atlanta',\n",
       " 'Baltimore',\n",
       " 'Chicago',\n",
       " 'Denver',\n",
       " 'Los Angeles',\n",
       " 'Seattle',\n",
       " 'New York',\n",
       " 'uk',\n",
       " 'Dubuque',\n",
       " 'New Orleans']"
      ]
     },
     "execution_count": 59,
     "metadata": {},
     "output_type": "execute_result"
    }
   ],
   "source": [
    "cities"
   ]
  },
  {
   "cell_type": "code",
   "execution_count": 60,
   "id": "c7dea078",
   "metadata": {},
   "outputs": [],
   "source": [
    "cities.remove(\"uk\")\n"
   ]
  },
  {
   "cell_type": "code",
   "execution_count": 61,
   "id": "2b766829",
   "metadata": {},
   "outputs": [
    {
     "data": {
      "text/plain": [
       "['Atlanta',\n",
       " 'Baltimore',\n",
       " 'Chicago',\n",
       " 'Denver',\n",
       " 'Los Angeles',\n",
       " 'Seattle',\n",
       " 'New York',\n",
       " 'Dubuque',\n",
       " 'New Orleans']"
      ]
     },
     "execution_count": 61,
     "metadata": {},
     "output_type": "execute_result"
    }
   ],
   "source": [
    "cities"
   ]
  },
  {
   "cell_type": "code",
   "execution_count": 64,
   "id": "cd4e5edc",
   "metadata": {},
   "outputs": [],
   "source": [
    "latest_task_accomplished = cities.pop(0)\n"
   ]
  },
  {
   "cell_type": "code",
   "execution_count": 65,
   "id": "9240258d",
   "metadata": {},
   "outputs": [
    {
     "data": {
      "text/plain": [
       "'Atlanta'"
      ]
     },
     "execution_count": 65,
     "metadata": {},
     "output_type": "execute_result"
    }
   ],
   "source": [
    "latest_task_accomplished"
   ]
  },
  {
   "cell_type": "code",
   "execution_count": 72,
   "id": "d8628ed3",
   "metadata": {},
   "outputs": [
    {
     "name": "stdout",
     "output_type": "stream",
     "text": [
      "0\n",
      "1\n",
      "2\n",
      "3\n",
      "4\n",
      "5\n",
      "6\n",
      "7\n",
      "8\n",
      "9\n",
      "10\n"
     ]
    }
   ],
   "source": [
    "for i in range(11):\n",
    "    print(i)"
   ]
  },
  {
   "cell_type": "code",
   "execution_count": 73,
   "id": "44c98548",
   "metadata": {},
   "outputs": [
    {
     "name": "stdout",
     "output_type": "stream",
     "text": [
      "Apple\n",
      "Banana\n"
     ]
    }
   ],
   "source": [
    "fruits=[\"Apple\",\"Banana\"]\n",
    "for fruit in fruits:\n",
    "    print(fruit)"
   ]
  },
  {
   "cell_type": "code",
   "execution_count": 77,
   "id": "85b2bc37",
   "metadata": {},
   "outputs": [],
   "source": [
    "cleanest_cities = [\"Cheyenne\", \"Santa Fe\", \"Tucson\",\n",
    "\"Great Falls\", \"Honolulu\"]\n",
    "city_to_check=\"Honolulus\""
   ]
  },
  {
   "cell_type": "code",
   "execution_count": 78,
   "id": "5cecf546",
   "metadata": {},
   "outputs": [],
   "source": [
    "for a_clean_city in cleanest_cities:\n",
    "    if city_to_check == a_clean_city:\n",
    "        print(\"It's one of the cleanest cities\")"
   ]
  },
  {
   "cell_type": "code",
   "execution_count": 95,
   "id": "58ed7500",
   "metadata": {},
   "outputs": [],
   "source": [
    "std=[\"Muaaz\",\"uzair\",\"ali\"]\n",
    "std_to_check=\"uzairs\""
   ]
  },
  {
   "cell_type": "code",
   "execution_count": 96,
   "id": "c12e4d94",
   "metadata": {},
   "outputs": [
    {
     "name": "stdout",
     "output_type": "stream",
     "text": [
      "Sorry its invalid\n",
      "Sorry its invalid\n",
      "Sorry its invalid\n"
     ]
    }
   ],
   "source": [
    "for stds in std:\n",
    "    if std_to_check == stds:\n",
    "        print(\"It's one of the my student\")\n",
    "        break\n",
    "    else:\n",
    "        print(\"Sorry its invalid\")"
   ]
  },
  {
   "cell_type": "code",
   "execution_count": null,
   "id": "828c032b",
   "metadata": {},
   "outputs": [],
   "source": []
  }
 ],
 "metadata": {
  "kernelspec": {
   "display_name": "Python 3 (ipykernel)",
   "language": "python",
   "name": "python3"
  },
  "language_info": {
   "codemirror_mode": {
    "name": "ipython",
    "version": 3
   },
   "file_extension": ".py",
   "mimetype": "text/x-python",
   "name": "python",
   "nbconvert_exporter": "python",
   "pygments_lexer": "ipython3",
   "version": "3.9.13"
  }
 },
 "nbformat": 4,
 "nbformat_minor": 5
}
