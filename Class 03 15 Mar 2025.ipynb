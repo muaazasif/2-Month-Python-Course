{
 "cells": [
  {
   "cell_type": "markdown",
   "id": "e7b4d6fe",
   "metadata": {},
   "source": [
    "# Inputs"
   ]
  },
  {
   "cell_type": "code",
   "execution_count": 45,
   "id": "62ba303e",
   "metadata": {},
   "outputs": [
    {
     "name": "stdout",
     "output_type": "stream",
     "text": [
      "5\n"
     ]
    }
   ],
   "source": [
    "add_numbers()"
   ]
  },
  {
   "cell_type": "code",
   "execution_count": 13,
   "id": "75695f51",
   "metadata": {},
   "outputs": [
    {
     "name": "stdout",
     "output_type": "stream",
     "text": [
      "Enter the name of a city: lahore\n",
      "<class 'str'>\n",
      "Enter your monthly income:5000\n"
     ]
    }
   ],
   "source": [
    "state = input(\"Enter the name of a city: \")\n",
    "print(type(state))\n",
    "monthly_income = input(\"Enter your monthly income:\")\n",
    "monthly_income_as_an_integer = int(monthly_income)\n"
   ]
  },
  {
   "cell_type": "code",
   "execution_count": 14,
   "id": "9b031a34",
   "metadata": {},
   "outputs": [
    {
     "name": "stdout",
     "output_type": "stream",
     "text": [
      "The minimum wage in your lahore is $ 5000\n"
     ]
    }
   ],
   "source": [
    "print(\"The minimum wage in your\",state, \"is $\",\n",
    "monthly_income_as_an_integer)"
   ]
  },
  {
   "cell_type": "code",
   "execution_count": 15,
   "id": "f3d118f2",
   "metadata": {},
   "outputs": [],
   "source": [
    "cleanest_cities = [\"Cheyenne\", \"cheyenne\", \"SantaFe\", \"santa fe\", \"Tucson\", \"tucson\", \"Great Falls\",\n",
    "\"great falls\", \"Honolulu\", \"honolulu\"]"
   ]
  },
  {
   "cell_type": "code",
   "execution_count": 16,
   "id": "308422c0",
   "metadata": {},
   "outputs": [
    {
     "name": "stdout",
     "output_type": "stream",
     "text": [
      "Enter your city: Cheyenne\n",
      "It's one of the cleanest cities\n"
     ]
    }
   ],
   "source": [
    "city_to_check = input(\"Enter your city: \")\n",
    "city_to_check = city_to_check.lower()\n",
    "cleanest_cities = [\"cheyenne\", \"santa fe\",\"tucson\", \"great falls\", \"honolulu\"]\n",
    "for a_clean_city in cleanest_cities:\n",
    "    if city_to_check == a_clean_city:\n",
    "        print(\"It's one of the cleanest cities\")"
   ]
  },
  {
   "cell_type": "code",
   "execution_count": 17,
   "id": "b6560300",
   "metadata": {},
   "outputs": [
    {
     "name": "stdout",
     "output_type": "stream",
     "text": [
      "Draco\n"
     ]
    }
   ],
   "source": [
    "my_cats = [\"Draco\", \"Bellatrix\", \"Voldemort\"]\n",
    "print(my_cats[0])"
   ]
  },
  {
   "cell_type": "markdown",
   "id": "17c1e980",
   "metadata": {},
   "source": [
    "# DICTIONARY"
   ]
  },
  {
   "cell_type": "code",
   "execution_count": 21,
   "id": "2a23a2b4",
   "metadata": {},
   "outputs": [
    {
     "data": {
      "text/plain": [
       "{'first name': 'David',\n",
       " 'last name': 'Elliott',\n",
       " 'address': '4803 Wellesley St.'}"
      ]
     },
     "execution_count": 21,
     "metadata": {},
     "output_type": "execute_result"
    }
   ],
   "source": [
    "customer_29876 = {\"first name\": \"David\", \"last name\": \"Elliott\", \"address\": \"4803 Wellesley St.\"}\n",
    "customer_29876"
   ]
  },
  {
   "cell_type": "code",
   "execution_count": 24,
   "id": "15c7121f",
   "metadata": {},
   "outputs": [],
   "source": [
    "address_of_customer = customer_29876[\"first name\"]"
   ]
  },
  {
   "cell_type": "code",
   "execution_count": 25,
   "id": "c57e8045",
   "metadata": {},
   "outputs": [
    {
     "data": {
      "text/plain": [
       "'David'"
      ]
     },
     "execution_count": 25,
     "metadata": {},
     "output_type": "execute_result"
    }
   ],
   "source": [
    "address_of_customer"
   ]
  },
  {
   "cell_type": "code",
   "execution_count": 26,
   "id": "12bb75a3",
   "metadata": {},
   "outputs": [],
   "source": [
    "del customer_29876[\"address\"]"
   ]
  },
  {
   "cell_type": "code",
   "execution_count": 29,
   "id": "9b23996b",
   "metadata": {},
   "outputs": [
    {
     "data": {
      "text/plain": [
       "{'first name': 'David', 'last name': 'Elliott', 'city': 'Winipeg'}"
      ]
     },
     "execution_count": 29,
     "metadata": {},
     "output_type": "execute_result"
    }
   ],
   "source": [
    "customer_29876"
   ]
  },
  {
   "cell_type": "code",
   "execution_count": 28,
   "id": "4b97cb6f",
   "metadata": {},
   "outputs": [],
   "source": [
    "customer_29876[\"city\"] = \"Winipeg\""
   ]
  },
  {
   "cell_type": "code",
   "execution_count": 33,
   "id": "4e9b8d18",
   "metadata": {},
   "outputs": [
    {
     "name": "stdout",
     "output_type": "stream",
     "text": [
      "first name:David\n",
      "last name:Elliott\n",
      "city:Winipeg\n"
     ]
    }
   ],
   "source": [
    "for key,values in customer_29876.items():\n",
    "    print(f\"{key}:{values}\")"
   ]
  },
  {
   "cell_type": "code",
   "execution_count": 34,
   "id": "608b716e",
   "metadata": {},
   "outputs": [
    {
     "name": "stdout",
     "output_type": "stream",
     "text": [
      "The customer's first name is David\n",
      "The customer's last name is Elliott\n",
      "The customer's city is Winipeg\n"
     ]
    }
   ],
   "source": [
    "for each_key, each_value in customer_29876.items():\n",
    "    print(\"The customer's \" + each_key + \" is \" + each_value)"
   ]
  },
  {
   "cell_type": "code",
   "execution_count": 35,
   "id": "70d9596d",
   "metadata": {},
   "outputs": [],
   "source": [
    "customers = [\n",
    "{\n",
    " \"customer id\": 0,\n",
    " \"first name\":\"John\",\n",
    " \"last name\": \"Ogden\",\n",
    " \"address\": \"301 Arbor Rd.\",\n",
    " },\n",
    " {\n",
    " \"customer id\": 1,\n",
    " \"first name\":\"Ann\",\n",
    " \"last name\": \"Sattermyer\",\n",
    " \"address\": \"PO Box 1145\",\n",
    " },\n",
    " {\n",
    " \"customer id\": 2,\n",
    " \"first name\":\"Jill\",\n",
    " \"last name\": \"Somers\",\n",
    " \"address\": \"3 Main St.\",\n",
    " },\n",
    "]\n"
   ]
  },
  {
   "cell_type": "code",
   "execution_count": 38,
   "id": "11b983d4",
   "metadata": {},
   "outputs": [],
   "source": [
    "new_customer_id = len(customers)"
   ]
  },
  {
   "cell_type": "code",
   "execution_count": 39,
   "id": "fa5610e1",
   "metadata": {},
   "outputs": [
    {
     "data": {
      "text/plain": [
       "3"
      ]
     },
     "execution_count": 39,
     "metadata": {},
     "output_type": "execute_result"
    }
   ],
   "source": [
    "new_customer_id"
   ]
  },
  {
   "cell_type": "markdown",
   "id": "c4e76274",
   "metadata": {},
   "source": [
    "# FUNCTION"
   ]
  },
  {
   "cell_type": "code",
   "execution_count": 40,
   "id": "2fb05f32",
   "metadata": {},
   "outputs": [],
   "source": [
    "first_number = 2\n",
    "second_number = 3\n",
    "total = first_number + second_number"
   ]
  },
  {
   "cell_type": "code",
   "execution_count": 41,
   "id": "105e0558",
   "metadata": {},
   "outputs": [
    {
     "data": {
      "text/plain": [
       "5"
      ]
     },
     "execution_count": 41,
     "metadata": {},
     "output_type": "execute_result"
    }
   ],
   "source": [
    "total"
   ]
  },
  {
   "cell_type": "code",
   "execution_count": 42,
   "id": "d46688c7",
   "metadata": {},
   "outputs": [],
   "source": [
    "def add_numbers():\n",
    "    first_number = 2\n",
    "    second_number = 3\n",
    "    total = first_number + second_number\n",
    "    print(total)"
   ]
  },
  {
   "cell_type": "code",
   "execution_count": 44,
   "id": "a439ab4a",
   "metadata": {},
   "outputs": [
    {
     "name": "stdout",
     "output_type": "stream",
     "text": [
      "5\n"
     ]
    }
   ],
   "source": [
    "add_numbers()"
   ]
  },
  {
   "cell_type": "code",
   "execution_count": 46,
   "id": "247f00a6",
   "metadata": {},
   "outputs": [],
   "source": [
    "def add_numbers(first_number, second_number):\n",
    "    total = first_number + second_number\n",
    "    print(total)"
   ]
  },
  {
   "cell_type": "code",
   "execution_count": 47,
   "id": "b6fac65d",
   "metadata": {},
   "outputs": [
    {
     "name": "stdout",
     "output_type": "stream",
     "text": [
      "60\n"
     ]
    }
   ],
   "source": [
    "add_numbers(10,50)"
   ]
  },
  {
   "cell_type": "code",
   "execution_count": 48,
   "id": "abd98765",
   "metadata": {},
   "outputs": [
    {
     "name": "stdout",
     "output_type": "stream",
     "text": [
      "10\n"
     ]
    }
   ],
   "source": [
    "add_numbers(5,5)"
   ]
  },
  {
   "cell_type": "code",
   "execution_count": 49,
   "id": "8ee0dc2d",
   "metadata": {},
   "outputs": [],
   "source": [
    "def say_names_of_couple(husband_name, wife_name):\n",
    "    print(\"The names of the couple are \" + husband_name + \" and \" + wife_name)\n"
   ]
  },
  {
   "cell_type": "code",
   "execution_count": 50,
   "id": "3d9ad59b",
   "metadata": {},
   "outputs": [
    {
     "name": "stdout",
     "output_type": "stream",
     "text": [
      "The names of the couple are Muaaz and Asif\n"
     ]
    }
   ],
   "source": [
    "say_names_of_couple(\"Muaaz\",\"Asif\")"
   ]
  },
  {
   "cell_type": "code",
   "execution_count": 51,
   "id": "ee232f0f",
   "metadata": {},
   "outputs": [],
   "source": [
    "def make_biryani(rice=\"🍚\", chicken=\"🍗\", spices=\"🌶️\", masala=\"🍂\", love=\"❤️\"):\n",
    "    print(\"👨‍🍳 Cooking Biryani... 👨‍🍳\")\n",
    "    print(f\"{rice} + {chicken} + {spices} + {masala} + {love} = 🍛 Delicious Biryani! 😋\")"
   ]
  },
  {
   "cell_type": "code",
   "execution_count": 52,
   "id": "eb63b2b4",
   "metadata": {},
   "outputs": [
    {
     "name": "stdout",
     "output_type": "stream",
     "text": [
      "👨‍🍳 Cooking Biryani... 👨‍🍳\n",
      "🍚 + 🍗 + 🌶️ + 🍂 + ❤️ = 🍛 Delicious Biryani! 😋\n"
     ]
    }
   ],
   "source": [
    "make_biryani()"
   ]
  },
  {
   "cell_type": "code",
   "execution_count": 55,
   "id": "8a81237e",
   "metadata": {},
   "outputs": [],
   "source": [
    "def calc_tax(sales_total):\n",
    "    print(sales_total * .05)"
   ]
  },
  {
   "cell_type": "code",
   "execution_count": 58,
   "id": "e5a8f647",
   "metadata": {},
   "outputs": [
    {
     "name": "stdout",
     "output_type": "stream",
     "text": [
      "250.0\n"
     ]
    }
   ],
   "source": [
    "calc_tax(sales_total=5000)"
   ]
  },
  {
   "cell_type": "code",
   "execution_count": 63,
   "id": "84756bb4",
   "metadata": {},
   "outputs": [],
   "source": [
    "class pizza:\n",
    "    def __init__(self, size, flavor, topping):\n",
    "        self.size = size\n",
    "        self.flavor = flavor\n",
    "        self.topping = topping\n",
    "    \n",
    "    def start(self):\n",
    "        print(f\"🚗 {self.size} {self.flavor} is cooking... 🔥\")\n",
    "    \n",
    "    def drive(self):\n",
    "        print(f\"🏎️ {self.size} {self.flavor} is cooking fast... 🏁\")\n",
    "    \n",
    "    def stop(self):\n",
    "        print(f\"🛑 {self.size} {self.flavor} has stopped. 😴\")\n"
   ]
  },
  {
   "cell_type": "code",
   "execution_count": 68,
   "id": "a7fa6a32",
   "metadata": {},
   "outputs": [],
   "source": [
    "piz = pizza(\"large\", \"chicken tikka\", \"Mushrooms\")\n",
    "piz2=pizza(\"medium\",\"fajita\",\"mushrooms\")"
   ]
  },
  {
   "cell_type": "code",
   "execution_count": 69,
   "id": "d8c35051",
   "metadata": {},
   "outputs": [
    {
     "name": "stdout",
     "output_type": "stream",
     "text": [
      "🚗 medium fajita is cooking... 🔥\n",
      "🏎️ medium fajita is cooking fast... 🏁\n",
      "🛑 medium fajita has stopped. 😴\n"
     ]
    }
   ],
   "source": [
    "piz2.start()\n",
    "piz2.drive()\n",
    "piz2.stop()\n"
   ]
  },
  {
   "cell_type": "code",
   "execution_count": 93,
   "id": "c7df4ff6",
   "metadata": {},
   "outputs": [],
   "source": [
    "cust=[{\"name\": \"Adeel Solangi\",\"language\": \"Sindhi\",\"id\": \"V59OF92YF627HFY0\",\"bio\": \"Donec lobortis eleifend condimentum. Cras dictum dolor lacinia lectus vehicula rutrum. Maecenas quis nisi nunc. Nam tristique feugiat est vitae mollis. Maecenas quis nisi nunc.\",\"version\": 6.1},{\"name\": \"Afzal Ghaffar\",\"language\": \"Sindhi\",\"id\": \"ENTOCR13RSCLZ6KU\",\"bio\": \"Aliquam sollicitudin ante ligula, eget malesuada nibh efficitur et. Pellentesque massa sem, scelerisque sit amet odio id, cursus tempor urna. Etiam congue dignissim volutpat. Vestibulum pharetra libero et velit gravida euismod.\",\"version\": 1.88},{\"name\": \"Aamir Solangi\",\"language\": \"Sindhi\",\"id\": \"IAKPO3R4761JDRVG\",\"bio\": \"Vestibulum pharetra libero et velit gravida euismod. Quisque mauris ligula, efficitur porttitor sodales ac, lacinia non ex. Fusce eu ultrices elit, vel posuere neque.\",\"version\": 7.27},{\"name\": \"Abla Dilmurat\",\"language\": \"Uyghur\",\"id\": \"5ZVOEPMJUI4MB4EN\",\"bio\": \"Donec lobortis eleifend condimentum. Morbi ac tellus erat.\",\"version\": 2.53},{\"name\": \"Adil Eli\",\"language\": \"Uyghur\",\"id\": \"6VTI8X6LL0MMPJCC\",\"bio\": \"Vivamus id faucibus velit, id posuere leo. Morbi vitae nisi lacinia, laoreet lorem nec, egestas orci. Suspendisse potenti.\",\"version\": 6.49},{\"name\": \"Adile Qadir\",\"language\": \"Uyghur\",\"id\": \"F2KEU5L7EHYSYFTT\",\"bio\": \"Duis commodo orci ut dolor iaculis facilisis. Morbi ultricies consequat ligula posuere eleifend. Aenean finibus in tortor vel aliquet. Fusce eu ultrices elit, vel posuere neque.\",\"version\": 1.9},{\"name\": \"Abdukerim Ibrahim\",\"language\": \"Uyghur\",\"id\": \"LO6DVTZLRK68528I\",\"bio\": \"Vivamus id faucibus velit, id posuere leo. Nunc aliquet sodales nunc a pulvinar. Nunc aliquet sodales nunc a pulvinar. Ut viverra quis eros eu tincidunt.\",\"version\": 5.9},{\"name\": \"Adil Abro\",\"language\": \"Sindhi\",\"id\": \"LJRIULRNJFCNZJAJ\",\"bio\": \"Etiam malesuada blandit erat, nec ultricies leo maximus sed. Fusce congue aliquam elit ut luctus. Etiam malesuada blandit erat, nec ultricies leo maximus sed. Cras dictum dolor lacinia lectus vehicula rutrum. Integer vehicula, arcu sit amet egestas efficitur, orci justo interdum massa, eget ullamcorper risus ligula tristique libero.\",\"version\": 9.32},{\"name\": \"Afonso Vilarchán\",\"language\": \"Galician\",\"id\": \"JMCL0CXNXHPL1GBC\",\"bio\": \"Fusce eu ultrices elit, vel posuere neque. Morbi ac tellus erat. Nunc tincidunt laoreet laoreet.\",\"version\": 5.21},{\"name\": \"Mark Schembri\",\"language\": \"Maltese\",\"id\": \"KU4T500C830697CW\",\"bio\": \"Nam laoreet, nunc non suscipit interdum, justo turpis vestibulum massa, non vulputate ex urna at purus. Morbi ultricies consequat ligula posuere eleifend. Vivamus id faucibus velit, id posuere leo. Sed laoreet posuere sapien, ut feugiat nibh gravida at. Ut maximus, libero nec facilisis fringilla, ex sem sollicitudin leo, non congue tortor ligula in eros.\",\"version\": 3.17},{\"name\": \"Antía Sixirei\",\"language\": \"Galician\",\"id\": \"XOF91ZR7MHV1TXRS\",\"bio\": \"Pellentesque massa sem, scelerisque sit amet odio id, cursus tempor urna. Phasellus massa ligula, hendrerit eget efficitur eget, tincidunt in ligula. Morbi finibus dui sed est fringilla ornare. Duis pellentesque ultrices convallis. Morbi ultricies consequat ligula posuere eleifend.\",\"version\": 6.44},{\"name\": \"Aygul Mutellip\",\"language\": \"Uyghur\",\"id\": \"FTSNV411G5MKLPDT\",\"bio\": \"Duis commodo orci ut dolor iaculis facilisis. Nam semper gravida nunc, sit amet elementum ipsum. Donec pellentesque ultrices mi, non consectetur eros luctus non. Pellentesque massa sem, scelerisque sit amet odio id, cursus tempor urna.\",\"version\": 9.1},{\"name\": \"Awais Shaikh\",\"language\": \"Sindhi\",\"id\": \"OJMWMEEQWMLDU29P\",\"bio\": \"Nunc aliquet sodales nunc a pulvinar. Ut dictum, ligula eget sagittis maximus, tellus mi varius ex, a accumsan justo tellus vitae leo. Donec pellentesque ultrices mi, non consectetur eros luctus non. Nulla finibus massa at viverra facilisis. Nunc tincidunt laoreet laoreet.\",\"version\": 1.59},{\"name\": \"Ambreen Ahmed\",\"language\": \"Sindhi\",\"id\": \"5G646V7E6TJW8X2M\",\"bio\": \"Vestibulum ante ipsum primis in faucibus orci luctus et ultrices posuere cubilia curae; Etiam consequat enim lorem, at tincidunt velit ultricies et. Ut maximus, libero nec facilisis fringilla, ex sem sollicitudin leo, non congue tortor ligula in eros.\",\"version\": 2.35},{\"name\": \"Celtia Anes\",\"language\": \"Galician\",\"id\": \"Z53AJY7WUYPLAWC9\",\"bio\": \"Nullam ac sodales dolor, eu facilisis dui. Maecenas non arcu nulla. Ut viverra quis eros eu tincidunt. Curabitur quis commodo quam.\",\"version\": 8.34},{\"name\": \"George Mifsud\",\"language\": \"Maltese\",\"id\": \"N1AS6UFULO6WGTLB\",\"bio\": \"Phasellus tincidunt sollicitudin posuere. Ut accumsan, est vel fringilla varius, purus augue blandit nisl, eu rhoncus ligula purus vel dolor. Donec congue sapien vel euismod interdum. Cras dictum dolor lacinia lectus vehicula rutrum. Phasellus massa ligula, hendrerit eget efficitur eget, tincidunt in ligula.\",\"version\": 7.47},{\"name\": \"Aytürk Qasim\",\"language\": \"Uyghur\",\"id\": \"70RODUVRD95CLOJL\",\"bio\": \"Curabitur ultricies id urna nec ultrices. Aliquam scelerisque pretium tellus, sed accumsan est ultrices id. Duis commodo orci ut dolor iaculis facilisis.\",\"version\": 1.32},{\"name\": \"Dialè Meso\",\"language\": \"Sesotho sa Leboa\",\"id\": \"VBLI24FKF7VV6BWE\",\"bio\": \"Maecenas non arcu nulla. Vivamus id faucibus velit, id posuere leo. Nullam sodales convallis mauris, sit amet lobortis magna auctor sit amet.\",\"version\": 6.29},{\"name\": \"Breixo Galáns\",\"language\": \"Galician\",\"id\": \"4VRLON0GPEZYFCVL\",\"bio\": \"Integer vehicula, arcu sit amet egestas efficitur, orci justo interdum massa, eget ullamcorper risus ligula tristique libero. Morbi ac tellus erat. In id elit malesuada, pulvinar mi eu, imperdiet nulla. Vestibulum pharetra libero et velit gravida euismod. Cras dictum dolor lacinia lectus vehicula rutrum.\",\"version\": 1.62},{\"name\": \"Bieito Lorme\",\"language\": \"Galician\",\"id\": \"5DRDI1QLRGLP29RC\",\"bio\": \"Ut viverra quis eros eu tincidunt. Morbi vitae nisi lacinia, laoreet lorem nec, egestas orci. Curabitur quis commodo quam. Morbi ac tellus erat.\",\"version\": 4.45},{\"name\": \"Azrugul Osman\",\"language\": \"Uyghur\",\"id\": \"5RCTVD3C5QGVAKTQ\",\"bio\": \"Maecenas tempus neque ut porttitor malesuada. Donec lobortis eleifend condimentum.\",\"version\": 3.18},{\"name\": \"Brais Verdiñas\",\"language\": \"Galician\",\"id\": \"BT407GHCC0IHXCD3\",\"bio\": \"Quisque maximus sodales mauris ut elementum. Ut viverra quis eros eu tincidunt. Sed eu libero maximus nunc lacinia lobortis et sit amet nisi. In id elit malesuada, pulvinar mi eu, imperdiet nulla. Curabitur quis commodo quam.\",\"version\": 5.01},{\"name\": \"Ekber Sadir\",\"language\": \"Uyghur\",\"id\": \"AGZDAP8D8OVRRLTY\",\"bio\": \"Quisque efficitur vel sapien ut imperdiet. Phasellus massa ligula, hendrerit eget efficitur eget, tincidunt in ligula. In id elit malesuada, pulvinar mi eu, imperdiet nulla. Sed nec suscipit ligula. Integer vehicula, arcu sit amet egestas efficitur, orci justo interdum massa, eget ullamcorper risus ligula tristique libero.\",\"version\": 2.04},{\"name\": \"Doreen Bartolo\",\"language\": \"Maltese\",\"id\": \"59QSX02O2XOZGRLH\",\"bio\": \"Vestibulum ante ipsum primis in faucibus orci luctus et ultrices posuere cubilia curae; Etiam consequat enim lorem, at tincidunt velit ultricies et. Nam semper gravida nunc, sit amet elementum ipsum. Ut viverra quis eros eu tincidunt. Curabitur sed condimentum felis, ut luctus eros.\",\"version\": 9.31},{\"name\": \"Ali Ayaz\",\"language\": \"Sindhi\",\"id\": \"3WNLUZ5LT2F7MYVU\",\"bio\": \"Cras dictum dolor lacinia lectus vehicula rutrum. Vestibulum ante ipsum primis in faucibus orci luctus et ultrices posuere cubilia curae; Etiam consequat enim lorem, at tincidunt velit ultricies et. Etiam malesuada blandit erat, nec ultricies leo maximus sed.\",\"version\": 7.8},{\"name\": \"Guzelnur Polat\",\"language\": \"Uyghur\",\"id\": \"I6QQHAEGV4CYDXLP\",\"bio\": \"Nam laoreet, nunc non suscipit interdum, justo turpis vestibulum massa, non vulputate ex urna at purus. Vestibulum ante ipsum primis in faucibus orci luctus et ultrices posuere cubilia curae; Etiam consequat enim lorem, at tincidunt velit ultricies et. Nulla finibus massa at viverra facilisis.\",\"version\": 8.56},{\"name\": \"John Falzon\",\"language\": \"Maltese\",\"id\": \"U3AWXHDTSU0H82SL\",\"bio\": \"Sed nec suscipit ligula. Nullam sodales convallis mauris, sit amet lobortis magna auctor sit amet.\",\"version\": 9.96},{\"name\": \"Erkin Qadir\",\"language\": \"Uyghur\",\"id\": \"GV6TA1AATZYBJ3VR\",\"bio\": \"Phasellus massa ligula, hendrerit eget efficitur eget, tincidunt in ligula. .\",\"version\": 3.53},{\"name\": \"Anita Rajput\",\"language\": \"Sindhi\",\"id\": \"XLLVD0NO2ZFEP4AK\",\"bio\": \"Nam semper gravida nunc, sit amet elementum ipsum. Etiam congue dignissim volutpat.\",\"version\": 5.16},{\"name\": \"Ayesha Khalique\",\"language\": \"Sindhi\",\"id\": \"Q9A5QNGA0OSU8P6Y\",\"bio\": \"Morbi vitae nisi lacinia, laoreet lorem nec, egestas orci. Etiam mauris magna, fermentum vitae aliquet eu, cursus vitae sapien.\",\"version\": 3.9},{\"name\": \"Pheladi Rammala\",\"language\": \"Sesotho sa Leboa\",\"id\": \"EELSIRT2T4Q0M3M4\",\"bio\": \"Quisque efficitur vel sapien ut imperdiet. Morbi ac tellus erat. Aliquam scelerisque pretium tellus, sed accumsan est ultrices id. Ut maximus, libero nec facilisis fringilla, ex sem sollicitudin leo, non congue tortor ligula in eros.\",\"version\": 1.88},{\"name\": \"Antón Caneiro\",\"language\": \"Galician\",\"id\": \"ENTAPNU3MMFUGM1W\",\"bio\": \"Integer vehicula, arcu sit amet egestas efficitur, orci justo interdum massa, eget ullamcorper risus ligula tristique libero. Vestibulum pharetra libero et velit gravida euismod.\",\"version\": 4.84},{\"name\": \"Qahar Abdulla\",\"language\": \"Uyghur\",\"id\": \"OGLODUPEHKEW0K83\",\"bio\": \"Duis commodo orci ut dolor iaculis facilisis. Aliquam sollicitudin ante ligula, eget malesuada nibh efficitur et. Fusce congue aliquam elit ut luctus. Integer vehicula, arcu sit amet egestas efficitur, orci justo interdum massa, eget ullamcorper risus ligula tristique libero. Quisque maximus sodales mauris ut elementum.\",\"version\": 3.65},{\"name\": \"Reyhan Murat\",\"language\": \"Uyghur\",\"id\": \"Y91F4D54794E9ANT\",\"bio\": \"Suspendisse sit amet ullamcorper sem. Curabitur sed condimentum felis, ut luctus eros.\",\"version\": 2.69},{\"name\": \"Tatapi Phogole\",\"language\": \"Sesotho sa Leboa\",\"id\": \"7JA42P5CMCWDVPNR\",\"bio\": \"Duis luctus, lacus eu aliquet convallis, purus elit malesuada ex, vitae rutrum ipsum dui ut magna. Nullam ac sodales dolor, eu facilisis dui. Ut viverra quis eros eu tincidunt.\",\"version\": 3.78},{\"name\": \"Marcos Amboade\",\"language\": \"Galician\",\"id\": \"WPX7H97C7D70CZJR\",\"bio\": \"Nulla finibus massa at viverra facilisis. Pellentesque massa sem, scelerisque sit amet odio id, cursus tempor urna. Curabitur ultricies id urna nec ultrices. Ut maximus, libero nec facilisis fringilla, ex sem sollicitudin leo, non congue tortor ligula in eros. Nunc aliquet sodales nunc a pulvinar.\",\"version\": 7.37},{\"name\": \"Grace Tabone\",\"language\": \"Maltese\",\"id\": \"K4XO8G8DMRNSHF2B\",\"bio\": \"Curabitur sed condimentum felis, ut luctus eros. Duis luctus, lacus eu aliquet convallis, purus elit malesuada ex, vitae rutrum ipsum dui ut magna.\",\"version\": 5.36},{\"name\": \"Shafqat Memon\",\"language\": \"Sindhi\",\"id\": \"D8VFLVRXBXMVBRVI\",\"bio\": \"Aliquam scelerisque pretium tellus, sed accumsan est ultrices id. . Curabitur quis commodo quam. Quisque maximus sodales mauris ut elementum. Quisque mauris ligula, efficitur porttitor sodales ac, lacinia non ex.\",\"version\": 8.95},{\"name\": \"Zeynep Semet\",\"language\": \"Uyghur\",\"id\": \"Z324TZV8S0FGDSAO\",\"bio\": \"Quisque mauris ligula, efficitur porttitor sodales ac, lacinia non ex. Fusce eu ultrices elit, vel posuere neque. Nulla finibus massa at viverra facilisis.\",\"version\": 1.03},{\"name\": \"Meladi Papo\",\"language\": \"Sesotho sa Leboa\",\"id\": \"RJAZQ6BBLRT72CD9\",\"bio\": \"Quisque efficitur vel sapien ut imperdiet. Pellentesque massa sem, scelerisque sit amet odio id, cursus tempor urna. Ut accumsan, est vel fringilla varius, purus augue blandit nisl, eu rhoncus ligula purus vel dolor. Etiam congue dignissim volutpat. Donec congue sapien vel euismod interdum.\",\"version\": 7.22},{\"name\": \"Semet Alim\",\"language\": \"Uyghur\",\"id\": \"HI7L2SR4RCS8C8CS\",\"bio\": \"Duis commodo orci ut dolor iaculis facilisis. Ut viverra quis eros eu tincidunt. Lorem ipsum dolor sit amet, consectetur adipiscing elit.\",\"version\": 1.01},{\"name\": \"Sabela Veloso\",\"language\": \"Galician\",\"id\": \"QA55WXDLC7SRH97X\",\"bio\": \"Duis commodo orci ut dolor iaculis facilisis. Suspendisse potenti. Cras dictum dolor lacinia lectus vehicula rutrum.\",\"version\": 7.32},{\"name\": \"Madule Ledimo\",\"language\": \"Sesotho sa Leboa\",\"id\": \"IHJN2DGJB5O1Y00D\",\"bio\": \"Maecenas non arcu nulla. Aliquam scelerisque pretium tellus, sed accumsan est ultrices id.\",\"version\": 7.47},{\"name\": \"Michelle Caruana\",\"language\": \"Maltese\",\"id\": \"EG1I21R75IV9Q0Q8\",\"bio\": \"Nam tristique feugiat est vitae mollis. Morbi ultricies consequat ligula posuere eleifend. Pellentesque massa sem, scelerisque sit amet odio id, cursus tempor urna.\",\"version\": 4.95},{\"name\": \"Philip Camilleri\",\"language\": \"Maltese\",\"id\": \"FCO0URUHARX5FDFW\",\"bio\": \"Quisque efficitur vel sapien ut imperdiet. Suspendisse sit amet ullamcorper sem. Aliquam scelerisque pretium tellus, sed accumsan est ultrices id. . Aenean finibus in tortor vel aliquet.\",\"version\": 9.97},{\"name\": \"Olalla Romeu\",\"language\": \"Galician\",\"id\": \"WOCMVO6CYPG01ZHY\",\"bio\": \"Maecenas tempus neque ut porttitor malesuada. Sed nec suscipit ligula. Morbi vitae nisi lacinia, laoreet lorem nec, egestas orci. Nullam sodales convallis mauris, sit amet lobortis magna auctor sit amet.\",\"version\": 1.98},{\"name\": \"Gulnur Perhat\",\"language\": \"Uyghur\",\"id\": \"VO3M22TTQMBA2XEM\",\"bio\": \"Nullam ac sodales dolor, eu facilisis dui. Etiam mauris magna, fermentum vitae aliquet eu, cursus vitae sapien. Ut accumsan, est vel fringilla varius, purus augue blandit nisl, eu rhoncus ligula purus vel dolor. Maecenas quis nisi nunc. Duis pellentesque ultrices convallis.\",\"version\": 5.03},{\"name\": \"Hunadi Makgatho\",\"language\": \"Sesotho sa Leboa\",\"id\": \"MRJDOV2MU7PTCDXE\",\"bio\": \"Phasellus tincidunt sollicitudin posuere. Maecenas quis nisi nunc. Duis luctus, lacus eu aliquet convallis, purus elit malesuada ex, vitae rutrum ipsum dui ut magna.\",\"version\": 8.18},{\"name\": \"Charmaine Abela\",\"language\": \"Maltese\",\"id\": \"F6FJP1QDJL944X4Z\",\"bio\": \"Nam rutrum sollicitudin ante tempus consequat. Suspendisse sit amet ullamcorper sem. Morbi ac tellus erat. Sed nec suscipit ligula.\",\"version\": 6.95},{\"name\": \"Tumelò Letamo\",\"language\": \"Sesotho sa Leboa\",\"id\": \"F8BL9NPIKV0OWO1X\",\"bio\": \"Aliquam sollicitudin ante ligula, eget malesuada nibh efficitur et. Etiam congue dignissim volutpat. Sed nec suscipit ligula. Nullam sodales convallis mauris, sit amet lobortis magna auctor sit amet.\",\"version\": 7.17},{\"name\": \"Aneela Mohan\",\"language\": \"Sindhi\",\"id\": \"CRYN52CXKNJU0YXU\",\"bio\": \"Sed nec suscipit ligula. Phasellus massa ligula, hendrerit eget efficitur eget, tincidunt in ligula. Maecenas tempus neque ut porttitor malesuada.\",\"version\": 4.45},{\"name\": \"Koketšo Montjane\",\"language\": \"Sesotho sa Leboa\",\"id\": \"0TTAMXC9TENQCA2O\",\"bio\": \"Curabitur sed condimentum felis, ut luctus eros. Aliquam sollicitudin ante ligula, eget malesuada nibh efficitur et. Etiam mauris magna, fermentum vitae aliquet eu, cursus vitae sapien. Ut maximus, libero nec facilisis fringilla, ex sem sollicitudin leo, non congue tortor ligula in eros.\",\"version\": 3.61},{\"name\": \"Tegra Núnez\",\"language\": \"Galician\",\"id\": \"NC1ZUV6B853BZZCW\",\"bio\": \"Maecenas tempus neque ut porttitor malesuada. Pellentesque massa sem, scelerisque sit amet odio id, cursus tempor urna.\",\"version\": 6.68},{\"name\": \"Dilnur Qeyser\",\"language\": \"Uyghur\",\"id\": \"JVQ8RQ4YRPGLFMR8\",\"bio\": \"Maecenas non arcu nulla. Nulla finibus massa at viverra facilisis. Integer vehicula, arcu sit amet egestas efficitur, orci justo interdum massa, eget ullamcorper risus ligula tristique libero. Ut maximus, libero nec facilisis fringilla, ex sem sollicitudin leo, non congue tortor ligula in eros.\",\"version\": 7.93},{\"name\": \"Tania Agius\",\"language\": \"Maltese\",\"id\": \"WTDGKLDWJLR1BJKR\",\"bio\": \"Etiam congue dignissim volutpat. Pellentesque massa sem, scelerisque sit amet odio id, cursus tempor urna.\",\"version\": 4.78},{\"name\": \"Iago Peirallo\",\"language\": \"Galician\",\"id\": \"D51G7XQTX2SPHR52\",\"bio\": \"Aliquam sollicitudin ante ligula, eget malesuada nibh efficitur et. Donec congue sapien vel euismod interdum. Suspendisse potenti. Quisque maximus sodales mauris ut elementum. Quisque maximus sodales mauris ut elementum.\",\"version\": 6.3},{\"name\": \"Mpho Lamola\",\"language\": \"Sesotho sa Leboa\",\"id\": \"UGL8EOTXYBW1ILLW\",\"bio\": \"In id elit malesuada, pulvinar mi eu, imperdiet nulla. Curabitur ultricies id urna nec ultrices. Maecenas tempus neque ut porttitor malesuada. In sed ultricies lorem. Nullam sodales convallis mauris, sit amet lobortis magna auctor sit amet.\",\"version\": 2.05},{\"name\": \"Josephine Balzan\",\"language\": \"Maltese\",\"id\": \"4OLTG6QD0A2VB432\",\"bio\": \"Maecenas tempus neque ut porttitor malesuada. Sed eu libero maximus nunc lacinia lobortis et sit amet nisi. Maecenas non arcu nulla. Ut accumsan, est vel fringilla varius, purus augue blandit nisl, eu rhoncus ligula purus vel dolor. Curabitur quis commodo quam.\",\"version\": 7.64},{\"name\": \"Thabò Motongwane\",\"language\": \"Sesotho sa Leboa\",\"id\": \"NROE4ZZVGKZGDFNO\",\"bio\": \"Donec pellentesque ultrices mi, non consectetur eros luctus non. Suspendisse potenti. Suspendisse potenti.\",\"version\": 2.07},{\"name\": \"Mmathabò Mojapelo\",\"language\": \"Sesotho sa Leboa\",\"id\": \"VXJDXYPV5L300IFW\",\"bio\": \"Sed laoreet posuere sapien, ut feugiat nibh gravida at. Duis luctus, lacus eu aliquet convallis, purus elit malesuada ex, vitae rutrum ipsum dui ut magna. Nunc tincidunt laoreet laoreet. .\",\"version\": 9.36},{\"name\": \"Kgabo Lerumo\",\"language\": \"Sesotho sa Leboa\",\"id\": \"D63WWKQE2R4TFDIL\",\"bio\": \"Vestibulum pharetra libero et velit gravida euismod. Maecenas tempus neque ut porttitor malesuada. Morbi ultricies consequat ligula posuere eleifend. Quisque efficitur vel sapien ut imperdiet. Nam rutrum sollicitudin ante tempus consequat.\",\"version\": 6.69},{\"name\": \"Lawrence Scicluna\",\"language\": \"Maltese\",\"id\": \"0KDA7XKZNNZWL2SR\",\"bio\": \"Donec pellentesque ultrices mi, non consectetur eros luctus non. In id elit malesuada, pulvinar mi eu, imperdiet nulla. Aliquam sollicitudin ante ligula, eget malesuada nibh efficitur et.\",\"version\": 6.53},{\"name\": \"Iria Xamardo\",\"language\": \"Galician\",\"id\": \"ULUDKBP9PHBGHX2J\",\"bio\": \"Vivamus id faucibus velit, id posuere leo. Sed eu libero maximus nunc lacinia lobortis et sit amet nisi. Lorem ipsum dolor sit amet, consectetur adipiscing elit. Etiam malesuada blandit erat, nec ultricies leo maximus sed. Ut viverra quis eros eu tincidunt.\",\"version\": 3.42},{\"name\": \"Joseph Grech\",\"language\": \"Maltese\",\"id\": \"T4P1164RJBJ8S6XD\",\"bio\": \"Aliquam scelerisque pretium tellus, sed accumsan est ultrices id. Donec lobortis eleifend condimentum.\",\"version\": 7.68},{\"name\": \"Napogadi Selepe\",\"language\": \"Sesotho sa Leboa\",\"id\": \"AJK91MKRFIHAQHHG\",\"bio\": \"Quisque maximus sodales mauris ut elementum. Maecenas quis nisi nunc.\",\"version\": 4.95},{\"name\": \"Lesetja Theko\",\"language\": \"Sesotho sa Leboa\",\"id\": \"AATM20BURO1DHDAE\",\"bio\": \"Phasellus massa ligula, hendrerit eget efficitur eget, tincidunt in ligula. Etiam mauris magna, fermentum vitae aliquet eu, cursus vitae sapien. Nulla finibus massa at viverra facilisis. Morbi finibus dui sed est fringilla ornare.\",\"version\": 6.81},{\"name\": \"Martiño Arxíz\",\"language\": \"Galician\",\"id\": \"CQ56N9MH3WK7H5YQ\",\"bio\": \"Proin tempus eu risus nec mattis. Morbi vitae nisi lacinia, laoreet lorem nec, egestas orci. Vestibulum ante ipsum primis in faucibus orci luctus et ultrices posuere cubilia curae; Etiam consequat enim lorem, at tincidunt velit ultricies et. Nam rutrum sollicitudin ante tempus consequat. .\",\"version\": 7.13},{\"name\": \"Malehumò Ledwaba\",\"language\": \"Sesotho sa Leboa\",\"id\": \"E4F3HGRTKQKCT1SE\",\"bio\": \"Ut accumsan, est vel fringilla varius, purus augue blandit nisl, eu rhoncus ligula purus vel dolor. Curabitur quis commodo quam. Quisque maximus sodales mauris ut elementum. Curabitur sed condimentum felis, ut luctus eros. Curabitur ultricies id urna nec ultrices.\",\"version\": 6.52},{\"name\": \"Musa Yasin\",\"language\": \"Uyghur\",\"id\": \"1AF8GIQZ1LF8QW0U\",\"bio\": \"Phasellus tincidunt sollicitudin posuere. Phasellus massa ligula, hendrerit eget efficitur eget, tincidunt in ligula. Ut maximus, libero nec facilisis fringilla, ex sem sollicitudin leo, non congue tortor ligula in eros. Ut accumsan, est vel fringilla varius, purus augue blandit nisl, eu rhoncus ligula purus vel dolor.\",\"version\": 1.54},{\"name\": \"Lajwanti Kumari\",\"language\": \"Sindhi\",\"id\": \"INRW3R54RAY7J9IS\",\"bio\": \"In sed ultricies lorem. Sed eu libero maximus nunc lacinia lobortis et sit amet nisi. Quisque mauris ligula, efficitur porttitor sodales ac, lacinia non ex. Lorem ipsum dolor sit amet, consectetur adipiscing elit.\",\"version\": 9.34},{\"name\": \"Maria Sammut\",\"language\": \"Maltese\",\"id\": \"BJRF0BWIHJ0Q12A1\",\"bio\": \"Maecenas tempus neque ut porttitor malesuada. Curabitur ultricies id urna nec ultrices.\",\"version\": 6.83},{\"name\": \"Rita Busuttil\",\"language\": \"Maltese\",\"id\": \"1QLMU6QZ7EYUNNZV\",\"bio\": \"Phasellus tincidunt sollicitudin posuere. Quisque efficitur vel sapien ut imperdiet. Vestibulum pharetra libero et velit gravida euismod. Maecenas tempus neque ut porttitor malesuada.\",\"version\": 2.09},{\"name\": \"Roi Fraguela\",\"language\": \"Galician\",\"id\": \"UAT0M2O42E9M4SFT\",\"bio\": \"Donec congue sapien vel euismod interdum. Lorem ipsum dolor sit amet, consectetur adipiscing elit. Fusce congue aliquam elit ut luctus. Morbi ac tellus erat. Lorem ipsum dolor sit amet, consectetur adipiscing elit.\",\"version\": 1.08},{\"name\": \"Matome Molamo\",\"language\": \"Sesotho sa Leboa\",\"id\": \"7HI0UZZLRB9N5CBI\",\"bio\": \"Vestibulum pharetra libero et velit gravida euismod. Fusce eu ultrices elit, vel posuere neque. Duis pellentesque ultrices convallis.\",\"version\": 9.55},{\"name\": \"Mapula Selokela\",\"language\": \"Sesotho sa Leboa\",\"id\": \"6ZQTOKQI6K82EE9Q\",\"bio\": \"Duis pellentesque ultrices convallis. Nam laoreet, nunc non suscipit interdum, justo turpis vestibulum massa, non vulputate ex urna at purus. Ut viverra quis eros eu tincidunt. Proin tempus eu risus nec mattis.\",\"version\": 5.27},{\"name\": \"Noa Ervello\",\"language\": \"Galician\",\"id\": \"W9FR842CI16V8NU3\",\"bio\": \"Aliquam sollicitudin ante ligula, eget malesuada nibh efficitur et. Vestibulum ante ipsum primis in faucibus orci luctus et ultrices posuere cubilia curae; Etiam consequat enim lorem, at tincidunt velit ultricies et. Suspendisse sit amet ullamcorper sem. Quisque mauris ligula, efficitur porttitor sodales ac, lacinia non ex.\",\"version\": 9.33},{\"name\": \"Naseem Kakepoto\",\"language\": \"Sindhi\",\"id\": \"6C7HZV4WPV9C9KS6\",\"bio\": \"Morbi ultricies consequat ligula posuere eleifend. Fusce congue aliquam elit ut luctus. . Phasellus massa ligula, hendrerit eget efficitur eget, tincidunt in ligula.\",\"version\": 1.4},{\"name\": \"sayama Amir\",\"language\": \"Sindhi\",\"id\": \"7K4IJT1X7G0EK9WC\",\"bio\": \"Morbi ac tellus erat. Aliquam scelerisque pretium tellus, sed accumsan est ultrices id. Maecenas quis nisi nunc. Etiam congue dignissim volutpat. Sed nec suscipit ligula.\",\"version\": 9.48},{\"name\": \"Mariña Quintá\",\"language\": \"Galician\",\"id\": \"7GXC4OQYXX5JJY9F\",\"bio\": \"Phasellus tincidunt sollicitudin posuere. Morbi ac tellus erat. Nullam ac sodales dolor, eu facilisis dui.\",\"version\": 8.81},{\"name\": \"Memet Tursun\",\"language\": \"Uyghur\",\"id\": \"KSFMV2JK2D553083\",\"bio\": \"Vestibulum ante ipsum primis in faucibus orci luctus et ultrices posuere cubilia curae; Etiam consequat enim lorem, at tincidunt velit ultricies et. Morbi finibus dui sed est fringilla ornare. Suspendisse sit amet ullamcorper sem.\",\"version\": 7.56},{\"name\": \"Carmen Vella\",\"language\": \"Maltese\",\"id\": \"WUALBIMS4E8JS4L2\",\"bio\": \"Lorem ipsum dolor sit amet, consectetur adipiscing elit. Nunc aliquet sodales nunc a pulvinar. Morbi vitae nisi lacinia, laoreet lorem nec, egestas orci. Vestibulum pharetra libero et velit gravida euismod.\",\"version\": 4.55},{\"name\": \"Sobia Khanam\",\"language\": \"Sindhi\",\"id\": \"YG1ERFWBJ7TIW35D\",\"bio\": \"Phasellus tincidunt sollicitudin posuere. Aliquam scelerisque pretium tellus, sed accumsan est ultrices id. Morbi ultricies consequat ligula posuere eleifend. Curabitur sed condimentum felis, ut luctus eros.\",\"version\": 4.59},{\"name\": \"Raheela Ali\",\"language\": \"Sindhi\",\"id\": \"7JGX9SMLD5DE2IMG\",\"bio\": \"Morbi finibus dui sed est fringilla ornare. Maecenas quis nisi nunc. Maecenas tempus neque ut porttitor malesuada. Curabitur ultricies id urna nec ultrices.\",\"version\": 4.75},{\"name\": \"Rashid Rajput\",\"language\": \"Sindhi\",\"id\": \"UNBGUGDUATATCLS4\",\"bio\": \"Donec congue sapien vel euismod interdum. Maecenas quis nisi nunc.\",\"version\": 8.51},{\"name\": \"Uxía Feal\",\"language\": \"Galician\",\"id\": \"35ZPXUNH1M6W3ZJP\",\"bio\": \"Vestibulum pharetra libero et velit gravida euismod. Vivamus id faucibus velit, id posuere leo.\",\"version\": 1.31},{\"name\": \"Andrew Fenech\",\"language\": \"Maltese\",\"id\": \"VEYKDKL8L0R0C7GQ\",\"bio\": \"In sed ultricies lorem. Etiam mauris magna, fermentum vitae aliquet eu, cursus vitae sapien. Sed laoreet posuere sapien, ut feugiat nibh gravida at.\",\"version\": 2.5},{\"name\": \"Nicholas Micallef\",\"language\": \"Maltese\",\"id\": \"ZYCAI905154LSICR\",\"bio\": \"Nam tristique feugiat est vitae mollis. Curabitur ultricies id urna nec ultrices. Morbi finibus dui sed est fringilla ornare.\",\"version\": 6.47},{\"name\": \"Paul Borg\",\"language\": \"Maltese\",\"id\": \"8AD5MMJ0TD0NJ6H2\",\"bio\": \"Phasellus massa ligula, hendrerit eget efficitur eget, tincidunt in ligula. Etiam mauris magna, fermentum vitae aliquet eu, cursus vitae sapien.\",\"version\": 3.77},{\"name\": \"Sara Saleem\",\"language\": \"Sindhi\",\"id\": \"5LPKMTZI7OPSJRBA\",\"bio\": \"Maecenas tempus neque ut porttitor malesuada. Etiam congue dignissim volutpat. Proin tempus eu risus nec mattis. Morbi vitae nisi lacinia, laoreet lorem nec, egestas orci. Duis commodo orci ut dolor iaculis facilisis.\",\"version\": 5.31},{\"name\": \"Xurxo Golán\",\"language\": \"Galician\",\"id\": \"526ZUSGXEETODHJK\",\"bio\": \"Ut viverra quis eros eu tincidunt. Morbi finibus dui sed est fringilla ornare. Sed laoreet posuere sapien, ut feugiat nibh gravida at. Duis commodo orci ut dolor iaculis facilisis. In sed ultricies lorem.\",\"version\": 1.75},{\"name\": \"Peter Zammit\",\"language\": \"Maltese\",\"id\": \"NNRT5QWNWO2WLS5V\",\"bio\": \"Duis commodo orci ut dolor iaculis facilisis. Maecenas quis nisi nunc.\",\"version\": 8.23},{\"name\": \"Maname Mohlare\",\"language\": \"Sesotho sa Leboa\",\"id\": \"KZJZ9SD0DIWTIBUC\",\"bio\": \"Quisque mauris ligula, efficitur porttitor sodales ac, lacinia non ex. Vestibulum pharetra libero et velit gravida euismod. Ut accumsan, est vel fringilla varius, purus augue blandit nisl, eu rhoncus ligula purus vel dolor. Sed eu libero maximus nunc lacinia lobortis et sit amet nisi.\",\"version\": 8.95},{\"name\": \"Tshepè Mobu\",\"language\": \"Sesotho sa Leboa\",\"id\": \"8CH586LQR7ZCP73P\",\"bio\": \"Lorem ipsum dolor sit amet, consectetur adipiscing elit. Nulla finibus massa at viverra facilisis.\",\"version\": 7.82},{\"name\": \"Monica Lohana\",\"language\": \"Sindhi\",\"id\": \"KP1C2WN3DN1R3Y52\",\"bio\": \"Vestibulum ante ipsum primis in faucibus orci luctus et ultrices posuere cubilia curae; Etiam consequat enim lorem, at tincidunt velit ultricies et. Aenean finibus in tortor vel aliquet. Nam laoreet, nunc non suscipit interdum, justo turpis vestibulum massa, non vulputate ex urna at purus. Morbi vitae nisi lacinia, laoreet lorem nec, egestas orci.\",\"version\": 7.95},{\"name\": \"Patigul Rahman\",\"language\": \"Uyghur\",\"id\": \"NXMNLB0SOYET1VMN\",\"bio\": \"In sed ultricies lorem. Proin tempus eu risus nec mattis. Nam rutrum sollicitudin ante tempus consequat. Aliquam scelerisque pretium tellus, sed accumsan est ultrices id.\",\"version\": 2.98},{\"name\": \"Joanne Scerri\",\"language\": \"Maltese\",\"id\": \"H8FJ2WKLGGF3K26U\",\"bio\": \"Fusce eu ultrices elit, vel posuere neque. Nulla finibus massa at viverra facilisis. Duis commodo orci ut dolor iaculis facilisis. Nam laoreet, nunc non suscipit interdum, justo turpis vestibulum massa, non vulputate ex urna at purus. Phasellus massa ligula, hendrerit eget efficitur eget, tincidunt in ligula.\",\"version\": 8.4},{\"name\": \"Ratanang Maphutha\",\"language\": \"Sesotho sa Leboa\",\"id\": \"EZXJTQQ2JWPB5DI3\",\"bio\": \"Vivamus id faucibus velit, id posuere leo. Phasellus tincidunt sollicitudin posuere. Duis pellentesque ultrices convallis.\",\"version\": 9.17},{\"name\": \"Kamil Mehmud\",\"language\": \"Uyghur\",\"id\": \"M24A9OMYPSX7FD16\",\"bio\": \"Donec congue sapien vel euismod interdum. Suspendisse potenti. In id elit malesuada, pulvinar mi eu, imperdiet nulla. Nunc aliquet sodales nunc a pulvinar. Ut viverra quis eros eu tincidunt.\",\"version\": 4.66},{\"name\": \"Thobile Mbele\",\"language\": \"isiZulu\",\"id\": \"631M00M8YFFBC5NC\",\"bio\": \"Nunc aliquet sodales nunc a pulvinar. Proin tempus eu risus nec mattis. Proin tempus eu risus nec mattis. Aliquam scelerisque pretium tellus, sed accumsan est ultrices id. Nam laoreet, nunc non suscipit interdum, justo turpis vestibulum massa, non vulputate ex urna at purus.\",\"version\": 8.96},{\"name\": \"Kristján Kristjánsson\",\"language\": \"Icelandic\",\"id\": \"0WT0ZW50DNSTCHKW\",\"bio\": \"Quisque maximus sodales mauris ut elementum. Pellentesque massa sem, scelerisque sit amet odio id, cursus tempor urna. Donec congue sapien vel euismod interdum. Phasellus massa ligula, hendrerit eget efficitur eget, tincidunt in ligula. Donec lobortis eleifend condimentum.\",\"version\": 8.82},{\"name\": \"Stefán Stefánsson\",\"language\": \"Icelandic\",\"id\": \"1UOL8UK8BWAOSYTC\",\"bio\": \"Suspendisse potenti. Duis luctus, lacus eu aliquet convallis, purus elit malesuada ex, vitae rutrum ipsum dui ut magna. Morbi ultricies consequat ligula posuere eleifend.\",\"version\": 7.87},{\"name\": \"Preeti Rajdan\",\"language\": \"Hindi\",\"id\": \"3UN0X88Y4WYH3X8X\",\"bio\": \"In sed ultricies lorem. Vivamus id faucibus velit, id posuere leo. Duis commodo orci ut dolor iaculis facilisis. Nam rutrum sollicitudin ante tempus consequat.\",\"version\": 9.17},{\"name\": \"Sanjay Trivedi\",\"language\": \"Hindi\",\"id\": \"CPHR246457BD01KY\",\"bio\": \"Quisque maximus sodales mauris ut elementum. Morbi ac tellus erat. Maecenas tempus neque ut porttitor malesuada. Cras dictum dolor lacinia lectus vehicula rutrum.\",\"version\": 8.3},{\"name\": \"Smiriti Sisodiya\",\"language\": \"Hindi\",\"id\": \"X3KWIL5KEHTMCKOM\",\"bio\": \"Integer vehicula, arcu sit amet egestas efficitur, orci justo interdum massa, eget ullamcorper risus ligula tristique libero. Morbi finibus dui sed est fringilla ornare.\",\"version\": 3.27},{\"name\": \"Sandeep Benarjee\",\"language\": \"Hindi\",\"id\": \"9TS6CIE3UAIFG2IB\",\"bio\": \"Aliquam sollicitudin ante ligula, eget malesuada nibh efficitur et. Sed nec suscipit ligula. Quisque efficitur vel sapien ut imperdiet. Suspendisse sit amet ullamcorper sem.\",\"version\": 3.86},{\"name\": \"Damir Benic\",\"language\": \"Bosnian\",\"id\": \"QUNL9VBRHUGNOFMJ\",\"bio\": \". Ut dictum, ligula eget sagittis maximus, tellus mi varius ex, a accumsan justo tellus vitae leo.\",\"version\": 9.56},{\"name\": \"Sigrún Kristjánsdóttir\",\"language\": \"Icelandic\",\"id\": \"BT1Q0NUPKHDVCFLE\",\"bio\": \"Ut dictum, ligula eget sagittis maximus, tellus mi varius ex, a accumsan justo tellus vitae leo. Nulla finibus massa at viverra facilisis.\",\"version\": 6.78},{\"name\": \"Basetsana Thage\",\"language\": \"Setswana\",\"id\": \"R9P3P2IAN7NY2X2Y\",\"bio\": \"Pellentesque massa sem, scelerisque sit amet odio id, cursus tempor urna. Nulla finibus massa at viverra facilisis. Phasellus massa ligula, hendrerit eget efficitur eget, tincidunt in ligula.\",\"version\": 3.97},{\"name\": \"Rajesh Santoshi\",\"language\": \"Hindi\",\"id\": \"OXQTFZHZW8SVE3SY\",\"bio\": \"Donec lobortis eleifend condimentum. Nam rutrum sollicitudin ante tempus consequat. Nullam sodales convallis mauris, sit amet lobortis magna auctor sit amet.\",\"version\": 8.35},{\"name\": \"Margrét Magnúsdóttir\",\"language\": \"Icelandic\",\"id\": \"1P6VZEDGK2XUU97L\",\"bio\": \"Sed eu libero maximus nunc lacinia lobortis et sit amet nisi. Duis pellentesque ultrices convallis. Donec lobortis eleifend condimentum.\",\"version\": 3.76},{\"name\": \"Makhosi Ngiba\",\"language\": \"isiZulu\",\"id\": \"CTM3Y3TZOLC7TPDU\",\"bio\": \"Ut dictum, ligula eget sagittis maximus, tellus mi varius ex, a accumsan justo tellus vitae leo. Suspendisse sit amet ullamcorper sem. Donec lobortis eleifend condimentum. Aenean finibus in tortor vel aliquet. Proin tempus eu risus nec mattis.\",\"version\": 1.18},{\"name\": \"Lorato Bogosi\",\"language\": \"Setswana\",\"id\": \"EEZ0KS5E0RXACAIA\",\"bio\": \"Morbi ultricies consequat ligula posuere eleifend. Nam rutrum sollicitudin ante tempus consequat. Ut dictum, ligula eget sagittis maximus, tellus mi varius ex, a accumsan justo tellus vitae leo. Curabitur ultricies id urna nec ultrices.\",\"version\": 5.48},{\"name\": \"Modisaotsile Bolokwe\",\"language\": \"Setswana\",\"id\": \"DN068KNEOAQ8LM19\",\"bio\": \"Nullam ac sodales dolor, eu facilisis dui. Duis commodo orci ut dolor iaculis facilisis. In id elit malesuada, pulvinar mi eu, imperdiet nulla. Donec congue sapien vel euismod interdum. Sed nec suscipit ligula.\",\"version\": 4.23},{\"name\": \"Mxolisi Mhlongo\",\"language\": \"isiZulu\",\"id\": \"Q2HFB19RPLHIZXKH\",\"bio\": \"Aliquam scelerisque pretium tellus, sed accumsan est ultrices id. Maecenas tempus neque ut porttitor malesuada. . Duis commodo orci ut dolor iaculis facilisis.\",\"version\": 7.49},{\"name\": \"Moni Sisodiya\",\"language\": \"Hindi\",\"id\": \"3CR7CN74GCKXWUQF\",\"bio\": \"Vestibulum pharetra libero et velit gravida euismod. Donec congue sapien vel euismod interdum. Fusce congue aliquam elit ut luctus. Ut viverra quis eros eu tincidunt. Phasellus tincidunt sollicitudin posuere.\",\"version\": 4.58},{\"name\": \"Anna Jónsdóttir\",\"language\": \"Icelandic\",\"id\": \"CKJW1XVW90VWO4Y1\",\"bio\": \"Etiam mauris magna, fermentum vitae aliquet eu, cursus vitae sapien. Donec lobortis eleifend condimentum. Etiam mauris magna, fermentum vitae aliquet eu, cursus vitae sapien.\",\"version\": 5.78},{\"name\": \"Darko Basic\",\"language\": \"Bosnian\",\"id\": \"FWT1CZQOIVRJTXRD\",\"bio\": \"Donec congue sapien vel euismod interdum. Fusce eu ultrices elit, vel posuere neque. Duis luctus, lacus eu aliquet convallis, purus elit malesuada ex, vitae rutrum ipsum dui ut magna.\",\"version\": 2.27},{\"name\": \"Kedibonye Magogwe\",\"language\": \"Setswana\",\"id\": \"PCT0HLRPZLDSSDU1\",\"bio\": \"Aliquam sollicitudin ante ligula, eget malesuada nibh efficitur et. Aliquam sollicitudin ante ligula, eget malesuada nibh efficitur et. Quisque maximus sodales mauris ut elementum.\",\"version\": 5.57},{\"name\": \"Nobuhle Xaba\",\"language\": \"isiZulu\",\"id\": \"5K1K8V1OUUFKQ2UV\",\"bio\": \"Maecenas non arcu nulla. Morbi ac tellus erat.\",\"version\": 1.18},{\"name\": \"Monty Dubey\",\"language\": \"Hindi\",\"id\": \"B7SF955NFGAEBRXU\",\"bio\": \"Maecenas quis nisi nunc. Maecenas tempus neque ut porttitor malesuada. Morbi ultricies consequat ligula posuere eleifend. Ut accumsan, est vel fringilla varius, purus augue blandit nisl, eu rhoncus ligula purus vel dolor.\",\"version\": 6.69},{\"name\": \"Richa Choukse\",\"language\": \"Hindi\",\"id\": \"BADWLBP8CNJNBEC8\",\"bio\": \"Nunc tincidunt laoreet laoreet. Ut dictum, ligula eget sagittis maximus, tellus mi varius ex, a accumsan justo tellus vitae leo. Curabitur quis commodo quam. Morbi vitae nisi lacinia, laoreet lorem nec, egestas orci.\",\"version\": 7.8},{\"name\": \"Dzenan Imamovic\",\"language\": \"Bosnian\",\"id\": \"FVAHD0OY99X9DIRW\",\"bio\": \"Nam tristique feugiat est vitae mollis. Quisque mauris ligula, efficitur porttitor sodales ac, lacinia non ex. Nullam ac sodales dolor, eu facilisis dui. Morbi finibus dui sed est fringilla ornare. Quisque efficitur vel sapien ut imperdiet.\",\"version\": 1.64},{\"name\": \"Amol Bhatnagar\",\"language\": \"Hindi\",\"id\": \"3HPSETKL9VOW2WTL\",\"bio\": \"Vestibulum pharetra libero et velit gravida euismod. Nam semper gravida nunc, sit amet elementum ipsum.\",\"version\": 3.28},{\"name\": \"Ingibjörg Ólafsdóttir\",\"language\": \"Icelandic\",\"id\": \"9BXLMMM1PQOZRHCR\",\"bio\": \"Maecenas non arcu nulla. Sed nec suscipit ligula. Fusce congue aliquam elit ut luctus.\",\"version\": 9.59},{\"name\": \"Shweta Chourasia\",\"language\": \"Hindi\",\"id\": \"9GAO62FXPQMUTTLJ\",\"bio\": \"Duis luctus, lacus eu aliquet convallis, purus elit malesuada ex, vitae rutrum ipsum dui ut magna. Integer vehicula, arcu sit amet egestas efficitur, orci justo interdum massa, eget ullamcorper risus ligula tristique libero. Quisque maximus sodales mauris ut elementum. Sed eu libero maximus nunc lacinia lobortis et sit amet nisi.\",\"version\": 5.84},{\"name\": \"Ayanda Ndimande\",\"language\": \"isiZulu\",\"id\": \"VPK9MQRKX2L847HQ\",\"bio\": \"Duis commodo orci ut dolor iaculis facilisis. Nam laoreet, nunc non suscipit interdum, justo turpis vestibulum massa, non vulputate ex urna at purus.\",\"version\": 2.89},{\"name\": \"Sigurjón Guðmundsson\",\"language\": \"Icelandic\",\"id\": \"IAYT285H2U8JU94F\",\"bio\": \"Sed eu libero maximus nunc lacinia lobortis et sit amet nisi. Ut viverra quis eros eu tincidunt. Lorem ipsum dolor sit amet, consectetur adipiscing elit. Aliquam sollicitudin ante ligula, eget malesuada nibh efficitur et. Vestibulum ante ipsum primis in faucibus orci luctus et ultrices posuere cubilia curae; Etiam consequat enim lorem, at tincidunt velit ultricies et.\",\"version\": 4.85},{\"name\": \"Jóhannes Jóhannsson\",\"language\": \"Icelandic\",\"id\": \"J2RAROEJGKMR72I8\",\"bio\": \"Duis pellentesque ultrices convallis. Nulla finibus massa at viverra facilisis. Ut dictum, ligula eget sagittis maximus, tellus mi varius ex, a accumsan justo tellus vitae leo.\",\"version\": 4.83},{\"name\": \"Neo Dikgaka\",\"language\": \"Setswana\",\"id\": \"OQRF6Y37N20JILOC\",\"bio\": \"Nam tristique feugiat est vitae mollis. Sed nec suscipit ligula. Nam laoreet, nunc non suscipit interdum, justo turpis vestibulum massa, non vulputate ex urna at purus. Duis pellentesque ultrices convallis. Maecenas quis nisi nunc.\",\"version\": 1.07},{\"name\": \"Sanja Jankovic\",\"language\": \"Bosnian\",\"id\": \"HD94EKIPA6WAL05C\",\"bio\": \"Phasellus tincidunt sollicitudin posuere. Nam laoreet, nunc non suscipit interdum, justo turpis vestibulum massa, non vulputate ex urna at purus. In id elit malesuada, pulvinar mi eu, imperdiet nulla. Donec congue sapien vel euismod interdum. Nullam ac sodales dolor, eu facilisis dui.\",\"version\": 1.06},{\"name\": \"Mogorosi Bakwena\",\"language\": \"Setswana\",\"id\": \"FTZM8YDJJUH1OEM7\",\"bio\": \"Vestibulum pharetra libero et velit gravida euismod. Suspendisse sit amet ullamcorper sem.\",\"version\": 6.03},{\"name\": \"Ronak Gupta\",\"language\": \"Hindi\",\"id\": \"ZYPDGK8UDYJPTRKN\",\"bio\": \"Sed laoreet posuere sapien, ut feugiat nibh gravida at. Quisque mauris ligula, efficitur porttitor sodales ac, lacinia non ex. In sed ultricies lorem. Pellentesque massa sem, scelerisque sit amet odio id, cursus tempor urna.\",\"version\": 7.18},{\"name\": \"Ditiro Kgosi\",\"language\": \"Setswana\",\"id\": \"67C5ET66U59WYJ6K\",\"bio\": \"Fusce congue aliquam elit ut luctus. Ut dictum, ligula eget sagittis maximus, tellus mi varius ex, a accumsan justo tellus vitae leo. Cras dictum dolor lacinia lectus vehicula rutrum. Etiam congue dignissim volutpat.\",\"version\": 4.56},{\"name\": \"Jelena Maric\",\"language\": \"Bosnian\",\"id\": \"JTW9DH3B9QGB39JY\",\"bio\": \"Vestibulum pharetra libero et velit gravida euismod. Etiam malesuada blandit erat, nec ultricies leo maximus sed.\",\"version\": 3.39},{\"name\": \"Esha Sastry\",\"language\": \"Hindi\",\"id\": \"4OJULHY03Z6XTRMW\",\"bio\": \"Morbi vitae nisi lacinia, laoreet lorem nec, egestas orci. Nullam ac sodales dolor, eu facilisis dui.\",\"version\": 5.1},{\"name\": \"Chetana Hegde\",\"language\": \"Hindi\",\"id\": \"J9GS1RODDZL325LK\",\"bio\": \"Aliquam sollicitudin ante ligula, eget malesuada nibh efficitur et. Nulla finibus massa at viverra facilisis. Nam tristique feugiat est vitae mollis. Phasellus tincidunt sollicitudin posuere.\",\"version\": 9.99},{\"name\": \"Rahul Shukla\",\"language\": \"Hindi\",\"id\": \"2ANVMAVG6YX2VT6N\",\"bio\": \"Phasellus massa ligula, hendrerit eget efficitur eget, tincidunt in ligula. Phasellus massa ligula, hendrerit eget efficitur eget, tincidunt in ligula.\",\"version\": 1.72},{\"name\": \"Samra Delic\",\"language\": \"Bosnian\",\"id\": \"BXJWNTJ2TDID61PJ\",\"bio\": \"Donec pellentesque ultrices mi, non consectetur eros luctus non. Sed nec suscipit ligula.\",\"version\": 2.5},{\"name\": \"Mohan Pandey\",\"language\": \"Hindi\",\"id\": \"XAHKVLM3I1WSPNIW\",\"bio\": \"Maecenas quis nisi nunc. Ut dictum, ligula eget sagittis maximus, tellus mi varius ex, a accumsan justo tellus vitae leo. Ut maximus, libero nec facilisis fringilla, ex sem sollicitudin leo, non congue tortor ligula in eros. Morbi ac tellus erat.\",\"version\": 8.1},{\"name\": \"Haris Osmanovic\",\"language\": \"Bosnian\",\"id\": \"ZDXF5KESMW9XF2TJ\",\"bio\": \"Nam rutrum sollicitudin ante tempus consequat. Etiam mauris magna, fermentum vitae aliquet eu, cursus vitae sapien.\",\"version\": 9.41},{\"name\": \"Kenosi Kwenaemang\",\"language\": \"Setswana\",\"id\": \"DX2IYTQ9IMY75W08\",\"bio\": \"Sed laoreet posuere sapien, ut feugiat nibh gravida at. Donec lobortis eleifend condimentum.\",\"version\": 9.01},{\"name\": \"Nontobeko Nzimande\",\"language\": \"isiZulu\",\"id\": \"Y9C4HQHTOP74DFZT\",\"bio\": \"Nullam sodales convallis mauris, sit amet lobortis magna auctor sit amet. Morbi vitae nisi lacinia, laoreet lorem nec, egestas orci. Integer vehicula, arcu sit amet egestas efficitur, orci justo interdum massa, eget ullamcorper risus ligula tristique libero. Nam laoreet, nunc non suscipit interdum, justo turpis vestibulum massa, non vulputate ex urna at purus.\",\"version\": 4.77},{\"name\": \"Sanjay Puranik\",\"language\": \"Hindi\",\"id\": \"WF2WP6S0HX8GR8GZ\",\"bio\": \"Ut viverra quis eros eu tincidunt. Vestibulum ante ipsum primis in faucibus orci luctus et ultrices posuere cubilia curae; Etiam consequat enim lorem, at tincidunt velit ultricies et. Nam semper gravida nunc, sit amet elementum ipsum.\",\"version\": 3.37},{\"name\": \"Sethunya Mpšwe\",\"language\": \"Setswana\",\"id\": \"85MVUXVQ5H5HPA4F\",\"bio\": \"Quisque maximus sodales mauris ut elementum. Duis commodo orci ut dolor iaculis facilisis. Sed eu libero maximus nunc lacinia lobortis et sit amet nisi.\",\"version\": 1.75},{\"name\": \"Dileep Chaturvedi\",\"language\": \"Hindi\",\"id\": \"O95BY1KDMCEYQRFH\",\"bio\": \"Phasellus tincidunt sollicitudin posuere. In id elit malesuada, pulvinar mi eu, imperdiet nulla. Vivamus id faucibus velit, id posuere leo. Nullam ac sodales dolor, eu facilisis dui. Ut dictum, ligula eget sagittis maximus, tellus mi varius ex, a accumsan justo tellus vitae leo.\",\"version\": 4.94},{\"name\": \"Adnan Spahic\",\"language\": \"Bosnian\",\"id\": \"97IIDMHAJMBPI4ON\",\"bio\": \"Duis commodo orci ut dolor iaculis facilisis. Vivamus id faucibus velit, id posuere leo.\",\"version\": 9.1},{\"name\": \"Madhur Jain\",\"language\": \"Hindi\",\"id\": \"FM300CZ0VU9LTNTE\",\"bio\": \"Fusce eu ultrices elit, vel posuere neque. Donec congue sapien vel euismod interdum. Vivamus id faucibus velit, id posuere leo. Integer vehicula, arcu sit amet egestas efficitur, orci justo interdum massa, eget ullamcorper risus ligula tristique libero. Aliquam sollicitudin ante ligula, eget malesuada nibh efficitur et.\",\"version\": 4.99},{\"name\": \"Nayan Mittal\",\"language\": \"Hindi\",\"id\": \"S879KFFIHDNK8GSE\",\"bio\": \"Suspendisse sit amet ullamcorper sem. In id elit malesuada, pulvinar mi eu, imperdiet nulla. Duis commodo orci ut dolor iaculis facilisis.\",\"version\": 3.99},{\"name\": \"Kabelo Morwe\",\"language\": \"Setswana\",\"id\": \"JJDPB2983QRVATD3\",\"bio\": \"Nullam ac sodales dolor, eu facilisis dui. Phasellus massa ligula, hendrerit eget efficitur eget, tincidunt in ligula. . Integer vehicula, arcu sit amet egestas efficitur, orci justo interdum massa, eget ullamcorper risus ligula tristique libero. Curabitur ultricies id urna nec ultrices.\",\"version\": 8.86},{\"name\": \"Einar Einarsson\",\"language\": \"Icelandic\",\"id\": \"ZWMFEUEBNYTW2WPB\",\"bio\": \"Etiam mauris magna, fermentum vitae aliquet eu, cursus vitae sapien. Duis pellentesque ultrices convallis. Nullam sodales convallis mauris, sit amet lobortis magna auctor sit amet. Vestibulum ante ipsum primis in faucibus orci luctus et ultrices posuere cubilia curae; Etiam consequat enim lorem, at tincidunt velit ultricies et. Donec congue sapien vel euismod interdum.\",\"version\": 9.05},{\"name\": \"Luka Lovren\",\"language\": \"Bosnian\",\"id\": \"9S4SGEQWBKMRISYZ\",\"bio\": \"Maecenas tempus neque ut porttitor malesuada. Lorem ipsum dolor sit amet, consectetur adipiscing elit. Curabitur quis commodo quam. Nam rutrum sollicitudin ante tempus consequat.\",\"version\": 5.22},{\"name\": \"Sigríður Einarsdóttir\",\"language\": \"Icelandic\",\"id\": \"4IJVD6OE3C7IX3ZG\",\"bio\": \"Aenean finibus in tortor vel aliquet. Nam tristique feugiat est vitae mollis.\",\"version\": 6.63},{\"name\": \"Sonu Jain\",\"language\": \"Hindi\",\"id\": \"0OIB5SU9JB2PBJDV\",\"bio\": \"Phasellus massa ligula, hendrerit eget efficitur eget, tincidunt in ligula. Curabitur ultricies id urna nec ultrices.\",\"version\": 9.66},{\"name\": \"Boitumelo Ngwako\",\"language\": \"Setswana\",\"id\": \"INZITSS95L9V52JE\",\"bio\": \"Ut maximus, libero nec facilisis fringilla, ex sem sollicitudin leo, non congue tortor ligula in eros. Aliquam sollicitudin ante ligula, eget malesuada nibh efficitur et. Nam tristique feugiat est vitae mollis. Quisque mauris ligula, efficitur porttitor sodales ac, lacinia non ex. In sed ultricies lorem.\",\"version\": 9.07},{\"name\": \"Shilpa Bhatia\",\"language\": \"Hindi\",\"id\": \"SU0W3T6TF8G3JY5M\",\"bio\": \"Morbi ultricies consequat ligula posuere eleifend. Donec pellentesque ultrices mi, non consectetur eros luctus non. Quisque efficitur vel sapien ut imperdiet. Lorem ipsum dolor sit amet, consectetur adipiscing elit.\",\"version\": 4.43},{\"name\": \"Modise Tau\",\"language\": \"Setswana\",\"id\": \"U6SF3N4JXJEQSC1P\",\"bio\": \"Vivamus id faucibus velit, id posuere leo. Phasellus massa ligula, hendrerit eget efficitur eget, tincidunt in ligula. Fusce eu ultrices elit, vel posuere neque. Nunc tincidunt laoreet laoreet.\",\"version\": 6.23},{\"name\": \"Reena Shrivastav\",\"language\": \"Hindi\",\"id\": \"Y57EEOVURYX1OA1P\",\"bio\": \"Donec lobortis eleifend condimentum. Curabitur ultricies id urna nec ultrices. Maecenas non arcu nulla.\",\"version\": 3.07},{\"name\": \"Thabani Ngubani\",\"language\": \"isiZulu\",\"id\": \"LR7FI8WEE3SLTW02\",\"bio\": \"Cras dictum dolor lacinia lectus vehicula rutrum. Nulla finibus massa at viverra facilisis.\",\"version\": 5.99},{\"name\": \"Gunnar Gunnarsson\",\"language\": \"Icelandic\",\"id\": \"UVI6EKJNMC3VE3WU\",\"bio\": \"In sed ultricies lorem. Donec congue sapien vel euismod interdum. Duis commodo orci ut dolor iaculis facilisis. Vestibulum ante ipsum primis in faucibus orci luctus et ultrices posuere cubilia curae; Etiam consequat enim lorem, at tincidunt velit ultricies et.\",\"version\": 8.7},{\"name\": \"Lejla Selimagic\",\"language\": \"Bosnian\",\"id\": \"ESBBT644VZ64SSEN\",\"bio\": \"Vivamus id faucibus velit, id posuere leo. Etiam congue dignissim volutpat. Donec lobortis eleifend condimentum. Fusce eu ultrices elit, vel posuere neque.\",\"version\": 5.59},{\"name\": \"Kgosietsile Bogatsu\",\"language\": \"Setswana\",\"id\": \"0B8IOVL2NSVJVV6T\",\"bio\": \"Curabitur quis commodo quam. In id elit malesuada, pulvinar mi eu, imperdiet nulla. Nullam ac sodales dolor, eu facilisis dui. Duis commodo orci ut dolor iaculis facilisis.\",\"version\": 6.78},{\"name\": \"Sushant Bhargav\",\"language\": \"Hindi\",\"id\": \"PRWA7HE1GJ7OCYQM\",\"bio\": \"Proin tempus eu risus nec mattis. Maecenas tempus neque ut porttitor malesuada. Quisque efficitur vel sapien ut imperdiet. Quisque efficitur vel sapien ut imperdiet.\",\"version\": 5.36},{\"name\": \"Monika Nayak\",\"language\": \"Hindi\",\"id\": \"RO0ZCWFTY6MJ66AZ\",\"bio\": \"Sed eu libero maximus nunc lacinia lobortis et sit amet nisi. Quisque efficitur vel sapien ut imperdiet. Nam rutrum sollicitudin ante tempus consequat. Curabitur ultricies id urna nec ultrices. Phasellus massa ligula, hendrerit eget efficitur eget, tincidunt in ligula.\",\"version\": 7.58},{\"name\": \"Guðrún Guðmundsdóttir\",\"language\": \"Icelandic\",\"id\": \"R1TRJT5TWANYO88D\",\"bio\": \"Maecenas non arcu nulla. In sed ultricies lorem.\",\"version\": 4.65},{\"name\": \"Shakti Menon\",\"language\": \"Hindi\",\"id\": \"J1NSHQXRWA7CY0AZ\",\"bio\": \"Vivamus id faucibus velit, id posuere leo. Etiam malesuada blandit erat, nec ultricies leo maximus sed. Nam semper gravida nunc, sit amet elementum ipsum.\",\"version\": 5.16},{\"name\": \"Ndumiso Hlatshwayo\",\"language\": \"isiZulu\",\"id\": \"533XA8H67VO8CSGQ\",\"bio\": \"Quisque efficitur vel sapien ut imperdiet. Nam semper gravida nunc, sit amet elementum ipsum. Donec pellentesque ultrices mi, non consectetur eros luctus non. Vestibulum pharetra libero et velit gravida euismod. Lorem ipsum dolor sit amet, consectetur adipiscing elit.\",\"version\": 5.24},{\"name\": \"Lucky Shastry\",\"language\": \"Hindi\",\"id\": \"3OBF3U08WI1QF63N\",\"bio\": \"Morbi ultricies consequat ligula posuere eleifend. Suspendisse sit amet ullamcorper sem.\",\"version\": 7.86},{\"name\": \"Pule Matlhaku\",\"language\": \"Setswana\",\"id\": \"UPATVXM44DAFUDI7\",\"bio\": \"Maecenas tempus neque ut porttitor malesuada. Vivamus id faucibus velit, id posuere leo. Morbi finibus dui sed est fringilla ornare.\",\"version\": 4.12},{\"name\": \"Raju Rathore\",\"language\": \"Hindi\",\"id\": \"QQMNYP788DEFG4IS\",\"bio\": \"Nam rutrum sollicitudin ante tempus consequat. Pellentesque massa sem, scelerisque sit amet odio id, cursus tempor urna. Integer vehicula, arcu sit amet egestas efficitur, orci justo interdum massa, eget ullamcorper risus ligula tristique libero.\",\"version\": 9.86},{\"name\": \"Xolani Ngcobo\",\"language\": \"isiZulu\",\"id\": \"SXWZ4IYT5VZA6WEE\",\"bio\": \"Ut dictum, ligula eget sagittis maximus, tellus mi varius ex, a accumsan justo tellus vitae leo. Fusce eu ultrices elit, vel posuere neque. Curabitur quis commodo quam.\",\"version\": 4.77},{\"name\": \"Meenakshi Benjaree\",\"language\": \"Hindi\",\"id\": \"933PPBA946YX1K4X\",\"bio\": \"Maecenas tempus neque ut porttitor malesuada. Duis pellentesque ultrices convallis.\",\"version\": 7.9},{\"name\": \"Ólafur Magnússon\",\"language\": \"Icelandic\",\"id\": \"NWY9HV455M3W8QKY\",\"bio\": \"Morbi ultricies consequat ligula posuere eleifend. Duis pellentesque ultrices convallis. Vestibulum pharetra libero et velit gravida euismod. Ut dictum, ligula eget sagittis maximus, tellus mi varius ex, a accumsan justo tellus vitae leo. Aliquam sollicitudin ante ligula, eget malesuada nibh efficitur et.\",\"version\": 2.09},{\"name\": \"Samir Simic\",\"language\": \"Bosnian\",\"id\": \"6H2IO7A62ZVUXGKZ\",\"bio\": \"Etiam malesuada blandit erat, nec ultricies leo maximus sed. Quisque maximus sodales mauris ut elementum. Lorem ipsum dolor sit amet, consectetur adipiscing elit. Lorem ipsum dolor sit amet, consectetur adipiscing elit.\",\"version\": 6.93},{\"name\": \"Swarnika Soni\",\"language\": \"Hindi\",\"id\": \"4GJF8C6P1Y5RFPMC\",\"bio\": \"Ut maximus, libero nec facilisis fringilla, ex sem sollicitudin leo, non congue tortor ligula in eros. Nunc tincidunt laoreet laoreet.\",\"version\": 4.82},{\"name\": \"Lavanya Mittal\",\"language\": \"Hindi\",\"id\": \"4Z09CO5IJH7CEUD2\",\"bio\": \"Suspendisse sit amet ullamcorper sem. Ut dictum, ligula eget sagittis maximus, tellus mi varius ex, a accumsan justo tellus vitae leo.\",\"version\": 1.08},{\"name\": \"Bontle Mokgatle\",\"language\": \"Setswana\",\"id\": \"4Y497GAOTAFUJDIC\",\"bio\": \"Maecenas non arcu nulla. Lorem ipsum dolor sit amet, consectetur adipiscing elit.\",\"version\": 1.92},{\"name\": \"Prashant Chourey\",\"language\": \"Hindi\",\"id\": \"J4NMMNAALGOIZY8V\",\"bio\": \"Etiam malesuada blandit erat, nec ultricies leo maximus sed. Suspendisse potenti. Phasellus massa ligula, hendrerit eget efficitur eget, tincidunt in ligula. Ut viverra quis eros eu tincidunt.\",\"version\": 8.59},{\"name\": \"Prakash Malviya\",\"language\": \"Hindi\",\"id\": \"P442H9CEHIU6HAFV\",\"bio\": \"Proin tempus eu risus nec mattis. Integer vehicula, arcu sit amet egestas efficitur, orci justo interdum massa, eget ullamcorper risus ligula tristique libero. Vivamus id faucibus velit, id posuere leo. In id elit malesuada, pulvinar mi eu, imperdiet nulla. Donec pellentesque ultrices mi, non consectetur eros luctus non.\",\"version\": 8.21},{\"name\": \"Ivana Kalic\",\"language\": \"Bosnian\",\"id\": \"31VIE8WWDJWKE5YL\",\"bio\": \"Quisque efficitur vel sapien ut imperdiet. Duis luctus, lacus eu aliquet convallis, purus elit malesuada ex, vitae rutrum ipsum dui ut magna.\",\"version\": 6.99},{\"name\": \"Ajeet Vasav\",\"language\": \"Hindi\",\"id\": \"ODNPTWVSRBPII0BH\",\"bio\": \"Aenean finibus in tortor vel aliquet. Integer vehicula, arcu sit amet egestas efficitur, orci justo interdum massa, eget ullamcorper risus ligula tristique libero. Morbi finibus dui sed est fringilla ornare. Morbi finibus dui sed est fringilla ornare. Ut maximus, libero nec facilisis fringilla, ex sem sollicitudin leo, non congue tortor ligula in eros.\",\"version\": 3.6},{\"name\": \"Jóhanna Jóhannsdóttir\",\"language\": \"Icelandic\",\"id\": \"ZI21GM8B08FVLMF0\",\"bio\": \"In sed ultricies lorem. Etiam malesuada blandit erat, nec ultricies leo maximus sed.\",\"version\": 4.93},{\"name\": \"Seema Thapar\",\"language\": \"Hindi\",\"id\": \"IZSO10C5ZHVYQ5O2\",\"bio\": \"Duis commodo orci ut dolor iaculis facilisis. Etiam mauris magna, fermentum vitae aliquet eu, cursus vitae sapien. Maecenas tempus neque ut porttitor malesuada. Phasellus massa ligula, hendrerit eget efficitur eget, tincidunt in ligula. Vestibulum ante ipsum primis in faucibus orci luctus et ultrices posuere cubilia curae; Etiam consequat enim lorem, at tincidunt velit ultricies et.\",\"version\": 1.79},{\"name\": \"María Stefánsdóttir\",\"language\": \"Icelandic\",\"id\": \"KWH2RVHSB25MYGL9\",\"bio\": \"In id elit malesuada, pulvinar mi eu, imperdiet nulla. Sed eu libero maximus nunc lacinia lobortis et sit amet nisi. Ut viverra quis eros eu tincidunt. Nam rutrum sollicitudin ante tempus consequat.\",\"version\": 5.21},{\"name\": \"Denis Terzic\",\"language\": \"Bosnian\",\"id\": \"1WQO4VGBS2U7DOSL\",\"bio\": \"Ut accumsan, est vel fringilla varius, purus augue blandit nisl, eu rhoncus ligula purus vel dolor. Curabitur quis commodo quam. Curabitur ultricies id urna nec ultrices. Nam rutrum sollicitudin ante tempus consequat. Morbi finibus dui sed est fringilla ornare.\",\"version\": 6.32},{\"name\": \"Ana Livic\",\"language\": \"Bosnian\",\"id\": \"8JYVK7SM07YQOVQ3\",\"bio\": \"Nam tristique feugiat est vitae mollis. Aliquam sollicitudin ante ligula, eget malesuada nibh efficitur et. Pellentesque massa sem, scelerisque sit amet odio id, cursus tempor urna. Proin tempus eu risus nec mattis. Sed eu libero maximus nunc lacinia lobortis et sit amet nisi.\",\"version\": 5.93},{\"name\": \"Bukhosi Bhengu\",\"language\": \"isiZulu\",\"id\": \"AFYXL0UNGMU0B1H2\",\"bio\": \"Curabitur quis commodo quam. Curabitur sed condimentum felis, ut luctus eros. Aliquam scelerisque pretium tellus, sed accumsan est ultrices id. Aliquam scelerisque pretium tellus, sed accumsan est ultrices id. Sed nec suscipit ligula.\",\"version\": 9.37},{\"name\": \"Siyabonga Sithole\",\"language\": \"isiZulu\",\"id\": \"NJDX77JXV51CNGF5\",\"bio\": \"Quisque mauris ligula, efficitur porttitor sodales ac, lacinia non ex. Sed laoreet posuere sapien, ut feugiat nibh gravida at.\",\"version\": 8.22},{\"name\": \"Meena Dubey\",\"language\": \"Hindi\",\"id\": \"GCJGYXSPDEFF9BTN\",\"bio\": \"Vestibulum ante ipsum primis in faucibus orci luctus et ultrices posuere cubilia curae; Etiam consequat enim lorem, at tincidunt velit ultricies et. Donec lobortis eleifend condimentum. Morbi ac tellus erat. Maecenas quis nisi nunc.\",\"version\": 2.95},{\"name\": \"Chandrika Gupta\",\"language\": \"Hindi\",\"id\": \"7KFJHS86WKTL6Q12\",\"bio\": \"Aliquam sollicitudin ante ligula, eget malesuada nibh efficitur et. Suspendisse sit amet ullamcorper sem. Etiam mauris magna, fermentum vitae aliquet eu, cursus vitae sapien.\",\"version\": 5.35},{\"name\": \"Akhilesh Khare\",\"language\": \"Hindi\",\"id\": \"ATINHMT01VNMMDCP\",\"bio\": \"Donec congue sapien vel euismod interdum. Suspendisse potenti. Nullam ac sodales dolor, eu facilisis dui. Nam tristique feugiat est vitae mollis. Curabitur ultricies id urna nec ultrices.\",\"version\": 3.68},{\"name\": \"Motsumi Basiang\",\"language\": \"Setswana\",\"id\": \"MUELSFQENUOHGBZ3\",\"bio\": \"Cras dictum dolor lacinia lectus vehicula rutrum. Ut maximus, libero nec facilisis fringilla, ex sem sollicitudin leo, non congue tortor ligula in eros. Donec congue sapien vel euismod interdum.\",\"version\": 5.23},{\"name\": \"Neha Benjaree\",\"language\": \"Hindi\",\"id\": \"5VTSZUD0SA9JVL40\",\"bio\": \"Morbi ultricies consequat ligula posuere eleifend. Nulla finibus massa at viverra facilisis. Nam tristique feugiat est vitae mollis.\",\"version\": 5.73},{\"name\": \"Kristín Sigurðardóttir\",\"language\": \"Icelandic\",\"id\": \"ZP5TBBYX6RI2UJ31\",\"bio\": \"Cras dictum dolor lacinia lectus vehicula rutrum. Cras dictum dolor lacinia lectus vehicula rutrum. Duis luctus, lacus eu aliquet convallis, purus elit malesuada ex, vitae rutrum ipsum dui ut magna. Fusce congue aliquam elit ut luctus. Duis commodo orci ut dolor iaculis facilisis.\",\"version\": 2.8},{\"name\": \"Rohini Vasav\",\"language\": \"Hindi\",\"id\": \"UEFML43TCGS04KWM\",\"bio\": \"Ut accumsan, est vel fringilla varius, purus augue blandit nisl, eu rhoncus ligula purus vel dolor. Ut maximus, libero nec facilisis fringilla, ex sem sollicitudin leo, non congue tortor ligula in eros. Nam rutrum sollicitudin ante tempus consequat. Aliquam scelerisque pretium tellus, sed accumsan est ultrices id. Suspendisse sit amet ullamcorper sem.\",\"version\": 9.3},{\"name\": \"Sunil Kapoor\",\"language\": \"Hindi\",\"id\": \"VY2A0APGVHK5NAW2\",\"bio\": \"Proin tempus eu risus nec mattis. Ut dictum, ligula eget sagittis maximus, tellus mi varius ex, a accumsan justo tellus vitae leo. In id elit malesuada, pulvinar mi eu, imperdiet nulla.\",\"version\": 8.04},{\"name\": \"Zamokuhle Zulu\",\"language\": \"isiZulu\",\"id\": \"XU7BX2F8M5PVZ1EF\",\"bio\": \"Etiam congue dignissim volutpat. Phasellus tincidunt sollicitudin posuere. Phasellus tincidunt sollicitudin posuere. Nam tristique feugiat est vitae mollis.\",\"version\": 8.39},{\"name\": \"Bhupesh Menon\",\"language\": \"Hindi\",\"id\": \"0CEPNRDV98KT3ORP\",\"bio\": \"Maecenas tempus neque ut porttitor malesuada. Phasellus massa ligula, hendrerit eget efficitur eget, tincidunt in ligula. Quisque mauris ligula, efficitur porttitor sodales ac, lacinia non ex. Maecenas quis nisi nunc.\",\"version\": 2.69}]"
   ]
  },
  {
   "cell_type": "code",
   "execution_count": 94,
   "id": "8f0f86a1",
   "metadata": {},
   "outputs": [
    {
     "data": {
      "text/plain": [
       "[{'name': 'Adeel Solangi',\n",
       "  'language': 'Sindhi',\n",
       "  'id': 'V59OF92YF627HFY0',\n",
       "  'bio': 'Donec lobortis eleifend condimentum. Cras dictum dolor lacinia lectus vehicula rutrum. Maecenas quis nisi nunc. Nam tristique feugiat est vitae mollis. Maecenas quis nisi nunc.',\n",
       "  'version': 6.1},\n",
       " {'name': 'Afzal Ghaffar',\n",
       "  'language': 'Sindhi',\n",
       "  'id': 'ENTOCR13RSCLZ6KU',\n",
       "  'bio': 'Aliquam sollicitudin ante ligula, eget malesuada nibh efficitur et. Pellentesque massa sem, scelerisque sit amet odio id, cursus tempor urna. Etiam congue dignissim volutpat. Vestibulum pharetra libero et velit gravida euismod.',\n",
       "  'version': 1.88},\n",
       " {'name': 'Aamir Solangi',\n",
       "  'language': 'Sindhi',\n",
       "  'id': 'IAKPO3R4761JDRVG',\n",
       "  'bio': 'Vestibulum pharetra libero et velit gravida euismod. Quisque mauris ligula, efficitur porttitor sodales ac, lacinia non ex. Fusce eu ultrices elit, vel posuere neque.',\n",
       "  'version': 7.27},\n",
       " {'name': 'Abla Dilmurat',\n",
       "  'language': 'Uyghur',\n",
       "  'id': '5ZVOEPMJUI4MB4EN',\n",
       "  'bio': 'Donec lobortis eleifend condimentum. Morbi ac tellus erat.',\n",
       "  'version': 2.53},\n",
       " {'name': 'Adil Eli',\n",
       "  'language': 'Uyghur',\n",
       "  'id': '6VTI8X6LL0MMPJCC',\n",
       "  'bio': 'Vivamus id faucibus velit, id posuere leo. Morbi vitae nisi lacinia, laoreet lorem nec, egestas orci. Suspendisse potenti.',\n",
       "  'version': 6.49},\n",
       " {'name': 'Adile Qadir',\n",
       "  'language': 'Uyghur',\n",
       "  'id': 'F2KEU5L7EHYSYFTT',\n",
       "  'bio': 'Duis commodo orci ut dolor iaculis facilisis. Morbi ultricies consequat ligula posuere eleifend. Aenean finibus in tortor vel aliquet. Fusce eu ultrices elit, vel posuere neque.',\n",
       "  'version': 1.9},\n",
       " {'name': 'Abdukerim Ibrahim',\n",
       "  'language': 'Uyghur',\n",
       "  'id': 'LO6DVTZLRK68528I',\n",
       "  'bio': 'Vivamus id faucibus velit, id posuere leo. Nunc aliquet sodales nunc a pulvinar. Nunc aliquet sodales nunc a pulvinar. Ut viverra quis eros eu tincidunt.',\n",
       "  'version': 5.9},\n",
       " {'name': 'Adil Abro',\n",
       "  'language': 'Sindhi',\n",
       "  'id': 'LJRIULRNJFCNZJAJ',\n",
       "  'bio': 'Etiam malesuada blandit erat, nec ultricies leo maximus sed. Fusce congue aliquam elit ut luctus. Etiam malesuada blandit erat, nec ultricies leo maximus sed. Cras dictum dolor lacinia lectus vehicula rutrum. Integer vehicula, arcu sit amet egestas efficitur, orci justo interdum massa, eget ullamcorper risus ligula tristique libero.',\n",
       "  'version': 9.32},\n",
       " {'name': 'Afonso Vilarchán',\n",
       "  'language': 'Galician',\n",
       "  'id': 'JMCL0CXNXHPL1GBC',\n",
       "  'bio': 'Fusce eu ultrices elit, vel posuere neque. Morbi ac tellus erat. Nunc tincidunt laoreet laoreet.',\n",
       "  'version': 5.21},\n",
       " {'name': 'Mark Schembri',\n",
       "  'language': 'Maltese',\n",
       "  'id': 'KU4T500C830697CW',\n",
       "  'bio': 'Nam laoreet, nunc non suscipit interdum, justo turpis vestibulum massa, non vulputate ex urna at purus. Morbi ultricies consequat ligula posuere eleifend. Vivamus id faucibus velit, id posuere leo. Sed laoreet posuere sapien, ut feugiat nibh gravida at. Ut maximus, libero nec facilisis fringilla, ex sem sollicitudin leo, non congue tortor ligula in eros.',\n",
       "  'version': 3.17},\n",
       " {'name': 'Antía Sixirei',\n",
       "  'language': 'Galician',\n",
       "  'id': 'XOF91ZR7MHV1TXRS',\n",
       "  'bio': 'Pellentesque massa sem, scelerisque sit amet odio id, cursus tempor urna. Phasellus massa ligula, hendrerit eget efficitur eget, tincidunt in ligula. Morbi finibus dui sed est fringilla ornare. Duis pellentesque ultrices convallis. Morbi ultricies consequat ligula posuere eleifend.',\n",
       "  'version': 6.44},\n",
       " {'name': 'Aygul Mutellip',\n",
       "  'language': 'Uyghur',\n",
       "  'id': 'FTSNV411G5MKLPDT',\n",
       "  'bio': 'Duis commodo orci ut dolor iaculis facilisis. Nam semper gravida nunc, sit amet elementum ipsum. Donec pellentesque ultrices mi, non consectetur eros luctus non. Pellentesque massa sem, scelerisque sit amet odio id, cursus tempor urna.',\n",
       "  'version': 9.1},\n",
       " {'name': 'Awais Shaikh',\n",
       "  'language': 'Sindhi',\n",
       "  'id': 'OJMWMEEQWMLDU29P',\n",
       "  'bio': 'Nunc aliquet sodales nunc a pulvinar. Ut dictum, ligula eget sagittis maximus, tellus mi varius ex, a accumsan justo tellus vitae leo. Donec pellentesque ultrices mi, non consectetur eros luctus non. Nulla finibus massa at viverra facilisis. Nunc tincidunt laoreet laoreet.',\n",
       "  'version': 1.59},\n",
       " {'name': 'Ambreen Ahmed',\n",
       "  'language': 'Sindhi',\n",
       "  'id': '5G646V7E6TJW8X2M',\n",
       "  'bio': 'Vestibulum ante ipsum primis in faucibus orci luctus et ultrices posuere cubilia curae; Etiam consequat enim lorem, at tincidunt velit ultricies et. Ut maximus, libero nec facilisis fringilla, ex sem sollicitudin leo, non congue tortor ligula in eros.',\n",
       "  'version': 2.35},\n",
       " {'name': 'Celtia Anes',\n",
       "  'language': 'Galician',\n",
       "  'id': 'Z53AJY7WUYPLAWC9',\n",
       "  'bio': 'Nullam ac sodales dolor, eu facilisis dui. Maecenas non arcu nulla. Ut viverra quis eros eu tincidunt. Curabitur quis commodo quam.',\n",
       "  'version': 8.34},\n",
       " {'name': 'George Mifsud',\n",
       "  'language': 'Maltese',\n",
       "  'id': 'N1AS6UFULO6WGTLB',\n",
       "  'bio': 'Phasellus tincidunt sollicitudin posuere. Ut accumsan, est vel fringilla varius, purus augue blandit nisl, eu rhoncus ligula purus vel dolor. Donec congue sapien vel euismod interdum. Cras dictum dolor lacinia lectus vehicula rutrum. Phasellus massa ligula, hendrerit eget efficitur eget, tincidunt in ligula.',\n",
       "  'version': 7.47},\n",
       " {'name': 'Aytürk Qasim',\n",
       "  'language': 'Uyghur',\n",
       "  'id': '70RODUVRD95CLOJL',\n",
       "  'bio': 'Curabitur ultricies id urna nec ultrices. Aliquam scelerisque pretium tellus, sed accumsan est ultrices id. Duis commodo orci ut dolor iaculis facilisis.',\n",
       "  'version': 1.32},\n",
       " {'name': 'Dialè Meso',\n",
       "  'language': 'Sesotho sa Leboa',\n",
       "  'id': 'VBLI24FKF7VV6BWE',\n",
       "  'bio': 'Maecenas non arcu nulla. Vivamus id faucibus velit, id posuere leo. Nullam sodales convallis mauris, sit amet lobortis magna auctor sit amet.',\n",
       "  'version': 6.29},\n",
       " {'name': 'Breixo Galáns',\n",
       "  'language': 'Galician',\n",
       "  'id': '4VRLON0GPEZYFCVL',\n",
       "  'bio': 'Integer vehicula, arcu sit amet egestas efficitur, orci justo interdum massa, eget ullamcorper risus ligula tristique libero. Morbi ac tellus erat. In id elit malesuada, pulvinar mi eu, imperdiet nulla. Vestibulum pharetra libero et velit gravida euismod. Cras dictum dolor lacinia lectus vehicula rutrum.',\n",
       "  'version': 1.62},\n",
       " {'name': 'Bieito Lorme',\n",
       "  'language': 'Galician',\n",
       "  'id': '5DRDI1QLRGLP29RC',\n",
       "  'bio': 'Ut viverra quis eros eu tincidunt. Morbi vitae nisi lacinia, laoreet lorem nec, egestas orci. Curabitur quis commodo quam. Morbi ac tellus erat.',\n",
       "  'version': 4.45},\n",
       " {'name': 'Azrugul Osman',\n",
       "  'language': 'Uyghur',\n",
       "  'id': '5RCTVD3C5QGVAKTQ',\n",
       "  'bio': 'Maecenas tempus neque ut porttitor malesuada. Donec lobortis eleifend condimentum.',\n",
       "  'version': 3.18},\n",
       " {'name': 'Brais Verdiñas',\n",
       "  'language': 'Galician',\n",
       "  'id': 'BT407GHCC0IHXCD3',\n",
       "  'bio': 'Quisque maximus sodales mauris ut elementum. Ut viverra quis eros eu tincidunt. Sed eu libero maximus nunc lacinia lobortis et sit amet nisi. In id elit malesuada, pulvinar mi eu, imperdiet nulla. Curabitur quis commodo quam.',\n",
       "  'version': 5.01},\n",
       " {'name': 'Ekber Sadir',\n",
       "  'language': 'Uyghur',\n",
       "  'id': 'AGZDAP8D8OVRRLTY',\n",
       "  'bio': 'Quisque efficitur vel sapien ut imperdiet. Phasellus massa ligula, hendrerit eget efficitur eget, tincidunt in ligula. In id elit malesuada, pulvinar mi eu, imperdiet nulla. Sed nec suscipit ligula. Integer vehicula, arcu sit amet egestas efficitur, orci justo interdum massa, eget ullamcorper risus ligula tristique libero.',\n",
       "  'version': 2.04},\n",
       " {'name': 'Doreen Bartolo',\n",
       "  'language': 'Maltese',\n",
       "  'id': '59QSX02O2XOZGRLH',\n",
       "  'bio': 'Vestibulum ante ipsum primis in faucibus orci luctus et ultrices posuere cubilia curae; Etiam consequat enim lorem, at tincidunt velit ultricies et. Nam semper gravida nunc, sit amet elementum ipsum. Ut viverra quis eros eu tincidunt. Curabitur sed condimentum felis, ut luctus eros.',\n",
       "  'version': 9.31},\n",
       " {'name': 'Ali Ayaz',\n",
       "  'language': 'Sindhi',\n",
       "  'id': '3WNLUZ5LT2F7MYVU',\n",
       "  'bio': 'Cras dictum dolor lacinia lectus vehicula rutrum. Vestibulum ante ipsum primis in faucibus orci luctus et ultrices posuere cubilia curae; Etiam consequat enim lorem, at tincidunt velit ultricies et. Etiam malesuada blandit erat, nec ultricies leo maximus sed.',\n",
       "  'version': 7.8},\n",
       " {'name': 'Guzelnur Polat',\n",
       "  'language': 'Uyghur',\n",
       "  'id': 'I6QQHAEGV4CYDXLP',\n",
       "  'bio': 'Nam laoreet, nunc non suscipit interdum, justo turpis vestibulum massa, non vulputate ex urna at purus. Vestibulum ante ipsum primis in faucibus orci luctus et ultrices posuere cubilia curae; Etiam consequat enim lorem, at tincidunt velit ultricies et. Nulla finibus massa at viverra facilisis.',\n",
       "  'version': 8.56},\n",
       " {'name': 'John Falzon',\n",
       "  'language': 'Maltese',\n",
       "  'id': 'U3AWXHDTSU0H82SL',\n",
       "  'bio': 'Sed nec suscipit ligula. Nullam sodales convallis mauris, sit amet lobortis magna auctor sit amet.',\n",
       "  'version': 9.96},\n",
       " {'name': 'Erkin Qadir',\n",
       "  'language': 'Uyghur',\n",
       "  'id': 'GV6TA1AATZYBJ3VR',\n",
       "  'bio': 'Phasellus massa ligula, hendrerit eget efficitur eget, tincidunt in ligula. .',\n",
       "  'version': 3.53},\n",
       " {'name': 'Anita Rajput',\n",
       "  'language': 'Sindhi',\n",
       "  'id': 'XLLVD0NO2ZFEP4AK',\n",
       "  'bio': 'Nam semper gravida nunc, sit amet elementum ipsum. Etiam congue dignissim volutpat.',\n",
       "  'version': 5.16},\n",
       " {'name': 'Ayesha Khalique',\n",
       "  'language': 'Sindhi',\n",
       "  'id': 'Q9A5QNGA0OSU8P6Y',\n",
       "  'bio': 'Morbi vitae nisi lacinia, laoreet lorem nec, egestas orci. Etiam mauris magna, fermentum vitae aliquet eu, cursus vitae sapien.',\n",
       "  'version': 3.9},\n",
       " {'name': 'Pheladi Rammala',\n",
       "  'language': 'Sesotho sa Leboa',\n",
       "  'id': 'EELSIRT2T4Q0M3M4',\n",
       "  'bio': 'Quisque efficitur vel sapien ut imperdiet. Morbi ac tellus erat. Aliquam scelerisque pretium tellus, sed accumsan est ultrices id. Ut maximus, libero nec facilisis fringilla, ex sem sollicitudin leo, non congue tortor ligula in eros.',\n",
       "  'version': 1.88},\n",
       " {'name': 'Antón Caneiro',\n",
       "  'language': 'Galician',\n",
       "  'id': 'ENTAPNU3MMFUGM1W',\n",
       "  'bio': 'Integer vehicula, arcu sit amet egestas efficitur, orci justo interdum massa, eget ullamcorper risus ligula tristique libero. Vestibulum pharetra libero et velit gravida euismod.',\n",
       "  'version': 4.84},\n",
       " {'name': 'Qahar Abdulla',\n",
       "  'language': 'Uyghur',\n",
       "  'id': 'OGLODUPEHKEW0K83',\n",
       "  'bio': 'Duis commodo orci ut dolor iaculis facilisis. Aliquam sollicitudin ante ligula, eget malesuada nibh efficitur et. Fusce congue aliquam elit ut luctus. Integer vehicula, arcu sit amet egestas efficitur, orci justo interdum massa, eget ullamcorper risus ligula tristique libero. Quisque maximus sodales mauris ut elementum.',\n",
       "  'version': 3.65},\n",
       " {'name': 'Reyhan Murat',\n",
       "  'language': 'Uyghur',\n",
       "  'id': 'Y91F4D54794E9ANT',\n",
       "  'bio': 'Suspendisse sit amet ullamcorper sem. Curabitur sed condimentum felis, ut luctus eros.',\n",
       "  'version': 2.69},\n",
       " {'name': 'Tatapi Phogole',\n",
       "  'language': 'Sesotho sa Leboa',\n",
       "  'id': '7JA42P5CMCWDVPNR',\n",
       "  'bio': 'Duis luctus, lacus eu aliquet convallis, purus elit malesuada ex, vitae rutrum ipsum dui ut magna. Nullam ac sodales dolor, eu facilisis dui. Ut viverra quis eros eu tincidunt.',\n",
       "  'version': 3.78},\n",
       " {'name': 'Marcos Amboade',\n",
       "  'language': 'Galician',\n",
       "  'id': 'WPX7H97C7D70CZJR',\n",
       "  'bio': 'Nulla finibus massa at viverra facilisis. Pellentesque massa sem, scelerisque sit amet odio id, cursus tempor urna. Curabitur ultricies id urna nec ultrices. Ut maximus, libero nec facilisis fringilla, ex sem sollicitudin leo, non congue tortor ligula in eros. Nunc aliquet sodales nunc a pulvinar.',\n",
       "  'version': 7.37},\n",
       " {'name': 'Grace Tabone',\n",
       "  'language': 'Maltese',\n",
       "  'id': 'K4XO8G8DMRNSHF2B',\n",
       "  'bio': 'Curabitur sed condimentum felis, ut luctus eros. Duis luctus, lacus eu aliquet convallis, purus elit malesuada ex, vitae rutrum ipsum dui ut magna.',\n",
       "  'version': 5.36},\n",
       " {'name': 'Shafqat Memon',\n",
       "  'language': 'Sindhi',\n",
       "  'id': 'D8VFLVRXBXMVBRVI',\n",
       "  'bio': 'Aliquam scelerisque pretium tellus, sed accumsan est ultrices id. . Curabitur quis commodo quam. Quisque maximus sodales mauris ut elementum. Quisque mauris ligula, efficitur porttitor sodales ac, lacinia non ex.',\n",
       "  'version': 8.95},\n",
       " {'name': 'Zeynep Semet',\n",
       "  'language': 'Uyghur',\n",
       "  'id': 'Z324TZV8S0FGDSAO',\n",
       "  'bio': 'Quisque mauris ligula, efficitur porttitor sodales ac, lacinia non ex. Fusce eu ultrices elit, vel posuere neque. Nulla finibus massa at viverra facilisis.',\n",
       "  'version': 1.03},\n",
       " {'name': 'Meladi Papo',\n",
       "  'language': 'Sesotho sa Leboa',\n",
       "  'id': 'RJAZQ6BBLRT72CD9',\n",
       "  'bio': 'Quisque efficitur vel sapien ut imperdiet. Pellentesque massa sem, scelerisque sit amet odio id, cursus tempor urna. Ut accumsan, est vel fringilla varius, purus augue blandit nisl, eu rhoncus ligula purus vel dolor. Etiam congue dignissim volutpat. Donec congue sapien vel euismod interdum.',\n",
       "  'version': 7.22},\n",
       " {'name': 'Semet Alim',\n",
       "  'language': 'Uyghur',\n",
       "  'id': 'HI7L2SR4RCS8C8CS',\n",
       "  'bio': 'Duis commodo orci ut dolor iaculis facilisis. Ut viverra quis eros eu tincidunt. Lorem ipsum dolor sit amet, consectetur adipiscing elit.',\n",
       "  'version': 1.01},\n",
       " {'name': 'Sabela Veloso',\n",
       "  'language': 'Galician',\n",
       "  'id': 'QA55WXDLC7SRH97X',\n",
       "  'bio': 'Duis commodo orci ut dolor iaculis facilisis. Suspendisse potenti. Cras dictum dolor lacinia lectus vehicula rutrum.',\n",
       "  'version': 7.32},\n",
       " {'name': 'Madule Ledimo',\n",
       "  'language': 'Sesotho sa Leboa',\n",
       "  'id': 'IHJN2DGJB5O1Y00D',\n",
       "  'bio': 'Maecenas non arcu nulla. Aliquam scelerisque pretium tellus, sed accumsan est ultrices id.',\n",
       "  'version': 7.47},\n",
       " {'name': 'Michelle Caruana',\n",
       "  'language': 'Maltese',\n",
       "  'id': 'EG1I21R75IV9Q0Q8',\n",
       "  'bio': 'Nam tristique feugiat est vitae mollis. Morbi ultricies consequat ligula posuere eleifend. Pellentesque massa sem, scelerisque sit amet odio id, cursus tempor urna.',\n",
       "  'version': 4.95},\n",
       " {'name': 'Philip Camilleri',\n",
       "  'language': 'Maltese',\n",
       "  'id': 'FCO0URUHARX5FDFW',\n",
       "  'bio': 'Quisque efficitur vel sapien ut imperdiet. Suspendisse sit amet ullamcorper sem. Aliquam scelerisque pretium tellus, sed accumsan est ultrices id. . Aenean finibus in tortor vel aliquet.',\n",
       "  'version': 9.97},\n",
       " {'name': 'Olalla Romeu',\n",
       "  'language': 'Galician',\n",
       "  'id': 'WOCMVO6CYPG01ZHY',\n",
       "  'bio': 'Maecenas tempus neque ut porttitor malesuada. Sed nec suscipit ligula. Morbi vitae nisi lacinia, laoreet lorem nec, egestas orci. Nullam sodales convallis mauris, sit amet lobortis magna auctor sit amet.',\n",
       "  'version': 1.98},\n",
       " {'name': 'Gulnur Perhat',\n",
       "  'language': 'Uyghur',\n",
       "  'id': 'VO3M22TTQMBA2XEM',\n",
       "  'bio': 'Nullam ac sodales dolor, eu facilisis dui. Etiam mauris magna, fermentum vitae aliquet eu, cursus vitae sapien. Ut accumsan, est vel fringilla varius, purus augue blandit nisl, eu rhoncus ligula purus vel dolor. Maecenas quis nisi nunc. Duis pellentesque ultrices convallis.',\n",
       "  'version': 5.03},\n",
       " {'name': 'Hunadi Makgatho',\n",
       "  'language': 'Sesotho sa Leboa',\n",
       "  'id': 'MRJDOV2MU7PTCDXE',\n",
       "  'bio': 'Phasellus tincidunt sollicitudin posuere. Maecenas quis nisi nunc. Duis luctus, lacus eu aliquet convallis, purus elit malesuada ex, vitae rutrum ipsum dui ut magna.',\n",
       "  'version': 8.18},\n",
       " {'name': 'Charmaine Abela',\n",
       "  'language': 'Maltese',\n",
       "  'id': 'F6FJP1QDJL944X4Z',\n",
       "  'bio': 'Nam rutrum sollicitudin ante tempus consequat. Suspendisse sit amet ullamcorper sem. Morbi ac tellus erat. Sed nec suscipit ligula.',\n",
       "  'version': 6.95},\n",
       " {'name': 'Tumelò Letamo',\n",
       "  'language': 'Sesotho sa Leboa',\n",
       "  'id': 'F8BL9NPIKV0OWO1X',\n",
       "  'bio': 'Aliquam sollicitudin ante ligula, eget malesuada nibh efficitur et. Etiam congue dignissim volutpat. Sed nec suscipit ligula. Nullam sodales convallis mauris, sit amet lobortis magna auctor sit amet.',\n",
       "  'version': 7.17},\n",
       " {'name': 'Aneela Mohan',\n",
       "  'language': 'Sindhi',\n",
       "  'id': 'CRYN52CXKNJU0YXU',\n",
       "  'bio': 'Sed nec suscipit ligula. Phasellus massa ligula, hendrerit eget efficitur eget, tincidunt in ligula. Maecenas tempus neque ut porttitor malesuada.',\n",
       "  'version': 4.45},\n",
       " {'name': 'Koketšo Montjane',\n",
       "  'language': 'Sesotho sa Leboa',\n",
       "  'id': '0TTAMXC9TENQCA2O',\n",
       "  'bio': 'Curabitur sed condimentum felis, ut luctus eros. Aliquam sollicitudin ante ligula, eget malesuada nibh efficitur et. Etiam mauris magna, fermentum vitae aliquet eu, cursus vitae sapien. Ut maximus, libero nec facilisis fringilla, ex sem sollicitudin leo, non congue tortor ligula in eros.',\n",
       "  'version': 3.61},\n",
       " {'name': 'Tegra Núnez',\n",
       "  'language': 'Galician',\n",
       "  'id': 'NC1ZUV6B853BZZCW',\n",
       "  'bio': 'Maecenas tempus neque ut porttitor malesuada. Pellentesque massa sem, scelerisque sit amet odio id, cursus tempor urna.',\n",
       "  'version': 6.68},\n",
       " {'name': 'Dilnur Qeyser',\n",
       "  'language': 'Uyghur',\n",
       "  'id': 'JVQ8RQ4YRPGLFMR8',\n",
       "  'bio': 'Maecenas non arcu nulla. Nulla finibus massa at viverra facilisis. Integer vehicula, arcu sit amet egestas efficitur, orci justo interdum massa, eget ullamcorper risus ligula tristique libero. Ut maximus, libero nec facilisis fringilla, ex sem sollicitudin leo, non congue tortor ligula in eros.',\n",
       "  'version': 7.93},\n",
       " {'name': 'Tania Agius',\n",
       "  'language': 'Maltese',\n",
       "  'id': 'WTDGKLDWJLR1BJKR',\n",
       "  'bio': 'Etiam congue dignissim volutpat. Pellentesque massa sem, scelerisque sit amet odio id, cursus tempor urna.',\n",
       "  'version': 4.78},\n",
       " {'name': 'Iago Peirallo',\n",
       "  'language': 'Galician',\n",
       "  'id': 'D51G7XQTX2SPHR52',\n",
       "  'bio': 'Aliquam sollicitudin ante ligula, eget malesuada nibh efficitur et. Donec congue sapien vel euismod interdum. Suspendisse potenti. Quisque maximus sodales mauris ut elementum. Quisque maximus sodales mauris ut elementum.',\n",
       "  'version': 6.3},\n",
       " {'name': 'Mpho Lamola',\n",
       "  'language': 'Sesotho sa Leboa',\n",
       "  'id': 'UGL8EOTXYBW1ILLW',\n",
       "  'bio': 'In id elit malesuada, pulvinar mi eu, imperdiet nulla. Curabitur ultricies id urna nec ultrices. Maecenas tempus neque ut porttitor malesuada. In sed ultricies lorem. Nullam sodales convallis mauris, sit amet lobortis magna auctor sit amet.',\n",
       "  'version': 2.05},\n",
       " {'name': 'Josephine Balzan',\n",
       "  'language': 'Maltese',\n",
       "  'id': '4OLTG6QD0A2VB432',\n",
       "  'bio': 'Maecenas tempus neque ut porttitor malesuada. Sed eu libero maximus nunc lacinia lobortis et sit amet nisi. Maecenas non arcu nulla. Ut accumsan, est vel fringilla varius, purus augue blandit nisl, eu rhoncus ligula purus vel dolor. Curabitur quis commodo quam.',\n",
       "  'version': 7.64},\n",
       " {'name': 'Thabò Motongwane',\n",
       "  'language': 'Sesotho sa Leboa',\n",
       "  'id': 'NROE4ZZVGKZGDFNO',\n",
       "  'bio': 'Donec pellentesque ultrices mi, non consectetur eros luctus non. Suspendisse potenti. Suspendisse potenti.',\n",
       "  'version': 2.07},\n",
       " {'name': 'Mmathabò Mojapelo',\n",
       "  'language': 'Sesotho sa Leboa',\n",
       "  'id': 'VXJDXYPV5L300IFW',\n",
       "  'bio': 'Sed laoreet posuere sapien, ut feugiat nibh gravida at. Duis luctus, lacus eu aliquet convallis, purus elit malesuada ex, vitae rutrum ipsum dui ut magna. Nunc tincidunt laoreet laoreet. .',\n",
       "  'version': 9.36},\n",
       " {'name': 'Kgabo Lerumo',\n",
       "  'language': 'Sesotho sa Leboa',\n",
       "  'id': 'D63WWKQE2R4TFDIL',\n",
       "  'bio': 'Vestibulum pharetra libero et velit gravida euismod. Maecenas tempus neque ut porttitor malesuada. Morbi ultricies consequat ligula posuere eleifend. Quisque efficitur vel sapien ut imperdiet. Nam rutrum sollicitudin ante tempus consequat.',\n",
       "  'version': 6.69},\n",
       " {'name': 'Lawrence Scicluna',\n",
       "  'language': 'Maltese',\n",
       "  'id': '0KDA7XKZNNZWL2SR',\n",
       "  'bio': 'Donec pellentesque ultrices mi, non consectetur eros luctus non. In id elit malesuada, pulvinar mi eu, imperdiet nulla. Aliquam sollicitudin ante ligula, eget malesuada nibh efficitur et.',\n",
       "  'version': 6.53},\n",
       " {'name': 'Iria Xamardo',\n",
       "  'language': 'Galician',\n",
       "  'id': 'ULUDKBP9PHBGHX2J',\n",
       "  'bio': 'Vivamus id faucibus velit, id posuere leo. Sed eu libero maximus nunc lacinia lobortis et sit amet nisi. Lorem ipsum dolor sit amet, consectetur adipiscing elit. Etiam malesuada blandit erat, nec ultricies leo maximus sed. Ut viverra quis eros eu tincidunt.',\n",
       "  'version': 3.42},\n",
       " {'name': 'Joseph Grech',\n",
       "  'language': 'Maltese',\n",
       "  'id': 'T4P1164RJBJ8S6XD',\n",
       "  'bio': 'Aliquam scelerisque pretium tellus, sed accumsan est ultrices id. Donec lobortis eleifend condimentum.',\n",
       "  'version': 7.68},\n",
       " {'name': 'Napogadi Selepe',\n",
       "  'language': 'Sesotho sa Leboa',\n",
       "  'id': 'AJK91MKRFIHAQHHG',\n",
       "  'bio': 'Quisque maximus sodales mauris ut elementum. Maecenas quis nisi nunc.',\n",
       "  'version': 4.95},\n",
       " {'name': 'Lesetja Theko',\n",
       "  'language': 'Sesotho sa Leboa',\n",
       "  'id': 'AATM20BURO1DHDAE',\n",
       "  'bio': 'Phasellus massa ligula, hendrerit eget efficitur eget, tincidunt in ligula. Etiam mauris magna, fermentum vitae aliquet eu, cursus vitae sapien. Nulla finibus massa at viverra facilisis. Morbi finibus dui sed est fringilla ornare.',\n",
       "  'version': 6.81},\n",
       " {'name': 'Martiño Arxíz',\n",
       "  'language': 'Galician',\n",
       "  'id': 'CQ56N9MH3WK7H5YQ',\n",
       "  'bio': 'Proin tempus eu risus nec mattis. Morbi vitae nisi lacinia, laoreet lorem nec, egestas orci. Vestibulum ante ipsum primis in faucibus orci luctus et ultrices posuere cubilia curae; Etiam consequat enim lorem, at tincidunt velit ultricies et. Nam rutrum sollicitudin ante tempus consequat. .',\n",
       "  'version': 7.13},\n",
       " {'name': 'Malehumò Ledwaba',\n",
       "  'language': 'Sesotho sa Leboa',\n",
       "  'id': 'E4F3HGRTKQKCT1SE',\n",
       "  'bio': 'Ut accumsan, est vel fringilla varius, purus augue blandit nisl, eu rhoncus ligula purus vel dolor. Curabitur quis commodo quam. Quisque maximus sodales mauris ut elementum. Curabitur sed condimentum felis, ut luctus eros. Curabitur ultricies id urna nec ultrices.',\n",
       "  'version': 6.52},\n",
       " {'name': 'Musa Yasin',\n",
       "  'language': 'Uyghur',\n",
       "  'id': '1AF8GIQZ1LF8QW0U',\n",
       "  'bio': 'Phasellus tincidunt sollicitudin posuere. Phasellus massa ligula, hendrerit eget efficitur eget, tincidunt in ligula. Ut maximus, libero nec facilisis fringilla, ex sem sollicitudin leo, non congue tortor ligula in eros. Ut accumsan, est vel fringilla varius, purus augue blandit nisl, eu rhoncus ligula purus vel dolor.',\n",
       "  'version': 1.54},\n",
       " {'name': 'Lajwanti Kumari',\n",
       "  'language': 'Sindhi',\n",
       "  'id': 'INRW3R54RAY7J9IS',\n",
       "  'bio': 'In sed ultricies lorem. Sed eu libero maximus nunc lacinia lobortis et sit amet nisi. Quisque mauris ligula, efficitur porttitor sodales ac, lacinia non ex. Lorem ipsum dolor sit amet, consectetur adipiscing elit.',\n",
       "  'version': 9.34},\n",
       " {'name': 'Maria Sammut',\n",
       "  'language': 'Maltese',\n",
       "  'id': 'BJRF0BWIHJ0Q12A1',\n",
       "  'bio': 'Maecenas tempus neque ut porttitor malesuada. Curabitur ultricies id urna nec ultrices.',\n",
       "  'version': 6.83},\n",
       " {'name': 'Rita Busuttil',\n",
       "  'language': 'Maltese',\n",
       "  'id': '1QLMU6QZ7EYUNNZV',\n",
       "  'bio': 'Phasellus tincidunt sollicitudin posuere. Quisque efficitur vel sapien ut imperdiet. Vestibulum pharetra libero et velit gravida euismod. Maecenas tempus neque ut porttitor malesuada.',\n",
       "  'version': 2.09},\n",
       " {'name': 'Roi Fraguela',\n",
       "  'language': 'Galician',\n",
       "  'id': 'UAT0M2O42E9M4SFT',\n",
       "  'bio': 'Donec congue sapien vel euismod interdum. Lorem ipsum dolor sit amet, consectetur adipiscing elit. Fusce congue aliquam elit ut luctus. Morbi ac tellus erat. Lorem ipsum dolor sit amet, consectetur adipiscing elit.',\n",
       "  'version': 1.08},\n",
       " {'name': 'Matome Molamo',\n",
       "  'language': 'Sesotho sa Leboa',\n",
       "  'id': '7HI0UZZLRB9N5CBI',\n",
       "  'bio': 'Vestibulum pharetra libero et velit gravida euismod. Fusce eu ultrices elit, vel posuere neque. Duis pellentesque ultrices convallis.',\n",
       "  'version': 9.55},\n",
       " {'name': 'Mapula Selokela',\n",
       "  'language': 'Sesotho sa Leboa',\n",
       "  'id': '6ZQTOKQI6K82EE9Q',\n",
       "  'bio': 'Duis pellentesque ultrices convallis. Nam laoreet, nunc non suscipit interdum, justo turpis vestibulum massa, non vulputate ex urna at purus. Ut viverra quis eros eu tincidunt. Proin tempus eu risus nec mattis.',\n",
       "  'version': 5.27},\n",
       " {'name': 'Noa Ervello',\n",
       "  'language': 'Galician',\n",
       "  'id': 'W9FR842CI16V8NU3',\n",
       "  'bio': 'Aliquam sollicitudin ante ligula, eget malesuada nibh efficitur et. Vestibulum ante ipsum primis in faucibus orci luctus et ultrices posuere cubilia curae; Etiam consequat enim lorem, at tincidunt velit ultricies et. Suspendisse sit amet ullamcorper sem. Quisque mauris ligula, efficitur porttitor sodales ac, lacinia non ex.',\n",
       "  'version': 9.33},\n",
       " {'name': 'Naseem Kakepoto',\n",
       "  'language': 'Sindhi',\n",
       "  'id': '6C7HZV4WPV9C9KS6',\n",
       "  'bio': 'Morbi ultricies consequat ligula posuere eleifend. Fusce congue aliquam elit ut luctus. . Phasellus massa ligula, hendrerit eget efficitur eget, tincidunt in ligula.',\n",
       "  'version': 1.4},\n",
       " {'name': 'sayama Amir',\n",
       "  'language': 'Sindhi',\n",
       "  'id': '7K4IJT1X7G0EK9WC',\n",
       "  'bio': 'Morbi ac tellus erat. Aliquam scelerisque pretium tellus, sed accumsan est ultrices id. Maecenas quis nisi nunc. Etiam congue dignissim volutpat. Sed nec suscipit ligula.',\n",
       "  'version': 9.48},\n",
       " {'name': 'Mariña Quintá',\n",
       "  'language': 'Galician',\n",
       "  'id': '7GXC4OQYXX5JJY9F',\n",
       "  'bio': 'Phasellus tincidunt sollicitudin posuere. Morbi ac tellus erat. Nullam ac sodales dolor, eu facilisis dui.',\n",
       "  'version': 8.81},\n",
       " {'name': 'Memet Tursun',\n",
       "  'language': 'Uyghur',\n",
       "  'id': 'KSFMV2JK2D553083',\n",
       "  'bio': 'Vestibulum ante ipsum primis in faucibus orci luctus et ultrices posuere cubilia curae; Etiam consequat enim lorem, at tincidunt velit ultricies et. Morbi finibus dui sed est fringilla ornare. Suspendisse sit amet ullamcorper sem.',\n",
       "  'version': 7.56},\n",
       " {'name': 'Carmen Vella',\n",
       "  'language': 'Maltese',\n",
       "  'id': 'WUALBIMS4E8JS4L2',\n",
       "  'bio': 'Lorem ipsum dolor sit amet, consectetur adipiscing elit. Nunc aliquet sodales nunc a pulvinar. Morbi vitae nisi lacinia, laoreet lorem nec, egestas orci. Vestibulum pharetra libero et velit gravida euismod.',\n",
       "  'version': 4.55},\n",
       " {'name': 'Sobia Khanam',\n",
       "  'language': 'Sindhi',\n",
       "  'id': 'YG1ERFWBJ7TIW35D',\n",
       "  'bio': 'Phasellus tincidunt sollicitudin posuere. Aliquam scelerisque pretium tellus, sed accumsan est ultrices id. Morbi ultricies consequat ligula posuere eleifend. Curabitur sed condimentum felis, ut luctus eros.',\n",
       "  'version': 4.59},\n",
       " {'name': 'Raheela Ali',\n",
       "  'language': 'Sindhi',\n",
       "  'id': '7JGX9SMLD5DE2IMG',\n",
       "  'bio': 'Morbi finibus dui sed est fringilla ornare. Maecenas quis nisi nunc. Maecenas tempus neque ut porttitor malesuada. Curabitur ultricies id urna nec ultrices.',\n",
       "  'version': 4.75},\n",
       " {'name': 'Rashid Rajput',\n",
       "  'language': 'Sindhi',\n",
       "  'id': 'UNBGUGDUATATCLS4',\n",
       "  'bio': 'Donec congue sapien vel euismod interdum. Maecenas quis nisi nunc.',\n",
       "  'version': 8.51},\n",
       " {'name': 'Uxía Feal',\n",
       "  'language': 'Galician',\n",
       "  'id': '35ZPXUNH1M6W3ZJP',\n",
       "  'bio': 'Vestibulum pharetra libero et velit gravida euismod. Vivamus id faucibus velit, id posuere leo.',\n",
       "  'version': 1.31},\n",
       " {'name': 'Andrew Fenech',\n",
       "  'language': 'Maltese',\n",
       "  'id': 'VEYKDKL8L0R0C7GQ',\n",
       "  'bio': 'In sed ultricies lorem. Etiam mauris magna, fermentum vitae aliquet eu, cursus vitae sapien. Sed laoreet posuere sapien, ut feugiat nibh gravida at.',\n",
       "  'version': 2.5},\n",
       " {'name': 'Nicholas Micallef',\n",
       "  'language': 'Maltese',\n",
       "  'id': 'ZYCAI905154LSICR',\n",
       "  'bio': 'Nam tristique feugiat est vitae mollis. Curabitur ultricies id urna nec ultrices. Morbi finibus dui sed est fringilla ornare.',\n",
       "  'version': 6.47},\n",
       " {'name': 'Paul Borg',\n",
       "  'language': 'Maltese',\n",
       "  'id': '8AD5MMJ0TD0NJ6H2',\n",
       "  'bio': 'Phasellus massa ligula, hendrerit eget efficitur eget, tincidunt in ligula. Etiam mauris magna, fermentum vitae aliquet eu, cursus vitae sapien.',\n",
       "  'version': 3.77},\n",
       " {'name': 'Sara Saleem',\n",
       "  'language': 'Sindhi',\n",
       "  'id': '5LPKMTZI7OPSJRBA',\n",
       "  'bio': 'Maecenas tempus neque ut porttitor malesuada. Etiam congue dignissim volutpat. Proin tempus eu risus nec mattis. Morbi vitae nisi lacinia, laoreet lorem nec, egestas orci. Duis commodo orci ut dolor iaculis facilisis.',\n",
       "  'version': 5.31},\n",
       " {'name': 'Xurxo Golán',\n",
       "  'language': 'Galician',\n",
       "  'id': '526ZUSGXEETODHJK',\n",
       "  'bio': 'Ut viverra quis eros eu tincidunt. Morbi finibus dui sed est fringilla ornare. Sed laoreet posuere sapien, ut feugiat nibh gravida at. Duis commodo orci ut dolor iaculis facilisis. In sed ultricies lorem.',\n",
       "  'version': 1.75},\n",
       " {'name': 'Peter Zammit',\n",
       "  'language': 'Maltese',\n",
       "  'id': 'NNRT5QWNWO2WLS5V',\n",
       "  'bio': 'Duis commodo orci ut dolor iaculis facilisis. Maecenas quis nisi nunc.',\n",
       "  'version': 8.23},\n",
       " {'name': 'Maname Mohlare',\n",
       "  'language': 'Sesotho sa Leboa',\n",
       "  'id': 'KZJZ9SD0DIWTIBUC',\n",
       "  'bio': 'Quisque mauris ligula, efficitur porttitor sodales ac, lacinia non ex. Vestibulum pharetra libero et velit gravida euismod. Ut accumsan, est vel fringilla varius, purus augue blandit nisl, eu rhoncus ligula purus vel dolor. Sed eu libero maximus nunc lacinia lobortis et sit amet nisi.',\n",
       "  'version': 8.95},\n",
       " {'name': 'Tshepè Mobu',\n",
       "  'language': 'Sesotho sa Leboa',\n",
       "  'id': '8CH586LQR7ZCP73P',\n",
       "  'bio': 'Lorem ipsum dolor sit amet, consectetur adipiscing elit. Nulla finibus massa at viverra facilisis.',\n",
       "  'version': 7.82},\n",
       " {'name': 'Monica Lohana',\n",
       "  'language': 'Sindhi',\n",
       "  'id': 'KP1C2WN3DN1R3Y52',\n",
       "  'bio': 'Vestibulum ante ipsum primis in faucibus orci luctus et ultrices posuere cubilia curae; Etiam consequat enim lorem, at tincidunt velit ultricies et. Aenean finibus in tortor vel aliquet. Nam laoreet, nunc non suscipit interdum, justo turpis vestibulum massa, non vulputate ex urna at purus. Morbi vitae nisi lacinia, laoreet lorem nec, egestas orci.',\n",
       "  'version': 7.95},\n",
       " {'name': 'Patigul Rahman',\n",
       "  'language': 'Uyghur',\n",
       "  'id': 'NXMNLB0SOYET1VMN',\n",
       "  'bio': 'In sed ultricies lorem. Proin tempus eu risus nec mattis. Nam rutrum sollicitudin ante tempus consequat. Aliquam scelerisque pretium tellus, sed accumsan est ultrices id.',\n",
       "  'version': 2.98},\n",
       " {'name': 'Joanne Scerri',\n",
       "  'language': 'Maltese',\n",
       "  'id': 'H8FJ2WKLGGF3K26U',\n",
       "  'bio': 'Fusce eu ultrices elit, vel posuere neque. Nulla finibus massa at viverra facilisis. Duis commodo orci ut dolor iaculis facilisis. Nam laoreet, nunc non suscipit interdum, justo turpis vestibulum massa, non vulputate ex urna at purus. Phasellus massa ligula, hendrerit eget efficitur eget, tincidunt in ligula.',\n",
       "  'version': 8.4},\n",
       " {'name': 'Ratanang Maphutha',\n",
       "  'language': 'Sesotho sa Leboa',\n",
       "  'id': 'EZXJTQQ2JWPB5DI3',\n",
       "  'bio': 'Vivamus id faucibus velit, id posuere leo. Phasellus tincidunt sollicitudin posuere. Duis pellentesque ultrices convallis.',\n",
       "  'version': 9.17},\n",
       " {'name': 'Kamil Mehmud',\n",
       "  'language': 'Uyghur',\n",
       "  'id': 'M24A9OMYPSX7FD16',\n",
       "  'bio': 'Donec congue sapien vel euismod interdum. Suspendisse potenti. In id elit malesuada, pulvinar mi eu, imperdiet nulla. Nunc aliquet sodales nunc a pulvinar. Ut viverra quis eros eu tincidunt.',\n",
       "  'version': 4.66},\n",
       " {'name': 'Thobile Mbele',\n",
       "  'language': 'isiZulu',\n",
       "  'id': '631M00M8YFFBC5NC',\n",
       "  'bio': 'Nunc aliquet sodales nunc a pulvinar. Proin tempus eu risus nec mattis. Proin tempus eu risus nec mattis. Aliquam scelerisque pretium tellus, sed accumsan est ultrices id. Nam laoreet, nunc non suscipit interdum, justo turpis vestibulum massa, non vulputate ex urna at purus.',\n",
       "  'version': 8.96},\n",
       " {'name': 'Kristján Kristjánsson',\n",
       "  'language': 'Icelandic',\n",
       "  'id': '0WT0ZW50DNSTCHKW',\n",
       "  'bio': 'Quisque maximus sodales mauris ut elementum. Pellentesque massa sem, scelerisque sit amet odio id, cursus tempor urna. Donec congue sapien vel euismod interdum. Phasellus massa ligula, hendrerit eget efficitur eget, tincidunt in ligula. Donec lobortis eleifend condimentum.',\n",
       "  'version': 8.82},\n",
       " {'name': 'Stefán Stefánsson',\n",
       "  'language': 'Icelandic',\n",
       "  'id': '1UOL8UK8BWAOSYTC',\n",
       "  'bio': 'Suspendisse potenti. Duis luctus, lacus eu aliquet convallis, purus elit malesuada ex, vitae rutrum ipsum dui ut magna. Morbi ultricies consequat ligula posuere eleifend.',\n",
       "  'version': 7.87},\n",
       " {'name': 'Preeti Rajdan',\n",
       "  'language': 'Hindi',\n",
       "  'id': '3UN0X88Y4WYH3X8X',\n",
       "  'bio': 'In sed ultricies lorem. Vivamus id faucibus velit, id posuere leo. Duis commodo orci ut dolor iaculis facilisis. Nam rutrum sollicitudin ante tempus consequat.',\n",
       "  'version': 9.17},\n",
       " {'name': 'Sanjay Trivedi',\n",
       "  'language': 'Hindi',\n",
       "  'id': 'CPHR246457BD01KY',\n",
       "  'bio': 'Quisque maximus sodales mauris ut elementum. Morbi ac tellus erat. Maecenas tempus neque ut porttitor malesuada. Cras dictum dolor lacinia lectus vehicula rutrum.',\n",
       "  'version': 8.3},\n",
       " {'name': 'Smiriti Sisodiya',\n",
       "  'language': 'Hindi',\n",
       "  'id': 'X3KWIL5KEHTMCKOM',\n",
       "  'bio': 'Integer vehicula, arcu sit amet egestas efficitur, orci justo interdum massa, eget ullamcorper risus ligula tristique libero. Morbi finibus dui sed est fringilla ornare.',\n",
       "  'version': 3.27},\n",
       " {'name': 'Sandeep Benarjee',\n",
       "  'language': 'Hindi',\n",
       "  'id': '9TS6CIE3UAIFG2IB',\n",
       "  'bio': 'Aliquam sollicitudin ante ligula, eget malesuada nibh efficitur et. Sed nec suscipit ligula. Quisque efficitur vel sapien ut imperdiet. Suspendisse sit amet ullamcorper sem.',\n",
       "  'version': 3.86},\n",
       " {'name': 'Damir Benic',\n",
       "  'language': 'Bosnian',\n",
       "  'id': 'QUNL9VBRHUGNOFMJ',\n",
       "  'bio': '. Ut dictum, ligula eget sagittis maximus, tellus mi varius ex, a accumsan justo tellus vitae leo.',\n",
       "  'version': 9.56},\n",
       " {'name': 'Sigrún Kristjánsdóttir',\n",
       "  'language': 'Icelandic',\n",
       "  'id': 'BT1Q0NUPKHDVCFLE',\n",
       "  'bio': 'Ut dictum, ligula eget sagittis maximus, tellus mi varius ex, a accumsan justo tellus vitae leo. Nulla finibus massa at viverra facilisis.',\n",
       "  'version': 6.78},\n",
       " {'name': 'Basetsana Thage',\n",
       "  'language': 'Setswana',\n",
       "  'id': 'R9P3P2IAN7NY2X2Y',\n",
       "  'bio': 'Pellentesque massa sem, scelerisque sit amet odio id, cursus tempor urna. Nulla finibus massa at viverra facilisis. Phasellus massa ligula, hendrerit eget efficitur eget, tincidunt in ligula.',\n",
       "  'version': 3.97},\n",
       " {'name': 'Rajesh Santoshi',\n",
       "  'language': 'Hindi',\n",
       "  'id': 'OXQTFZHZW8SVE3SY',\n",
       "  'bio': 'Donec lobortis eleifend condimentum. Nam rutrum sollicitudin ante tempus consequat. Nullam sodales convallis mauris, sit amet lobortis magna auctor sit amet.',\n",
       "  'version': 8.35},\n",
       " {'name': 'Margrét Magnúsdóttir',\n",
       "  'language': 'Icelandic',\n",
       "  'id': '1P6VZEDGK2XUU97L',\n",
       "  'bio': 'Sed eu libero maximus nunc lacinia lobortis et sit amet nisi. Duis pellentesque ultrices convallis. Donec lobortis eleifend condimentum.',\n",
       "  'version': 3.76},\n",
       " {'name': 'Makhosi Ngiba',\n",
       "  'language': 'isiZulu',\n",
       "  'id': 'CTM3Y3TZOLC7TPDU',\n",
       "  'bio': 'Ut dictum, ligula eget sagittis maximus, tellus mi varius ex, a accumsan justo tellus vitae leo. Suspendisse sit amet ullamcorper sem. Donec lobortis eleifend condimentum. Aenean finibus in tortor vel aliquet. Proin tempus eu risus nec mattis.',\n",
       "  'version': 1.18},\n",
       " {'name': 'Lorato Bogosi',\n",
       "  'language': 'Setswana',\n",
       "  'id': 'EEZ0KS5E0RXACAIA',\n",
       "  'bio': 'Morbi ultricies consequat ligula posuere eleifend. Nam rutrum sollicitudin ante tempus consequat. Ut dictum, ligula eget sagittis maximus, tellus mi varius ex, a accumsan justo tellus vitae leo. Curabitur ultricies id urna nec ultrices.',\n",
       "  'version': 5.48},\n",
       " {'name': 'Modisaotsile Bolokwe',\n",
       "  'language': 'Setswana',\n",
       "  'id': 'DN068KNEOAQ8LM19',\n",
       "  'bio': 'Nullam ac sodales dolor, eu facilisis dui. Duis commodo orci ut dolor iaculis facilisis. In id elit malesuada, pulvinar mi eu, imperdiet nulla. Donec congue sapien vel euismod interdum. Sed nec suscipit ligula.',\n",
       "  'version': 4.23},\n",
       " {'name': 'Mxolisi Mhlongo',\n",
       "  'language': 'isiZulu',\n",
       "  'id': 'Q2HFB19RPLHIZXKH',\n",
       "  'bio': 'Aliquam scelerisque pretium tellus, sed accumsan est ultrices id. Maecenas tempus neque ut porttitor malesuada. . Duis commodo orci ut dolor iaculis facilisis.',\n",
       "  'version': 7.49},\n",
       " {'name': 'Moni Sisodiya',\n",
       "  'language': 'Hindi',\n",
       "  'id': '3CR7CN74GCKXWUQF',\n",
       "  'bio': 'Vestibulum pharetra libero et velit gravida euismod. Donec congue sapien vel euismod interdum. Fusce congue aliquam elit ut luctus. Ut viverra quis eros eu tincidunt. Phasellus tincidunt sollicitudin posuere.',\n",
       "  'version': 4.58},\n",
       " {'name': 'Anna Jónsdóttir',\n",
       "  'language': 'Icelandic',\n",
       "  'id': 'CKJW1XVW90VWO4Y1',\n",
       "  'bio': 'Etiam mauris magna, fermentum vitae aliquet eu, cursus vitae sapien. Donec lobortis eleifend condimentum. Etiam mauris magna, fermentum vitae aliquet eu, cursus vitae sapien.',\n",
       "  'version': 5.78},\n",
       " {'name': 'Darko Basic',\n",
       "  'language': 'Bosnian',\n",
       "  'id': 'FWT1CZQOIVRJTXRD',\n",
       "  'bio': 'Donec congue sapien vel euismod interdum. Fusce eu ultrices elit, vel posuere neque. Duis luctus, lacus eu aliquet convallis, purus elit malesuada ex, vitae rutrum ipsum dui ut magna.',\n",
       "  'version': 2.27},\n",
       " {'name': 'Kedibonye Magogwe',\n",
       "  'language': 'Setswana',\n",
       "  'id': 'PCT0HLRPZLDSSDU1',\n",
       "  'bio': 'Aliquam sollicitudin ante ligula, eget malesuada nibh efficitur et. Aliquam sollicitudin ante ligula, eget malesuada nibh efficitur et. Quisque maximus sodales mauris ut elementum.',\n",
       "  'version': 5.57},\n",
       " {'name': 'Nobuhle Xaba',\n",
       "  'language': 'isiZulu',\n",
       "  'id': '5K1K8V1OUUFKQ2UV',\n",
       "  'bio': 'Maecenas non arcu nulla. Morbi ac tellus erat.',\n",
       "  'version': 1.18},\n",
       " {'name': 'Monty Dubey',\n",
       "  'language': 'Hindi',\n",
       "  'id': 'B7SF955NFGAEBRXU',\n",
       "  'bio': 'Maecenas quis nisi nunc. Maecenas tempus neque ut porttitor malesuada. Morbi ultricies consequat ligula posuere eleifend. Ut accumsan, est vel fringilla varius, purus augue blandit nisl, eu rhoncus ligula purus vel dolor.',\n",
       "  'version': 6.69},\n",
       " {'name': 'Richa Choukse',\n",
       "  'language': 'Hindi',\n",
       "  'id': 'BADWLBP8CNJNBEC8',\n",
       "  'bio': 'Nunc tincidunt laoreet laoreet. Ut dictum, ligula eget sagittis maximus, tellus mi varius ex, a accumsan justo tellus vitae leo. Curabitur quis commodo quam. Morbi vitae nisi lacinia, laoreet lorem nec, egestas orci.',\n",
       "  'version': 7.8},\n",
       " {'name': 'Dzenan Imamovic',\n",
       "  'language': 'Bosnian',\n",
       "  'id': 'FVAHD0OY99X9DIRW',\n",
       "  'bio': 'Nam tristique feugiat est vitae mollis. Quisque mauris ligula, efficitur porttitor sodales ac, lacinia non ex. Nullam ac sodales dolor, eu facilisis dui. Morbi finibus dui sed est fringilla ornare. Quisque efficitur vel sapien ut imperdiet.',\n",
       "  'version': 1.64},\n",
       " {'name': 'Amol Bhatnagar',\n",
       "  'language': 'Hindi',\n",
       "  'id': '3HPSETKL9VOW2WTL',\n",
       "  'bio': 'Vestibulum pharetra libero et velit gravida euismod. Nam semper gravida nunc, sit amet elementum ipsum.',\n",
       "  'version': 3.28},\n",
       " {'name': 'Ingibjörg Ólafsdóttir',\n",
       "  'language': 'Icelandic',\n",
       "  'id': '9BXLMMM1PQOZRHCR',\n",
       "  'bio': 'Maecenas non arcu nulla. Sed nec suscipit ligula. Fusce congue aliquam elit ut luctus.',\n",
       "  'version': 9.59},\n",
       " {'name': 'Shweta Chourasia',\n",
       "  'language': 'Hindi',\n",
       "  'id': '9GAO62FXPQMUTTLJ',\n",
       "  'bio': 'Duis luctus, lacus eu aliquet convallis, purus elit malesuada ex, vitae rutrum ipsum dui ut magna. Integer vehicula, arcu sit amet egestas efficitur, orci justo interdum massa, eget ullamcorper risus ligula tristique libero. Quisque maximus sodales mauris ut elementum. Sed eu libero maximus nunc lacinia lobortis et sit amet nisi.',\n",
       "  'version': 5.84},\n",
       " {'name': 'Ayanda Ndimande',\n",
       "  'language': 'isiZulu',\n",
       "  'id': 'VPK9MQRKX2L847HQ',\n",
       "  'bio': 'Duis commodo orci ut dolor iaculis facilisis. Nam laoreet, nunc non suscipit interdum, justo turpis vestibulum massa, non vulputate ex urna at purus.',\n",
       "  'version': 2.89},\n",
       " {'name': 'Sigurjón Guðmundsson',\n",
       "  'language': 'Icelandic',\n",
       "  'id': 'IAYT285H2U8JU94F',\n",
       "  'bio': 'Sed eu libero maximus nunc lacinia lobortis et sit amet nisi. Ut viverra quis eros eu tincidunt. Lorem ipsum dolor sit amet, consectetur adipiscing elit. Aliquam sollicitudin ante ligula, eget malesuada nibh efficitur et. Vestibulum ante ipsum primis in faucibus orci luctus et ultrices posuere cubilia curae; Etiam consequat enim lorem, at tincidunt velit ultricies et.',\n",
       "  'version': 4.85},\n",
       " {'name': 'Jóhannes Jóhannsson',\n",
       "  'language': 'Icelandic',\n",
       "  'id': 'J2RAROEJGKMR72I8',\n",
       "  'bio': 'Duis pellentesque ultrices convallis. Nulla finibus massa at viverra facilisis. Ut dictum, ligula eget sagittis maximus, tellus mi varius ex, a accumsan justo tellus vitae leo.',\n",
       "  'version': 4.83},\n",
       " {'name': 'Neo Dikgaka',\n",
       "  'language': 'Setswana',\n",
       "  'id': 'OQRF6Y37N20JILOC',\n",
       "  'bio': 'Nam tristique feugiat est vitae mollis. Sed nec suscipit ligula. Nam laoreet, nunc non suscipit interdum, justo turpis vestibulum massa, non vulputate ex urna at purus. Duis pellentesque ultrices convallis. Maecenas quis nisi nunc.',\n",
       "  'version': 1.07},\n",
       " {'name': 'Sanja Jankovic',\n",
       "  'language': 'Bosnian',\n",
       "  'id': 'HD94EKIPA6WAL05C',\n",
       "  'bio': 'Phasellus tincidunt sollicitudin posuere. Nam laoreet, nunc non suscipit interdum, justo turpis vestibulum massa, non vulputate ex urna at purus. In id elit malesuada, pulvinar mi eu, imperdiet nulla. Donec congue sapien vel euismod interdum. Nullam ac sodales dolor, eu facilisis dui.',\n",
       "  'version': 1.06},\n",
       " {'name': 'Mogorosi Bakwena',\n",
       "  'language': 'Setswana',\n",
       "  'id': 'FTZM8YDJJUH1OEM7',\n",
       "  'bio': 'Vestibulum pharetra libero et velit gravida euismod. Suspendisse sit amet ullamcorper sem.',\n",
       "  'version': 6.03},\n",
       " {'name': 'Ronak Gupta',\n",
       "  'language': 'Hindi',\n",
       "  'id': 'ZYPDGK8UDYJPTRKN',\n",
       "  'bio': 'Sed laoreet posuere sapien, ut feugiat nibh gravida at. Quisque mauris ligula, efficitur porttitor sodales ac, lacinia non ex. In sed ultricies lorem. Pellentesque massa sem, scelerisque sit amet odio id, cursus tempor urna.',\n",
       "  'version': 7.18},\n",
       " {'name': 'Ditiro Kgosi',\n",
       "  'language': 'Setswana',\n",
       "  'id': '67C5ET66U59WYJ6K',\n",
       "  'bio': 'Fusce congue aliquam elit ut luctus. Ut dictum, ligula eget sagittis maximus, tellus mi varius ex, a accumsan justo tellus vitae leo. Cras dictum dolor lacinia lectus vehicula rutrum. Etiam congue dignissim volutpat.',\n",
       "  'version': 4.56},\n",
       " {'name': 'Jelena Maric',\n",
       "  'language': 'Bosnian',\n",
       "  'id': 'JTW9DH3B9QGB39JY',\n",
       "  'bio': 'Vestibulum pharetra libero et velit gravida euismod. Etiam malesuada blandit erat, nec ultricies leo maximus sed.',\n",
       "  'version': 3.39},\n",
       " {'name': 'Esha Sastry',\n",
       "  'language': 'Hindi',\n",
       "  'id': '4OJULHY03Z6XTRMW',\n",
       "  'bio': 'Morbi vitae nisi lacinia, laoreet lorem nec, egestas orci. Nullam ac sodales dolor, eu facilisis dui.',\n",
       "  'version': 5.1},\n",
       " {'name': 'Chetana Hegde',\n",
       "  'language': 'Hindi',\n",
       "  'id': 'J9GS1RODDZL325LK',\n",
       "  'bio': 'Aliquam sollicitudin ante ligula, eget malesuada nibh efficitur et. Nulla finibus massa at viverra facilisis. Nam tristique feugiat est vitae mollis. Phasellus tincidunt sollicitudin posuere.',\n",
       "  'version': 9.99},\n",
       " {'name': 'Rahul Shukla',\n",
       "  'language': 'Hindi',\n",
       "  'id': '2ANVMAVG6YX2VT6N',\n",
       "  'bio': 'Phasellus massa ligula, hendrerit eget efficitur eget, tincidunt in ligula. Phasellus massa ligula, hendrerit eget efficitur eget, tincidunt in ligula.',\n",
       "  'version': 1.72},\n",
       " {'name': 'Samra Delic',\n",
       "  'language': 'Bosnian',\n",
       "  'id': 'BXJWNTJ2TDID61PJ',\n",
       "  'bio': 'Donec pellentesque ultrices mi, non consectetur eros luctus non. Sed nec suscipit ligula.',\n",
       "  'version': 2.5},\n",
       " {'name': 'Mohan Pandey',\n",
       "  'language': 'Hindi',\n",
       "  'id': 'XAHKVLM3I1WSPNIW',\n",
       "  'bio': 'Maecenas quis nisi nunc. Ut dictum, ligula eget sagittis maximus, tellus mi varius ex, a accumsan justo tellus vitae leo. Ut maximus, libero nec facilisis fringilla, ex sem sollicitudin leo, non congue tortor ligula in eros. Morbi ac tellus erat.',\n",
       "  'version': 8.1},\n",
       " {'name': 'Haris Osmanovic',\n",
       "  'language': 'Bosnian',\n",
       "  'id': 'ZDXF5KESMW9XF2TJ',\n",
       "  'bio': 'Nam rutrum sollicitudin ante tempus consequat. Etiam mauris magna, fermentum vitae aliquet eu, cursus vitae sapien.',\n",
       "  'version': 9.41},\n",
       " {'name': 'Kenosi Kwenaemang',\n",
       "  'language': 'Setswana',\n",
       "  'id': 'DX2IYTQ9IMY75W08',\n",
       "  'bio': 'Sed laoreet posuere sapien, ut feugiat nibh gravida at. Donec lobortis eleifend condimentum.',\n",
       "  'version': 9.01},\n",
       " {'name': 'Nontobeko Nzimande',\n",
       "  'language': 'isiZulu',\n",
       "  'id': 'Y9C4HQHTOP74DFZT',\n",
       "  'bio': 'Nullam sodales convallis mauris, sit amet lobortis magna auctor sit amet. Morbi vitae nisi lacinia, laoreet lorem nec, egestas orci. Integer vehicula, arcu sit amet egestas efficitur, orci justo interdum massa, eget ullamcorper risus ligula tristique libero. Nam laoreet, nunc non suscipit interdum, justo turpis vestibulum massa, non vulputate ex urna at purus.',\n",
       "  'version': 4.77},\n",
       " {'name': 'Sanjay Puranik',\n",
       "  'language': 'Hindi',\n",
       "  'id': 'WF2WP6S0HX8GR8GZ',\n",
       "  'bio': 'Ut viverra quis eros eu tincidunt. Vestibulum ante ipsum primis in faucibus orci luctus et ultrices posuere cubilia curae; Etiam consequat enim lorem, at tincidunt velit ultricies et. Nam semper gravida nunc, sit amet elementum ipsum.',\n",
       "  'version': 3.37},\n",
       " {'name': 'Sethunya Mpšwe',\n",
       "  'language': 'Setswana',\n",
       "  'id': '85MVUXVQ5H5HPA4F',\n",
       "  'bio': 'Quisque maximus sodales mauris ut elementum. Duis commodo orci ut dolor iaculis facilisis. Sed eu libero maximus nunc lacinia lobortis et sit amet nisi.',\n",
       "  'version': 1.75},\n",
       " {'name': 'Dileep Chaturvedi',\n",
       "  'language': 'Hindi',\n",
       "  'id': 'O95BY1KDMCEYQRFH',\n",
       "  'bio': 'Phasellus tincidunt sollicitudin posuere. In id elit malesuada, pulvinar mi eu, imperdiet nulla. Vivamus id faucibus velit, id posuere leo. Nullam ac sodales dolor, eu facilisis dui. Ut dictum, ligula eget sagittis maximus, tellus mi varius ex, a accumsan justo tellus vitae leo.',\n",
       "  'version': 4.94},\n",
       " {'name': 'Adnan Spahic',\n",
       "  'language': 'Bosnian',\n",
       "  'id': '97IIDMHAJMBPI4ON',\n",
       "  'bio': 'Duis commodo orci ut dolor iaculis facilisis. Vivamus id faucibus velit, id posuere leo.',\n",
       "  'version': 9.1},\n",
       " {'name': 'Madhur Jain',\n",
       "  'language': 'Hindi',\n",
       "  'id': 'FM300CZ0VU9LTNTE',\n",
       "  'bio': 'Fusce eu ultrices elit, vel posuere neque. Donec congue sapien vel euismod interdum. Vivamus id faucibus velit, id posuere leo. Integer vehicula, arcu sit amet egestas efficitur, orci justo interdum massa, eget ullamcorper risus ligula tristique libero. Aliquam sollicitudin ante ligula, eget malesuada nibh efficitur et.',\n",
       "  'version': 4.99},\n",
       " {'name': 'Nayan Mittal',\n",
       "  'language': 'Hindi',\n",
       "  'id': 'S879KFFIHDNK8GSE',\n",
       "  'bio': 'Suspendisse sit amet ullamcorper sem. In id elit malesuada, pulvinar mi eu, imperdiet nulla. Duis commodo orci ut dolor iaculis facilisis.',\n",
       "  'version': 3.99},\n",
       " {'name': 'Kabelo Morwe',\n",
       "  'language': 'Setswana',\n",
       "  'id': 'JJDPB2983QRVATD3',\n",
       "  'bio': 'Nullam ac sodales dolor, eu facilisis dui. Phasellus massa ligula, hendrerit eget efficitur eget, tincidunt in ligula. . Integer vehicula, arcu sit amet egestas efficitur, orci justo interdum massa, eget ullamcorper risus ligula tristique libero. Curabitur ultricies id urna nec ultrices.',\n",
       "  'version': 8.86},\n",
       " {'name': 'Einar Einarsson',\n",
       "  'language': 'Icelandic',\n",
       "  'id': 'ZWMFEUEBNYTW2WPB',\n",
       "  'bio': 'Etiam mauris magna, fermentum vitae aliquet eu, cursus vitae sapien. Duis pellentesque ultrices convallis. Nullam sodales convallis mauris, sit amet lobortis magna auctor sit amet. Vestibulum ante ipsum primis in faucibus orci luctus et ultrices posuere cubilia curae; Etiam consequat enim lorem, at tincidunt velit ultricies et. Donec congue sapien vel euismod interdum.',\n",
       "  'version': 9.05},\n",
       " {'name': 'Luka Lovren',\n",
       "  'language': 'Bosnian',\n",
       "  'id': '9S4SGEQWBKMRISYZ',\n",
       "  'bio': 'Maecenas tempus neque ut porttitor malesuada. Lorem ipsum dolor sit amet, consectetur adipiscing elit. Curabitur quis commodo quam. Nam rutrum sollicitudin ante tempus consequat.',\n",
       "  'version': 5.22},\n",
       " {'name': 'Sigríður Einarsdóttir',\n",
       "  'language': 'Icelandic',\n",
       "  'id': '4IJVD6OE3C7IX3ZG',\n",
       "  'bio': 'Aenean finibus in tortor vel aliquet. Nam tristique feugiat est vitae mollis.',\n",
       "  'version': 6.63},\n",
       " {'name': 'Sonu Jain',\n",
       "  'language': 'Hindi',\n",
       "  'id': '0OIB5SU9JB2PBJDV',\n",
       "  'bio': 'Phasellus massa ligula, hendrerit eget efficitur eget, tincidunt in ligula. Curabitur ultricies id urna nec ultrices.',\n",
       "  'version': 9.66},\n",
       " {'name': 'Boitumelo Ngwako',\n",
       "  'language': 'Setswana',\n",
       "  'id': 'INZITSS95L9V52JE',\n",
       "  'bio': 'Ut maximus, libero nec facilisis fringilla, ex sem sollicitudin leo, non congue tortor ligula in eros. Aliquam sollicitudin ante ligula, eget malesuada nibh efficitur et. Nam tristique feugiat est vitae mollis. Quisque mauris ligula, efficitur porttitor sodales ac, lacinia non ex. In sed ultricies lorem.',\n",
       "  'version': 9.07},\n",
       " {'name': 'Shilpa Bhatia',\n",
       "  'language': 'Hindi',\n",
       "  'id': 'SU0W3T6TF8G3JY5M',\n",
       "  'bio': 'Morbi ultricies consequat ligula posuere eleifend. Donec pellentesque ultrices mi, non consectetur eros luctus non. Quisque efficitur vel sapien ut imperdiet. Lorem ipsum dolor sit amet, consectetur adipiscing elit.',\n",
       "  'version': 4.43},\n",
       " {'name': 'Modise Tau',\n",
       "  'language': 'Setswana',\n",
       "  'id': 'U6SF3N4JXJEQSC1P',\n",
       "  'bio': 'Vivamus id faucibus velit, id posuere leo. Phasellus massa ligula, hendrerit eget efficitur eget, tincidunt in ligula. Fusce eu ultrices elit, vel posuere neque. Nunc tincidunt laoreet laoreet.',\n",
       "  'version': 6.23},\n",
       " {'name': 'Reena Shrivastav',\n",
       "  'language': 'Hindi',\n",
       "  'id': 'Y57EEOVURYX1OA1P',\n",
       "  'bio': 'Donec lobortis eleifend condimentum. Curabitur ultricies id urna nec ultrices. Maecenas non arcu nulla.',\n",
       "  'version': 3.07},\n",
       " {'name': 'Thabani Ngubani',\n",
       "  'language': 'isiZulu',\n",
       "  'id': 'LR7FI8WEE3SLTW02',\n",
       "  'bio': 'Cras dictum dolor lacinia lectus vehicula rutrum. Nulla finibus massa at viverra facilisis.',\n",
       "  'version': 5.99},\n",
       " {'name': 'Gunnar Gunnarsson',\n",
       "  'language': 'Icelandic',\n",
       "  'id': 'UVI6EKJNMC3VE3WU',\n",
       "  'bio': 'In sed ultricies lorem. Donec congue sapien vel euismod interdum. Duis commodo orci ut dolor iaculis facilisis. Vestibulum ante ipsum primis in faucibus orci luctus et ultrices posuere cubilia curae; Etiam consequat enim lorem, at tincidunt velit ultricies et.',\n",
       "  'version': 8.7},\n",
       " {'name': 'Lejla Selimagic',\n",
       "  'language': 'Bosnian',\n",
       "  'id': 'ESBBT644VZ64SSEN',\n",
       "  'bio': 'Vivamus id faucibus velit, id posuere leo. Etiam congue dignissim volutpat. Donec lobortis eleifend condimentum. Fusce eu ultrices elit, vel posuere neque.',\n",
       "  'version': 5.59},\n",
       " {'name': 'Kgosietsile Bogatsu',\n",
       "  'language': 'Setswana',\n",
       "  'id': '0B8IOVL2NSVJVV6T',\n",
       "  'bio': 'Curabitur quis commodo quam. In id elit malesuada, pulvinar mi eu, imperdiet nulla. Nullam ac sodales dolor, eu facilisis dui. Duis commodo orci ut dolor iaculis facilisis.',\n",
       "  'version': 6.78},\n",
       " {'name': 'Sushant Bhargav',\n",
       "  'language': 'Hindi',\n",
       "  'id': 'PRWA7HE1GJ7OCYQM',\n",
       "  'bio': 'Proin tempus eu risus nec mattis. Maecenas tempus neque ut porttitor malesuada. Quisque efficitur vel sapien ut imperdiet. Quisque efficitur vel sapien ut imperdiet.',\n",
       "  'version': 5.36},\n",
       " {'name': 'Monika Nayak',\n",
       "  'language': 'Hindi',\n",
       "  'id': 'RO0ZCWFTY6MJ66AZ',\n",
       "  'bio': 'Sed eu libero maximus nunc lacinia lobortis et sit amet nisi. Quisque efficitur vel sapien ut imperdiet. Nam rutrum sollicitudin ante tempus consequat. Curabitur ultricies id urna nec ultrices. Phasellus massa ligula, hendrerit eget efficitur eget, tincidunt in ligula.',\n",
       "  'version': 7.58},\n",
       " {'name': 'Guðrún Guðmundsdóttir',\n",
       "  'language': 'Icelandic',\n",
       "  'id': 'R1TRJT5TWANYO88D',\n",
       "  'bio': 'Maecenas non arcu nulla. In sed ultricies lorem.',\n",
       "  'version': 4.65},\n",
       " {'name': 'Shakti Menon',\n",
       "  'language': 'Hindi',\n",
       "  'id': 'J1NSHQXRWA7CY0AZ',\n",
       "  'bio': 'Vivamus id faucibus velit, id posuere leo. Etiam malesuada blandit erat, nec ultricies leo maximus sed. Nam semper gravida nunc, sit amet elementum ipsum.',\n",
       "  'version': 5.16},\n",
       " {'name': 'Ndumiso Hlatshwayo',\n",
       "  'language': 'isiZulu',\n",
       "  'id': '533XA8H67VO8CSGQ',\n",
       "  'bio': 'Quisque efficitur vel sapien ut imperdiet. Nam semper gravida nunc, sit amet elementum ipsum. Donec pellentesque ultrices mi, non consectetur eros luctus non. Vestibulum pharetra libero et velit gravida euismod. Lorem ipsum dolor sit amet, consectetur adipiscing elit.',\n",
       "  'version': 5.24},\n",
       " {'name': 'Lucky Shastry',\n",
       "  'language': 'Hindi',\n",
       "  'id': '3OBF3U08WI1QF63N',\n",
       "  'bio': 'Morbi ultricies consequat ligula posuere eleifend. Suspendisse sit amet ullamcorper sem.',\n",
       "  'version': 7.86},\n",
       " {'name': 'Pule Matlhaku',\n",
       "  'language': 'Setswana',\n",
       "  'id': 'UPATVXM44DAFUDI7',\n",
       "  'bio': 'Maecenas tempus neque ut porttitor malesuada. Vivamus id faucibus velit, id posuere leo. Morbi finibus dui sed est fringilla ornare.',\n",
       "  'version': 4.12},\n",
       " {'name': 'Raju Rathore',\n",
       "  'language': 'Hindi',\n",
       "  'id': 'QQMNYP788DEFG4IS',\n",
       "  'bio': 'Nam rutrum sollicitudin ante tempus consequat. Pellentesque massa sem, scelerisque sit amet odio id, cursus tempor urna. Integer vehicula, arcu sit amet egestas efficitur, orci justo interdum massa, eget ullamcorper risus ligula tristique libero.',\n",
       "  'version': 9.86},\n",
       " {'name': 'Xolani Ngcobo',\n",
       "  'language': 'isiZulu',\n",
       "  'id': 'SXWZ4IYT5VZA6WEE',\n",
       "  'bio': 'Ut dictum, ligula eget sagittis maximus, tellus mi varius ex, a accumsan justo tellus vitae leo. Fusce eu ultrices elit, vel posuere neque. Curabitur quis commodo quam.',\n",
       "  'version': 4.77},\n",
       " {'name': 'Meenakshi Benjaree',\n",
       "  'language': 'Hindi',\n",
       "  'id': '933PPBA946YX1K4X',\n",
       "  'bio': 'Maecenas tempus neque ut porttitor malesuada. Duis pellentesque ultrices convallis.',\n",
       "  'version': 7.9},\n",
       " {'name': 'Ólafur Magnússon',\n",
       "  'language': 'Icelandic',\n",
       "  'id': 'NWY9HV455M3W8QKY',\n",
       "  'bio': 'Morbi ultricies consequat ligula posuere eleifend. Duis pellentesque ultrices convallis. Vestibulum pharetra libero et velit gravida euismod. Ut dictum, ligula eget sagittis maximus, tellus mi varius ex, a accumsan justo tellus vitae leo. Aliquam sollicitudin ante ligula, eget malesuada nibh efficitur et.',\n",
       "  'version': 2.09},\n",
       " {'name': 'Samir Simic',\n",
       "  'language': 'Bosnian',\n",
       "  'id': '6H2IO7A62ZVUXGKZ',\n",
       "  'bio': 'Etiam malesuada blandit erat, nec ultricies leo maximus sed. Quisque maximus sodales mauris ut elementum. Lorem ipsum dolor sit amet, consectetur adipiscing elit. Lorem ipsum dolor sit amet, consectetur adipiscing elit.',\n",
       "  'version': 6.93},\n",
       " {'name': 'Swarnika Soni',\n",
       "  'language': 'Hindi',\n",
       "  'id': '4GJF8C6P1Y5RFPMC',\n",
       "  'bio': 'Ut maximus, libero nec facilisis fringilla, ex sem sollicitudin leo, non congue tortor ligula in eros. Nunc tincidunt laoreet laoreet.',\n",
       "  'version': 4.82},\n",
       " {'name': 'Lavanya Mittal',\n",
       "  'language': 'Hindi',\n",
       "  'id': '4Z09CO5IJH7CEUD2',\n",
       "  'bio': 'Suspendisse sit amet ullamcorper sem. Ut dictum, ligula eget sagittis maximus, tellus mi varius ex, a accumsan justo tellus vitae leo.',\n",
       "  'version': 1.08},\n",
       " {'name': 'Bontle Mokgatle',\n",
       "  'language': 'Setswana',\n",
       "  'id': '4Y497GAOTAFUJDIC',\n",
       "  'bio': 'Maecenas non arcu nulla. Lorem ipsum dolor sit amet, consectetur adipiscing elit.',\n",
       "  'version': 1.92},\n",
       " {'name': 'Prashant Chourey',\n",
       "  'language': 'Hindi',\n",
       "  'id': 'J4NMMNAALGOIZY8V',\n",
       "  'bio': 'Etiam malesuada blandit erat, nec ultricies leo maximus sed. Suspendisse potenti. Phasellus massa ligula, hendrerit eget efficitur eget, tincidunt in ligula. Ut viverra quis eros eu tincidunt.',\n",
       "  'version': 8.59},\n",
       " {'name': 'Prakash Malviya',\n",
       "  'language': 'Hindi',\n",
       "  'id': 'P442H9CEHIU6HAFV',\n",
       "  'bio': 'Proin tempus eu risus nec mattis. Integer vehicula, arcu sit amet egestas efficitur, orci justo interdum massa, eget ullamcorper risus ligula tristique libero. Vivamus id faucibus velit, id posuere leo. In id elit malesuada, pulvinar mi eu, imperdiet nulla. Donec pellentesque ultrices mi, non consectetur eros luctus non.',\n",
       "  'version': 8.21},\n",
       " {'name': 'Ivana Kalic',\n",
       "  'language': 'Bosnian',\n",
       "  'id': '31VIE8WWDJWKE5YL',\n",
       "  'bio': 'Quisque efficitur vel sapien ut imperdiet. Duis luctus, lacus eu aliquet convallis, purus elit malesuada ex, vitae rutrum ipsum dui ut magna.',\n",
       "  'version': 6.99},\n",
       " {'name': 'Ajeet Vasav',\n",
       "  'language': 'Hindi',\n",
       "  'id': 'ODNPTWVSRBPII0BH',\n",
       "  'bio': 'Aenean finibus in tortor vel aliquet. Integer vehicula, arcu sit amet egestas efficitur, orci justo interdum massa, eget ullamcorper risus ligula tristique libero. Morbi finibus dui sed est fringilla ornare. Morbi finibus dui sed est fringilla ornare. Ut maximus, libero nec facilisis fringilla, ex sem sollicitudin leo, non congue tortor ligula in eros.',\n",
       "  'version': 3.6},\n",
       " {'name': 'Jóhanna Jóhannsdóttir',\n",
       "  'language': 'Icelandic',\n",
       "  'id': 'ZI21GM8B08FVLMF0',\n",
       "  'bio': 'In sed ultricies lorem. Etiam malesuada blandit erat, nec ultricies leo maximus sed.',\n",
       "  'version': 4.93},\n",
       " {'name': 'Seema Thapar',\n",
       "  'language': 'Hindi',\n",
       "  'id': 'IZSO10C5ZHVYQ5O2',\n",
       "  'bio': 'Duis commodo orci ut dolor iaculis facilisis. Etiam mauris magna, fermentum vitae aliquet eu, cursus vitae sapien. Maecenas tempus neque ut porttitor malesuada. Phasellus massa ligula, hendrerit eget efficitur eget, tincidunt in ligula. Vestibulum ante ipsum primis in faucibus orci luctus et ultrices posuere cubilia curae; Etiam consequat enim lorem, at tincidunt velit ultricies et.',\n",
       "  'version': 1.79},\n",
       " {'name': 'María Stefánsdóttir',\n",
       "  'language': 'Icelandic',\n",
       "  'id': 'KWH2RVHSB25MYGL9',\n",
       "  'bio': 'In id elit malesuada, pulvinar mi eu, imperdiet nulla. Sed eu libero maximus nunc lacinia lobortis et sit amet nisi. Ut viverra quis eros eu tincidunt. Nam rutrum sollicitudin ante tempus consequat.',\n",
       "  'version': 5.21},\n",
       " {'name': 'Denis Terzic',\n",
       "  'language': 'Bosnian',\n",
       "  'id': '1WQO4VGBS2U7DOSL',\n",
       "  'bio': 'Ut accumsan, est vel fringilla varius, purus augue blandit nisl, eu rhoncus ligula purus vel dolor. Curabitur quis commodo quam. Curabitur ultricies id urna nec ultrices. Nam rutrum sollicitudin ante tempus consequat. Morbi finibus dui sed est fringilla ornare.',\n",
       "  'version': 6.32},\n",
       " {'name': 'Ana Livic',\n",
       "  'language': 'Bosnian',\n",
       "  'id': '8JYVK7SM07YQOVQ3',\n",
       "  'bio': 'Nam tristique feugiat est vitae mollis. Aliquam sollicitudin ante ligula, eget malesuada nibh efficitur et. Pellentesque massa sem, scelerisque sit amet odio id, cursus tempor urna. Proin tempus eu risus nec mattis. Sed eu libero maximus nunc lacinia lobortis et sit amet nisi.',\n",
       "  'version': 5.93},\n",
       " {'name': 'Bukhosi Bhengu',\n",
       "  'language': 'isiZulu',\n",
       "  'id': 'AFYXL0UNGMU0B1H2',\n",
       "  'bio': 'Curabitur quis commodo quam. Curabitur sed condimentum felis, ut luctus eros. Aliquam scelerisque pretium tellus, sed accumsan est ultrices id. Aliquam scelerisque pretium tellus, sed accumsan est ultrices id. Sed nec suscipit ligula.',\n",
       "  'version': 9.37},\n",
       " {'name': 'Siyabonga Sithole',\n",
       "  'language': 'isiZulu',\n",
       "  'id': 'NJDX77JXV51CNGF5',\n",
       "  'bio': 'Quisque mauris ligula, efficitur porttitor sodales ac, lacinia non ex. Sed laoreet posuere sapien, ut feugiat nibh gravida at.',\n",
       "  'version': 8.22},\n",
       " {'name': 'Meena Dubey',\n",
       "  'language': 'Hindi',\n",
       "  'id': 'GCJGYXSPDEFF9BTN',\n",
       "  'bio': 'Vestibulum ante ipsum primis in faucibus orci luctus et ultrices posuere cubilia curae; Etiam consequat enim lorem, at tincidunt velit ultricies et. Donec lobortis eleifend condimentum. Morbi ac tellus erat. Maecenas quis nisi nunc.',\n",
       "  'version': 2.95},\n",
       " {'name': 'Chandrika Gupta',\n",
       "  'language': 'Hindi',\n",
       "  'id': '7KFJHS86WKTL6Q12',\n",
       "  'bio': 'Aliquam sollicitudin ante ligula, eget malesuada nibh efficitur et. Suspendisse sit amet ullamcorper sem. Etiam mauris magna, fermentum vitae aliquet eu, cursus vitae sapien.',\n",
       "  'version': 5.35},\n",
       " {'name': 'Akhilesh Khare',\n",
       "  'language': 'Hindi',\n",
       "  'id': 'ATINHMT01VNMMDCP',\n",
       "  'bio': 'Donec congue sapien vel euismod interdum. Suspendisse potenti. Nullam ac sodales dolor, eu facilisis dui. Nam tristique feugiat est vitae mollis. Curabitur ultricies id urna nec ultrices.',\n",
       "  'version': 3.68},\n",
       " {'name': 'Motsumi Basiang',\n",
       "  'language': 'Setswana',\n",
       "  'id': 'MUELSFQENUOHGBZ3',\n",
       "  'bio': 'Cras dictum dolor lacinia lectus vehicula rutrum. Ut maximus, libero nec facilisis fringilla, ex sem sollicitudin leo, non congue tortor ligula in eros. Donec congue sapien vel euismod interdum.',\n",
       "  'version': 5.23},\n",
       " {'name': 'Neha Benjaree',\n",
       "  'language': 'Hindi',\n",
       "  'id': '5VTSZUD0SA9JVL40',\n",
       "  'bio': 'Morbi ultricies consequat ligula posuere eleifend. Nulla finibus massa at viverra facilisis. Nam tristique feugiat est vitae mollis.',\n",
       "  'version': 5.73},\n",
       " {'name': 'Kristín Sigurðardóttir',\n",
       "  'language': 'Icelandic',\n",
       "  'id': 'ZP5TBBYX6RI2UJ31',\n",
       "  'bio': 'Cras dictum dolor lacinia lectus vehicula rutrum. Cras dictum dolor lacinia lectus vehicula rutrum. Duis luctus, lacus eu aliquet convallis, purus elit malesuada ex, vitae rutrum ipsum dui ut magna. Fusce congue aliquam elit ut luctus. Duis commodo orci ut dolor iaculis facilisis.',\n",
       "  'version': 2.8},\n",
       " {'name': 'Rohini Vasav',\n",
       "  'language': 'Hindi',\n",
       "  'id': 'UEFML43TCGS04KWM',\n",
       "  'bio': 'Ut accumsan, est vel fringilla varius, purus augue blandit nisl, eu rhoncus ligula purus vel dolor. Ut maximus, libero nec facilisis fringilla, ex sem sollicitudin leo, non congue tortor ligula in eros. Nam rutrum sollicitudin ante tempus consequat. Aliquam scelerisque pretium tellus, sed accumsan est ultrices id. Suspendisse sit amet ullamcorper sem.',\n",
       "  'version': 9.3},\n",
       " {'name': 'Sunil Kapoor',\n",
       "  'language': 'Hindi',\n",
       "  'id': 'VY2A0APGVHK5NAW2',\n",
       "  'bio': 'Proin tempus eu risus nec mattis. Ut dictum, ligula eget sagittis maximus, tellus mi varius ex, a accumsan justo tellus vitae leo. In id elit malesuada, pulvinar mi eu, imperdiet nulla.',\n",
       "  'version': 8.04},\n",
       " {'name': 'Zamokuhle Zulu',\n",
       "  'language': 'isiZulu',\n",
       "  'id': 'XU7BX2F8M5PVZ1EF',\n",
       "  'bio': 'Etiam congue dignissim volutpat. Phasellus tincidunt sollicitudin posuere. Phasellus tincidunt sollicitudin posuere. Nam tristique feugiat est vitae mollis.',\n",
       "  'version': 8.39},\n",
       " {'name': 'Bhupesh Menon',\n",
       "  'language': 'Hindi',\n",
       "  'id': '0CEPNRDV98KT3ORP',\n",
       "  'bio': 'Maecenas tempus neque ut porttitor malesuada. Phasellus massa ligula, hendrerit eget efficitur eget, tincidunt in ligula. Quisque mauris ligula, efficitur porttitor sodales ac, lacinia non ex. Maecenas quis nisi nunc.',\n",
       "  'version': 2.69}]"
      ]
     },
     "execution_count": 94,
     "metadata": {},
     "output_type": "execute_result"
    }
   ],
   "source": [
    "cust"
   ]
  },
  {
   "cell_type": "code",
   "execution_count": 77,
   "id": "4bb40c58",
   "metadata": {},
   "outputs": [],
   "source": [
    "search_name=\"name\""
   ]
  },
  {
   "cell_type": "code",
   "execution_count": 78,
   "id": "8549f874",
   "metadata": {},
   "outputs": [
    {
     "name": "stdout",
     "output_type": "stream",
     "text": [
      "No customer found name\n"
     ]
    }
   ],
   "source": [
    "if search_name in cust:\n",
    "    print(f\"Customer Details for {search_name}:{cust[search_name]}\")\n",
    "else:\n",
    "    print(f\"No customer found {search_name}\")"
   ]
  },
  {
   "cell_type": "code",
   "execution_count": 86,
   "id": "558901ba",
   "metadata": {},
   "outputs": [],
   "source": [
    "custs=cust[0]"
   ]
  },
  {
   "cell_type": "code",
   "execution_count": 91,
   "id": "7dbd4850",
   "metadata": {},
   "outputs": [],
   "source": [
    "cust[0][\"name\"] = cust[0].copy()"
   ]
  },
  {
   "cell_type": "code",
   "execution_count": 92,
   "id": "05b7c28f",
   "metadata": {},
   "outputs": [
    {
     "data": {
      "text/plain": [
       "{'name': 'Adeel Solangi',\n",
       " 'language': 'Sindhi',\n",
       " 'id': 'V59OF92YF627HFY0',\n",
       " 'bio': 'Donec lobortis eleifend condimentum. Cras dictum dolor lacinia lectus vehicula rutrum. Maecenas quis nisi nunc. Nam tristique feugiat est vitae mollis. Maecenas quis nisi nunc.',\n",
       " 'version': 6.1,\n",
       " 'ages': {'name': 'Adeel Solangi',\n",
       "  'language': 'Sindhi',\n",
       "  'id': 'V59OF92YF627HFY0',\n",
       "  'bio': 'Donec lobortis eleifend condimentum. Cras dictum dolor lacinia lectus vehicula rutrum. Maecenas quis nisi nunc. Nam tristique feugiat est vitae mollis. Maecenas quis nisi nunc.',\n",
       "  'version': 6.1}}"
      ]
     },
     "execution_count": 92,
     "metadata": {},
     "output_type": "execute_result"
    }
   ],
   "source": [
    "cust[0][\"name\"]"
   ]
  },
  {
   "cell_type": "code",
   "execution_count": 99,
   "id": "25f16567",
   "metadata": {},
   "outputs": [
    {
     "name": "stdout",
     "output_type": "stream",
     "text": [
      "{'name_id': [{'name': 'Adeel Solangi', 'id': 'V59OF92YF627HFY0'}, {'name': 'Afzal Ghaffar', 'id': 'ENTOCR13RSCLZ6KU'}, {'name': 'Aamir Solangi', 'id': 'IAKPO3R4761JDRVG'}, {'name': 'Abla Dilmurat', 'id': '5ZVOEPMJUI4MB4EN'}, {'name': 'Adil Eli', 'id': '6VTI8X6LL0MMPJCC'}, {'name': 'Adile Qadir', 'id': 'F2KEU5L7EHYSYFTT'}, {'name': 'Abdukerim Ibrahim', 'id': 'LO6DVTZLRK68528I'}, {'name': 'Adil Abro', 'id': 'LJRIULRNJFCNZJAJ'}, {'name': 'Afonso Vilarchán', 'id': 'JMCL0CXNXHPL1GBC'}, {'name': 'Mark Schembri', 'id': 'KU4T500C830697CW'}, {'name': 'Antía Sixirei', 'id': 'XOF91ZR7MHV1TXRS'}, {'name': 'Aygul Mutellip', 'id': 'FTSNV411G5MKLPDT'}, {'name': 'Awais Shaikh', 'id': 'OJMWMEEQWMLDU29P'}, {'name': 'Ambreen Ahmed', 'id': '5G646V7E6TJW8X2M'}, {'name': 'Celtia Anes', 'id': 'Z53AJY7WUYPLAWC9'}, {'name': 'George Mifsud', 'id': 'N1AS6UFULO6WGTLB'}, {'name': 'Aytürk Qasim', 'id': '70RODUVRD95CLOJL'}, {'name': 'Dialè Meso', 'id': 'VBLI24FKF7VV6BWE'}, {'name': 'Breixo Galáns', 'id': '4VRLON0GPEZYFCVL'}, {'name': 'Bieito Lorme', 'id': '5DRDI1QLRGLP29RC'}, {'name': 'Azrugul Osman', 'id': '5RCTVD3C5QGVAKTQ'}, {'name': 'Brais Verdiñas', 'id': 'BT407GHCC0IHXCD3'}, {'name': 'Ekber Sadir', 'id': 'AGZDAP8D8OVRRLTY'}, {'name': 'Doreen Bartolo', 'id': '59QSX02O2XOZGRLH'}, {'name': 'Ali Ayaz', 'id': '3WNLUZ5LT2F7MYVU'}, {'name': 'Guzelnur Polat', 'id': 'I6QQHAEGV4CYDXLP'}, {'name': 'John Falzon', 'id': 'U3AWXHDTSU0H82SL'}, {'name': 'Erkin Qadir', 'id': 'GV6TA1AATZYBJ3VR'}, {'name': 'Anita Rajput', 'id': 'XLLVD0NO2ZFEP4AK'}, {'name': 'Ayesha Khalique', 'id': 'Q9A5QNGA0OSU8P6Y'}, {'name': 'Pheladi Rammala', 'id': 'EELSIRT2T4Q0M3M4'}, {'name': 'Antón Caneiro', 'id': 'ENTAPNU3MMFUGM1W'}, {'name': 'Qahar Abdulla', 'id': 'OGLODUPEHKEW0K83'}, {'name': 'Reyhan Murat', 'id': 'Y91F4D54794E9ANT'}, {'name': 'Tatapi Phogole', 'id': '7JA42P5CMCWDVPNR'}, {'name': 'Marcos Amboade', 'id': 'WPX7H97C7D70CZJR'}, {'name': 'Grace Tabone', 'id': 'K4XO8G8DMRNSHF2B'}, {'name': 'Shafqat Memon', 'id': 'D8VFLVRXBXMVBRVI'}, {'name': 'Zeynep Semet', 'id': 'Z324TZV8S0FGDSAO'}, {'name': 'Meladi Papo', 'id': 'RJAZQ6BBLRT72CD9'}, {'name': 'Semet Alim', 'id': 'HI7L2SR4RCS8C8CS'}, {'name': 'Sabela Veloso', 'id': 'QA55WXDLC7SRH97X'}, {'name': 'Madule Ledimo', 'id': 'IHJN2DGJB5O1Y00D'}, {'name': 'Michelle Caruana', 'id': 'EG1I21R75IV9Q0Q8'}, {'name': 'Philip Camilleri', 'id': 'FCO0URUHARX5FDFW'}, {'name': 'Olalla Romeu', 'id': 'WOCMVO6CYPG01ZHY'}, {'name': 'Gulnur Perhat', 'id': 'VO3M22TTQMBA2XEM'}, {'name': 'Hunadi Makgatho', 'id': 'MRJDOV2MU7PTCDXE'}, {'name': 'Charmaine Abela', 'id': 'F6FJP1QDJL944X4Z'}, {'name': 'Tumelò Letamo', 'id': 'F8BL9NPIKV0OWO1X'}, {'name': 'Aneela Mohan', 'id': 'CRYN52CXKNJU0YXU'}, {'name': 'Koketšo Montjane', 'id': '0TTAMXC9TENQCA2O'}, {'name': 'Tegra Núnez', 'id': 'NC1ZUV6B853BZZCW'}, {'name': 'Dilnur Qeyser', 'id': 'JVQ8RQ4YRPGLFMR8'}, {'name': 'Tania Agius', 'id': 'WTDGKLDWJLR1BJKR'}, {'name': 'Iago Peirallo', 'id': 'D51G7XQTX2SPHR52'}, {'name': 'Mpho Lamola', 'id': 'UGL8EOTXYBW1ILLW'}, {'name': 'Josephine Balzan', 'id': '4OLTG6QD0A2VB432'}, {'name': 'Thabò Motongwane', 'id': 'NROE4ZZVGKZGDFNO'}, {'name': 'Mmathabò Mojapelo', 'id': 'VXJDXYPV5L300IFW'}, {'name': 'Kgabo Lerumo', 'id': 'D63WWKQE2R4TFDIL'}, {'name': 'Lawrence Scicluna', 'id': '0KDA7XKZNNZWL2SR'}, {'name': 'Iria Xamardo', 'id': 'ULUDKBP9PHBGHX2J'}, {'name': 'Joseph Grech', 'id': 'T4P1164RJBJ8S6XD'}, {'name': 'Napogadi Selepe', 'id': 'AJK91MKRFIHAQHHG'}, {'name': 'Lesetja Theko', 'id': 'AATM20BURO1DHDAE'}, {'name': 'Martiño Arxíz', 'id': 'CQ56N9MH3WK7H5YQ'}, {'name': 'Malehumò Ledwaba', 'id': 'E4F3HGRTKQKCT1SE'}, {'name': 'Musa Yasin', 'id': '1AF8GIQZ1LF8QW0U'}, {'name': 'Lajwanti Kumari', 'id': 'INRW3R54RAY7J9IS'}, {'name': 'Maria Sammut', 'id': 'BJRF0BWIHJ0Q12A1'}, {'name': 'Rita Busuttil', 'id': '1QLMU6QZ7EYUNNZV'}, {'name': 'Roi Fraguela', 'id': 'UAT0M2O42E9M4SFT'}, {'name': 'Matome Molamo', 'id': '7HI0UZZLRB9N5CBI'}, {'name': 'Mapula Selokela', 'id': '6ZQTOKQI6K82EE9Q'}, {'name': 'Noa Ervello', 'id': 'W9FR842CI16V8NU3'}, {'name': 'Naseem Kakepoto', 'id': '6C7HZV4WPV9C9KS6'}, {'name': 'sayama Amir', 'id': '7K4IJT1X7G0EK9WC'}, {'name': 'Mariña Quintá', 'id': '7GXC4OQYXX5JJY9F'}, {'name': 'Memet Tursun', 'id': 'KSFMV2JK2D553083'}, {'name': 'Carmen Vella', 'id': 'WUALBIMS4E8JS4L2'}, {'name': 'Sobia Khanam', 'id': 'YG1ERFWBJ7TIW35D'}, {'name': 'Raheela Ali', 'id': '7JGX9SMLD5DE2IMG'}, {'name': 'Rashid Rajput', 'id': 'UNBGUGDUATATCLS4'}, {'name': 'Uxía Feal', 'id': '35ZPXUNH1M6W3ZJP'}, {'name': 'Andrew Fenech', 'id': 'VEYKDKL8L0R0C7GQ'}, {'name': 'Nicholas Micallef', 'id': 'ZYCAI905154LSICR'}, {'name': 'Paul Borg', 'id': '8AD5MMJ0TD0NJ6H2'}, {'name': 'Sara Saleem', 'id': '5LPKMTZI7OPSJRBA'}, {'name': 'Xurxo Golán', 'id': '526ZUSGXEETODHJK'}, {'name': 'Peter Zammit', 'id': 'NNRT5QWNWO2WLS5V'}, {'name': 'Maname Mohlare', 'id': 'KZJZ9SD0DIWTIBUC'}, {'name': 'Tshepè Mobu', 'id': '8CH586LQR7ZCP73P'}, {'name': 'Monica Lohana', 'id': 'KP1C2WN3DN1R3Y52'}, {'name': 'Patigul Rahman', 'id': 'NXMNLB0SOYET1VMN'}, {'name': 'Joanne Scerri', 'id': 'H8FJ2WKLGGF3K26U'}, {'name': 'Ratanang Maphutha', 'id': 'EZXJTQQ2JWPB5DI3'}, {'name': 'Kamil Mehmud', 'id': 'M24A9OMYPSX7FD16'}, {'name': 'Thobile Mbele', 'id': '631M00M8YFFBC5NC'}, {'name': 'Kristján Kristjánsson', 'id': '0WT0ZW50DNSTCHKW'}, {'name': 'Stefán Stefánsson', 'id': '1UOL8UK8BWAOSYTC'}, {'name': 'Preeti Rajdan', 'id': '3UN0X88Y4WYH3X8X'}, {'name': 'Sanjay Trivedi', 'id': 'CPHR246457BD01KY'}, {'name': 'Smiriti Sisodiya', 'id': 'X3KWIL5KEHTMCKOM'}, {'name': 'Sandeep Benarjee', 'id': '9TS6CIE3UAIFG2IB'}, {'name': 'Damir Benic', 'id': 'QUNL9VBRHUGNOFMJ'}, {'name': 'Sigrún Kristjánsdóttir', 'id': 'BT1Q0NUPKHDVCFLE'}, {'name': 'Basetsana Thage', 'id': 'R9P3P2IAN7NY2X2Y'}, {'name': 'Rajesh Santoshi', 'id': 'OXQTFZHZW8SVE3SY'}, {'name': 'Margrét Magnúsdóttir', 'id': '1P6VZEDGK2XUU97L'}, {'name': 'Makhosi Ngiba', 'id': 'CTM3Y3TZOLC7TPDU'}, {'name': 'Lorato Bogosi', 'id': 'EEZ0KS5E0RXACAIA'}, {'name': 'Modisaotsile Bolokwe', 'id': 'DN068KNEOAQ8LM19'}, {'name': 'Mxolisi Mhlongo', 'id': 'Q2HFB19RPLHIZXKH'}, {'name': 'Moni Sisodiya', 'id': '3CR7CN74GCKXWUQF'}, {'name': 'Anna Jónsdóttir', 'id': 'CKJW1XVW90VWO4Y1'}, {'name': 'Darko Basic', 'id': 'FWT1CZQOIVRJTXRD'}, {'name': 'Kedibonye Magogwe', 'id': 'PCT0HLRPZLDSSDU1'}, {'name': 'Nobuhle Xaba', 'id': '5K1K8V1OUUFKQ2UV'}, {'name': 'Monty Dubey', 'id': 'B7SF955NFGAEBRXU'}, {'name': 'Richa Choukse', 'id': 'BADWLBP8CNJNBEC8'}, {'name': 'Dzenan Imamovic', 'id': 'FVAHD0OY99X9DIRW'}, {'name': 'Amol Bhatnagar', 'id': '3HPSETKL9VOW2WTL'}, {'name': 'Ingibjörg Ólafsdóttir', 'id': '9BXLMMM1PQOZRHCR'}, {'name': 'Shweta Chourasia', 'id': '9GAO62FXPQMUTTLJ'}, {'name': 'Ayanda Ndimande', 'id': 'VPK9MQRKX2L847HQ'}, {'name': 'Sigurjón Guðmundsson', 'id': 'IAYT285H2U8JU94F'}, {'name': 'Jóhannes Jóhannsson', 'id': 'J2RAROEJGKMR72I8'}, {'name': 'Neo Dikgaka', 'id': 'OQRF6Y37N20JILOC'}, {'name': 'Sanja Jankovic', 'id': 'HD94EKIPA6WAL05C'}, {'name': 'Mogorosi Bakwena', 'id': 'FTZM8YDJJUH1OEM7'}, {'name': 'Ronak Gupta', 'id': 'ZYPDGK8UDYJPTRKN'}, {'name': 'Ditiro Kgosi', 'id': '67C5ET66U59WYJ6K'}, {'name': 'Jelena Maric', 'id': 'JTW9DH3B9QGB39JY'}, {'name': 'Esha Sastry', 'id': '4OJULHY03Z6XTRMW'}, {'name': 'Chetana Hegde', 'id': 'J9GS1RODDZL325LK'}, {'name': 'Rahul Shukla', 'id': '2ANVMAVG6YX2VT6N'}, {'name': 'Samra Delic', 'id': 'BXJWNTJ2TDID61PJ'}, {'name': 'Mohan Pandey', 'id': 'XAHKVLM3I1WSPNIW'}, {'name': 'Haris Osmanovic', 'id': 'ZDXF5KESMW9XF2TJ'}, {'name': 'Kenosi Kwenaemang', 'id': 'DX2IYTQ9IMY75W08'}, {'name': 'Nontobeko Nzimande', 'id': 'Y9C4HQHTOP74DFZT'}, {'name': 'Sanjay Puranik', 'id': 'WF2WP6S0HX8GR8GZ'}, {'name': 'Sethunya Mpšwe', 'id': '85MVUXVQ5H5HPA4F'}, {'name': 'Dileep Chaturvedi', 'id': 'O95BY1KDMCEYQRFH'}, {'name': 'Adnan Spahic', 'id': '97IIDMHAJMBPI4ON'}, {'name': 'Madhur Jain', 'id': 'FM300CZ0VU9LTNTE'}, {'name': 'Nayan Mittal', 'id': 'S879KFFIHDNK8GSE'}, {'name': 'Kabelo Morwe', 'id': 'JJDPB2983QRVATD3'}, {'name': 'Einar Einarsson', 'id': 'ZWMFEUEBNYTW2WPB'}, {'name': 'Luka Lovren', 'id': '9S4SGEQWBKMRISYZ'}, {'name': 'Sigríður Einarsdóttir', 'id': '4IJVD6OE3C7IX3ZG'}, {'name': 'Sonu Jain', 'id': '0OIB5SU9JB2PBJDV'}, {'name': 'Boitumelo Ngwako', 'id': 'INZITSS95L9V52JE'}, {'name': 'Shilpa Bhatia', 'id': 'SU0W3T6TF8G3JY5M'}, {'name': 'Modise Tau', 'id': 'U6SF3N4JXJEQSC1P'}, {'name': 'Reena Shrivastav', 'id': 'Y57EEOVURYX1OA1P'}, {'name': 'Thabani Ngubani', 'id': 'LR7FI8WEE3SLTW02'}, {'name': 'Gunnar Gunnarsson', 'id': 'UVI6EKJNMC3VE3WU'}, {'name': 'Lejla Selimagic', 'id': 'ESBBT644VZ64SSEN'}, {'name': 'Kgosietsile Bogatsu', 'id': '0B8IOVL2NSVJVV6T'}, {'name': 'Sushant Bhargav', 'id': 'PRWA7HE1GJ7OCYQM'}, {'name': 'Monika Nayak', 'id': 'RO0ZCWFTY6MJ66AZ'}, {'name': 'Guðrún Guðmundsdóttir', 'id': 'R1TRJT5TWANYO88D'}, {'name': 'Shakti Menon', 'id': 'J1NSHQXRWA7CY0AZ'}, {'name': 'Ndumiso Hlatshwayo', 'id': '533XA8H67VO8CSGQ'}, {'name': 'Lucky Shastry', 'id': '3OBF3U08WI1QF63N'}, {'name': 'Pule Matlhaku', 'id': 'UPATVXM44DAFUDI7'}, {'name': 'Raju Rathore', 'id': 'QQMNYP788DEFG4IS'}, {'name': 'Xolani Ngcobo', 'id': 'SXWZ4IYT5VZA6WEE'}, {'name': 'Meenakshi Benjaree', 'id': '933PPBA946YX1K4X'}, {'name': 'Ólafur Magnússon', 'id': 'NWY9HV455M3W8QKY'}, {'name': 'Samir Simic', 'id': '6H2IO7A62ZVUXGKZ'}, {'name': 'Swarnika Soni', 'id': '4GJF8C6P1Y5RFPMC'}, {'name': 'Lavanya Mittal', 'id': '4Z09CO5IJH7CEUD2'}, {'name': 'Bontle Mokgatle', 'id': '4Y497GAOTAFUJDIC'}, {'name': 'Prashant Chourey', 'id': 'J4NMMNAALGOIZY8V'}, {'name': 'Prakash Malviya', 'id': 'P442H9CEHIU6HAFV'}, {'name': 'Ivana Kalic', 'id': '31VIE8WWDJWKE5YL'}, {'name': 'Ajeet Vasav', 'id': 'ODNPTWVSRBPII0BH'}, {'name': 'Jóhanna Jóhannsdóttir', 'id': 'ZI21GM8B08FVLMF0'}, {'name': 'Seema Thapar', 'id': 'IZSO10C5ZHVYQ5O2'}, {'name': 'María Stefánsdóttir', 'id': 'KWH2RVHSB25MYGL9'}, {'name': 'Denis Terzic', 'id': '1WQO4VGBS2U7DOSL'}, {'name': 'Ana Livic', 'id': '8JYVK7SM07YQOVQ3'}, {'name': 'Bukhosi Bhengu', 'id': 'AFYXL0UNGMU0B1H2'}, {'name': 'Siyabonga Sithole', 'id': 'NJDX77JXV51CNGF5'}, {'name': 'Meena Dubey', 'id': 'GCJGYXSPDEFF9BTN'}, {'name': 'Chandrika Gupta', 'id': '7KFJHS86WKTL6Q12'}, {'name': 'Akhilesh Khare', 'id': 'ATINHMT01VNMMDCP'}, {'name': 'Motsumi Basiang', 'id': 'MUELSFQENUOHGBZ3'}, {'name': 'Neha Benjaree', 'id': '5VTSZUD0SA9JVL40'}, {'name': 'Kristín Sigurðardóttir', 'id': 'ZP5TBBYX6RI2UJ31'}, {'name': 'Rohini Vasav', 'id': 'UEFML43TCGS04KWM'}, {'name': 'Sunil Kapoor', 'id': 'VY2A0APGVHK5NAW2'}, {'name': 'Zamokuhle Zulu', 'id': 'XU7BX2F8M5PVZ1EF'}, {'name': 'Bhupesh Menon', 'id': '0CEPNRDV98KT3ORP'}]}\n"
     ]
    }
   ],
   "source": [
    "names_data = {\n",
    "    \"name_id\": [\n",
    "        {\"name\": data[\"name\"], \"id\": data[\"id\"]} for data in cust\n",
    "    ]\n",
    "}\n",
    "\n",
    "print(names_data)\n"
   ]
  },
  {
   "cell_type": "code",
   "execution_count": 101,
   "id": "74cca469",
   "metadata": {},
   "outputs": [],
   "source": [
    "import pandas as pd"
   ]
  },
  {
   "cell_type": "code",
   "execution_count": 103,
   "id": "cd931688",
   "metadata": {},
   "outputs": [],
   "source": [
    "df=pd.DataFrame.from_dict(names_data,orient=\"index\")"
   ]
  },
  {
   "cell_type": "code",
   "execution_count": 104,
   "id": "1ca55162",
   "metadata": {},
   "outputs": [],
   "source": [
    "df.to_excel(\"CustomerNames.xlsx\",index_label=\"Names\")"
   ]
  },
  {
   "cell_type": "code",
   "execution_count": null,
   "id": "35f45a00",
   "metadata": {},
   "outputs": [],
   "source": []
  }
 ],
 "metadata": {
  "kernelspec": {
   "display_name": "Python 3 (ipykernel)",
   "language": "python",
   "name": "python3"
  },
  "language_info": {
   "codemirror_mode": {
    "name": "ipython",
    "version": 3
   },
   "file_extension": ".py",
   "mimetype": "text/x-python",
   "name": "python",
   "nbconvert_exporter": "python",
   "pygments_lexer": "ipython3",
   "version": "3.9.13"
  }
 },
 "nbformat": 4,
 "nbformat_minor": 5
}
