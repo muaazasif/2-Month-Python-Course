{
 "cells": [
  {
   "cell_type": "markdown",
   "id": "5d501f7c",
   "metadata": {},
   "source": [
    "# Class 01"
   ]
  },
  {
   "cell_type": "code",
   "execution_count": 2,
   "id": "b285e866",
   "metadata": {},
   "outputs": [
    {
     "name": "stdout",
     "output_type": "stream",
     "text": [
      "Class 01\n"
     ]
    }
   ],
   "source": [
    "print(\"Class 01\")"
   ]
  },
  {
   "cell_type": "code",
   "execution_count": 7,
   "id": "f4e501b4",
   "metadata": {},
   "outputs": [],
   "source": [
    "cloth = \"pent shirt\""
   ]
  },
  {
   "cell_type": "code",
   "execution_count": 8,
   "id": "36e042b5",
   "metadata": {},
   "outputs": [
    {
     "data": {
      "text/plain": [
       "str"
      ]
     },
     "execution_count": 8,
     "metadata": {},
     "output_type": "execute_result"
    }
   ],
   "source": [
    "type(cloth)"
   ]
  },
  {
   "cell_type": "code",
   "execution_count": 19,
   "id": "bbab8ac2",
   "metadata": {},
   "outputs": [],
   "source": [
    "# mere age the 2024\n",
    "age=25"
   ]
  },
  {
   "cell_type": "code",
   "execution_count": 10,
   "id": "0eda8ee0",
   "metadata": {},
   "outputs": [
    {
     "data": {
      "text/plain": [
       "int"
      ]
     },
     "execution_count": 10,
     "metadata": {},
     "output_type": "execute_result"
    }
   ],
   "source": [
    "type(age)"
   ]
  },
  {
   "cell_type": "code",
   "execution_count": 11,
   "id": "0ea8e076",
   "metadata": {},
   "outputs": [],
   "source": [
    "weight=74.6"
   ]
  },
  {
   "cell_type": "code",
   "execution_count": 12,
   "id": "634501d8",
   "metadata": {},
   "outputs": [
    {
     "data": {
      "text/plain": [
       "float"
      ]
     },
     "execution_count": 12,
     "metadata": {},
     "output_type": "execute_result"
    }
   ],
   "source": [
    "type(weight)"
   ]
  },
  {
   "cell_type": "code",
   "execution_count": 13,
   "id": "20ad48d6",
   "metadata": {},
   "outputs": [],
   "source": [
    "gender=True"
   ]
  },
  {
   "cell_type": "code",
   "execution_count": 14,
   "id": "c097065e",
   "metadata": {},
   "outputs": [
    {
     "data": {
      "text/plain": [
       "bool"
      ]
     },
     "execution_count": 14,
     "metadata": {},
     "output_type": "execute_result"
    }
   ],
   "source": [
    "type(gender)"
   ]
  },
  {
   "cell_type": "code",
   "execution_count": 22,
   "id": "c3a5fc81",
   "metadata": {},
   "outputs": [],
   "source": [
    "# current age\n",
    "age=age+1\n",
    "\n"
   ]
  },
  {
   "cell_type": "code",
   "execution_count": 23,
   "id": "72ea9e60",
   "metadata": {},
   "outputs": [
    {
     "data": {
      "text/plain": [
       "26"
      ]
     },
     "execution_count": 23,
     "metadata": {},
     "output_type": "execute_result"
    }
   ],
   "source": [
    "age"
   ]
  },
  {
   "cell_type": "code",
   "execution_count": 25,
   "id": "8e02822c",
   "metadata": {},
   "outputs": [
    {
     "data": {
      "text/plain": [
       "26"
      ]
     },
     "execution_count": 25,
     "metadata": {},
     "output_type": "execute_result"
    }
   ],
   "source": [
    "age"
   ]
  },
  {
   "cell_type": "code",
   "execution_count": 34,
   "id": "9f9584e8",
   "metadata": {},
   "outputs": [],
   "source": [
    "original_num = 23\n",
    "new_num = original_num + 7"
   ]
  },
  {
   "cell_type": "code",
   "execution_count": 35,
   "id": "4b3e3892",
   "metadata": {},
   "outputs": [
    {
     "data": {
      "text/plain": [
       "35"
      ]
     },
     "execution_count": 35,
     "metadata": {},
     "output_type": "execute_result"
    }
   ],
   "source": [
    "new_num+5"
   ]
  },
  {
   "cell_type": "code",
   "execution_count": 36,
   "id": "19b68178",
   "metadata": {},
   "outputs": [
    {
     "data": {
      "text/plain": [
       "20"
      ]
     },
     "execution_count": 36,
     "metadata": {},
     "output_type": "execute_result"
    }
   ],
   "source": [
    "new_num-10"
   ]
  },
  {
   "cell_type": "code",
   "execution_count": 37,
   "id": "aa1a9c4d",
   "metadata": {},
   "outputs": [
    {
     "data": {
      "text/plain": [
       "150"
      ]
     },
     "execution_count": 37,
     "metadata": {},
     "output_type": "execute_result"
    }
   ],
   "source": [
    "new_num * 5"
   ]
  },
  {
   "cell_type": "code",
   "execution_count": 38,
   "id": "6ea862a2",
   "metadata": {},
   "outputs": [
    {
     "data": {
      "text/plain": [
       "6.0"
      ]
     },
     "execution_count": 38,
     "metadata": {},
     "output_type": "execute_result"
    }
   ],
   "source": [
    "new_num / 5"
   ]
  },
  {
   "cell_type": "code",
   "execution_count": 42,
   "id": "954cc092",
   "metadata": {},
   "outputs": [],
   "source": [
    "num = 10\n",
    "another_num = 1.5\n",
    "sum_of_numbers = num + another_num"
   ]
  },
  {
   "cell_type": "code",
   "execution_count": 43,
   "id": "95707022",
   "metadata": {},
   "outputs": [
    {
     "data": {
      "text/plain": [
       "11.5"
      ]
     },
     "execution_count": 43,
     "metadata": {},
     "output_type": "execute_result"
    }
   ],
   "source": [
    "sum_of_numbers"
   ]
  },
  {
   "cell_type": "code",
   "execution_count": 44,
   "id": "4073ad8a",
   "metadata": {},
   "outputs": [
    {
     "data": {
      "text/plain": [
       "'Muaaz'"
      ]
     },
     "execution_count": 44,
     "metadata": {},
     "output_type": "execute_result"
    }
   ],
   "source": [
    "user_name=\"Muaaz\"\n",
    "user_name"
   ]
  },
  {
   "cell_type": "code",
   "execution_count": 45,
   "id": "803f120f",
   "metadata": {},
   "outputs": [
    {
     "data": {
      "text/plain": [
       "1"
      ]
     },
     "execution_count": 45,
     "metadata": {},
     "output_type": "execute_result"
    }
   ],
   "source": [
    "whats_left_over = 10 % 3\n",
    "whats_left_over"
   ]
  },
  {
   "cell_type": "code",
   "execution_count": 46,
   "id": "7a90a284",
   "metadata": {},
   "outputs": [
    {
     "data": {
      "text/plain": [
       "0"
      ]
     },
     "execution_count": 46,
     "metadata": {},
     "output_type": "execute_result"
    }
   ],
   "source": [
    "whats_left_over = 9 % 3\n",
    "whats_left_over"
   ]
  },
  {
   "cell_type": "code",
   "execution_count": 47,
   "id": "0bfb8e1e",
   "metadata": {},
   "outputs": [
    {
     "data": {
      "text/plain": [
       "26"
      ]
     },
     "execution_count": 47,
     "metadata": {},
     "output_type": "execute_result"
    }
   ],
   "source": [
    "age"
   ]
  },
  {
   "cell_type": "code",
   "execution_count": 48,
   "id": "c263aa88",
   "metadata": {},
   "outputs": [],
   "source": [
    "age *=1"
   ]
  },
  {
   "cell_type": "code",
   "execution_count": 49,
   "id": "f25b1871",
   "metadata": {},
   "outputs": [
    {
     "data": {
      "text/plain": [
       "26"
      ]
     },
     "execution_count": 49,
     "metadata": {},
     "output_type": "execute_result"
    }
   ],
   "source": [
    "age"
   ]
  },
  {
   "cell_type": "code",
   "execution_count": 50,
   "id": "24350403",
   "metadata": {},
   "outputs": [],
   "source": [
    "age = 12\n",
    "amount_to_increment = 3\n",
    "age += amount_to_increment\n"
   ]
  },
  {
   "cell_type": "code",
   "execution_count": 51,
   "id": "66ddf5ef",
   "metadata": {},
   "outputs": [
    {
     "data": {
      "text/plain": [
       "15"
      ]
     },
     "execution_count": 51,
     "metadata": {},
     "output_type": "execute_result"
    }
   ],
   "source": [
    "age"
   ]
  },
  {
   "cell_type": "code",
   "execution_count": 52,
   "id": "35c2c229",
   "metadata": {},
   "outputs": [],
   "source": [
    "total_cost = 1 + (3 * 4)"
   ]
  },
  {
   "cell_type": "code",
   "execution_count": 53,
   "id": "de71ff7d",
   "metadata": {},
   "outputs": [
    {
     "data": {
      "text/plain": [
       "13"
      ]
     },
     "execution_count": 53,
     "metadata": {},
     "output_type": "execute_result"
    }
   ],
   "source": [
    "total_cost"
   ]
  },
  {
   "cell_type": "code",
   "execution_count": 54,
   "id": "3afa2e7f",
   "metadata": {},
   "outputs": [
    {
     "data": {
      "text/plain": [
       "48"
      ]
     },
     "execution_count": 54,
     "metadata": {},
     "output_type": "execute_result"
    }
   ],
   "source": [
    "result_of_computation = (2 * 4) * (4 + 2)\n",
    "result_of_computation"
   ]
  },
  {
   "cell_type": "code",
   "execution_count": 55,
   "id": "92f384c6",
   "metadata": {},
   "outputs": [
    {
     "name": "stdout",
     "output_type": "stream",
     "text": [
      "Hello, World!\n"
     ]
    }
   ],
   "source": [
    "print(\"Hello, World!\")"
   ]
  },
  {
   "cell_type": "code",
   "execution_count": 56,
   "id": "98c623c4",
   "metadata": {},
   "outputs": [],
   "source": [
    "greeting = \"Hello\"\n",
    "addressee = \"World\""
   ]
  },
  {
   "cell_type": "code",
   "execution_count": 59,
   "id": "7aba464a",
   "metadata": {},
   "outputs": [],
   "source": [
    "whole_greeting = greeting + \" \" + addressee"
   ]
  },
  {
   "cell_type": "code",
   "execution_count": 60,
   "id": "a4e6be56",
   "metadata": {},
   "outputs": [
    {
     "data": {
      "text/plain": [
       "'Hello World'"
      ]
     },
     "execution_count": 60,
     "metadata": {},
     "output_type": "execute_result"
    }
   ],
   "source": [
    "whole_greeting"
   ]
  },
  {
   "cell_type": "code",
   "execution_count": 61,
   "id": "3de1f097",
   "metadata": {},
   "outputs": [
    {
     "name": "stdout",
     "output_type": "stream",
     "text": [
      "Hello, World!\n"
     ]
    }
   ],
   "source": [
    "greeting = \"Hello\"\n",
    "separators = \", \"\n",
    "addressee = \"World\"\n",
    "punc = \"!\"\n",
    "whole_greeting = greeting + separators + addressee + punc\n",
    "print(whole_greeting)"
   ]
  },
  {
   "cell_type": "code",
   "execution_count": 63,
   "id": "8d7069d0",
   "metadata": {},
   "outputs": [
    {
     "name": "stdout",
     "output_type": "stream",
     "text": [
      "The sum of 2 plus 2 is  4\n"
     ]
    }
   ],
   "source": [
    "print(\"The sum of 2 plus 2 is \" , 4)"
   ]
  },
  {
   "cell_type": "code",
   "execution_count": 64,
   "id": "a8c18430",
   "metadata": {},
   "outputs": [
    {
     "name": "stdout",
     "output_type": "stream",
     "text": [
      "The sum of 2 plus 2 is 4\n"
     ]
    }
   ],
   "source": [
    "print(\"The sum of 2 plus 2 is \" + \"4\")\n"
   ]
  },
  {
   "cell_type": "code",
   "execution_count": 76,
   "id": "ddf35904",
   "metadata": {},
   "outputs": [
    {
     "name": "stdout",
     "output_type": "stream",
     "text": [
      "yep,it's Dog\n"
     ]
    }
   ],
   "source": [
    "store=\"dog\"\n",
    "if store == \"cat\":\n",
    "    print(\"Yep, it's cat.\")\n",
    "else:\n",
    "    print(\"yep,it's Dog\")"
   ]
  },
  {
   "cell_type": "code",
   "execution_count": 73,
   "id": "93c9b1a6",
   "metadata": {},
   "outputs": [
    {
     "name": "stdout",
     "output_type": "stream",
     "text": [
      "Everything makes sense.\n"
     ]
    }
   ],
   "source": [
    "if 2 + 2 == 4:\n",
    "    print(\"Everything makes sense.\")"
   ]
  },
  {
   "cell_type": "code",
   "execution_count": 77,
   "id": "9d48daa2",
   "metadata": {},
   "outputs": [
    {
     "ename": "NameError",
     "evalue": "name 'your_ticket_number' is not defined",
     "output_type": "error",
     "traceback": [
      "\u001b[1;31m---------------------------------------------------------------------------\u001b[0m",
      "\u001b[1;31mNameError\u001b[0m                                 Traceback (most recent call last)",
      "\u001b[1;32m~\\AppData\\Local\\Temp\\ipykernel_4996\\3338432481.py\u001b[0m in \u001b[0;36m<module>\u001b[1;34m\u001b[0m\n\u001b[1;32m----> 1\u001b[1;33m \u001b[1;32mif\u001b[0m \u001b[0myour_ticket_number\u001b[0m \u001b[1;33m!=\u001b[0m \u001b[1;36m487208\u001b[0m\u001b[1;33m:\u001b[0m\u001b[1;33m\u001b[0m\u001b[1;33m\u001b[0m\u001b[0m\n\u001b[0m\u001b[0;32m      2\u001b[0m     \u001b[0mprint\u001b[0m\u001b[1;33m(\u001b[0m\u001b[1;34m\"Better luck next time.\"\u001b[0m\u001b[1;33m)\u001b[0m\u001b[1;33m\u001b[0m\u001b[1;33m\u001b[0m\u001b[0m\n",
      "\u001b[1;31mNameError\u001b[0m: name 'your_ticket_number' is not defined"
     ]
    }
   ],
   "source": [
    "if your_ticket_number != 487208:\n",
    "    print(\"Better luck next time.\")\n"
   ]
  },
  {
   "cell_type": "code",
   "execution_count": 78,
   "id": "6aedd81c",
   "metadata": {},
   "outputs": [
    {
     "name": "stdout",
     "output_type": "stream",
     "text": [
      "Nope, not cat.\n"
     ]
    }
   ],
   "source": [
    "if store == \"cat\":\n",
    "    print(\"Yep, it's cat.\")\n",
    "if store != \"cat\":\n",
    "    print(\"Nope, not cat.\")"
   ]
  },
  {
   "cell_type": "code",
   "execution_count": 4,
   "id": "6b99a653",
   "metadata": {},
   "outputs": [],
   "source": [
    "buy_score = 0\n",
    "donut_condition=\"fresh\"\n",
    "if donut_condition == \"fresh\":\n",
    "    buy_score += 10"
   ]
  },
  {
   "cell_type": "code",
   "execution_count": 5,
   "id": "c9e622f7",
   "metadata": {},
   "outputs": [
    {
     "data": {
      "text/plain": [
       "10"
      ]
     },
     "execution_count": 5,
     "metadata": {},
     "output_type": "execute_result"
    }
   ],
   "source": [
    "buy_score"
   ]
  },
  {
   "cell_type": "code",
   "execution_count": null,
   "id": "3577e1bf",
   "metadata": {},
   "outputs": [],
   "source": []
  }
 ],
 "metadata": {
  "kernelspec": {
   "display_name": "Python 3 (ipykernel)",
   "language": "python",
   "name": "python3"
  },
  "language_info": {
   "codemirror_mode": {
    "name": "ipython",
    "version": 3
   },
   "file_extension": ".py",
   "mimetype": "text/x-python",
   "name": "python",
   "nbconvert_exporter": "python",
   "pygments_lexer": "ipython3",
   "version": "3.9.13"
  }
 },
 "nbformat": 4,
 "nbformat_minor": 5
}
